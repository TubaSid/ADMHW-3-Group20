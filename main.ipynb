{
  "cells": [
    {
      "cell_type": "markdown",
      "source": [
        "Tuba Siddiqui 2047057\n",
        " and Erica Capocello 1862113"
      ],
      "metadata": {
        "id": "gTiE8ypQKXgE"
      }
    },
    {
      "cell_type": "markdown",
      "metadata": {
        "id": "heisumfxofCi"
      },
      "source": [
        "#**DATA COLLECTION**\n",
        "##***1.1. Get the list of places***\n"
      ]
    },
    {
      "cell_type": "code",
      "execution_count": null,
      "metadata": {
        "id": "BlXzw4SBm7oh"
      },
      "outputs": [],
      "source": [
        "import lxml \n",
        "import os \n",
        "import requests \n",
        "import urllib.request \n",
        "import time \n",
        "import codecs \n",
        "import pandas as pd \n",
        "import csv \n",
        "from bs4 import BeautifulSoup \n",
        "from tqdm import tqdm \n",
        "from datetime import datetime\n",
        "from google.colab import drive \n",
        "import urllib.request, urllib.error, urllib.parse\n",
        "from dateutil.parser import parse\n",
        "import datetime\n",
        "import pandas\n",
        "import spacy"
      ]
    },
    {
      "cell_type": "code",
      "execution_count": null,
      "metadata": {
        "colab": {
          "base_uri": "https://localhost:8080/"
        },
        "id": "huqFH-F6qElX",
        "outputId": "b4a194f5-d7f0-469f-e270-a87fab263e4f"
      },
      "outputs": [
        {
          "output_type": "stream",
          "name": "stdout",
          "text": [
            "Drive already mounted at /content/drive/; to attempt to forcibly remount, call drive.mount(\"/content/drive/\", force_remount=True).\n"
          ]
        }
      ],
      "source": [
        "drive.mount('/content/drive/')\n"
      ]
    },
    {
      "cell_type": "code",
      "execution_count": null,
      "metadata": {
        "colab": {
          "base_uri": "https://localhost:8080/"
        },
        "id": "NcpgsQ8nrpEi",
        "outputId": "f403f45d-391f-406e-c5dc-5dc20f7f3868"
      },
      "outputs": [
        {
          "output_type": "stream",
          "name": "stderr",
          "text": [
            "100%|██████████| 3/3 [00:02<00:00,  1.30it/s]\n"
          ]
        }
      ],
      "source": [
        "link = open(\"/content/drive/MyDrive/ADM/places.txt\", \"w\")\n",
        "\n",
        "for i in tqdm(range(1,4)): \n",
        "  url = 'https://www.atlasobscura.com/places?page=' + str(i) + '&sort=likes_count'\n",
        "  response = requests.get(url)\n",
        "  soup = BeautifulSoup(response.content, features = 'lxml')\n",
        "  for a in soup.find_all('a', class_ =\"content-card content-card-place\"):\n",
        "    link.write(a.get('href')+ '\\n')\n",
        "\n",
        "link.close()\n"
      ]
    },
    {
      "cell_type": "markdown",
      "metadata": {
        "id": "UOuOtIib6Afj"
      },
      "source": [
        "##***1.2. Crawl places***"
      ]
    },
    {
      "cell_type": "code",
      "execution_count": null,
      "metadata": {
        "colab": {
          "base_uri": "https://localhost:8080/"
        },
        "id": "T3oLA5zkr3gU",
        "outputId": "936331d9-f707-4474-8ff0-ec0994019964"
      },
      "outputs": [
        {
          "output_type": "stream",
          "name": "stdout",
          "text": [
            "['/content/drive/MyDrive/ADM/page1/city-hall-station.html', '/content/drive/MyDrive/ADM/page1/highgate-cemetery.html', '/content/drive/MyDrive/ADM/page1/leadenhall-market.html', '/content/drive/MyDrive/ADM/page1/wave-organ.html', '/content/drive/MyDrive/ADM/page1/catacombes-de-paris.html', '/content/drive/MyDrive/ADM/page1/evolution-store.html', '/content/drive/MyDrive/ADM/page1/magowans-infinite-mirror-maze.html', '/content/drive/MyDrive/ADM/page1/underground-tunnels-los-angeles.html', '/content/drive/MyDrive/ADM/page1/secret-tiled-staircase.html', '/content/drive/MyDrive/ADM/page1/dream-house.html', '/content/drive/MyDrive/ADM/page1/the-museum-of-death-los-angeles-california.html', '/content/drive/MyDrive/ADM/page1/gods-own-junkyard.html', '/content/drive/MyDrive/ADM/page1/last-bookstore.html', '/content/drive/MyDrive/ADM/page1/the-ruins-of-st-dunstan-in-the-east-london-england.html', '/content/drive/MyDrive/ADM/page1/echo-park-time-travel-mart.html', '/content/drive/MyDrive/ADM/page1/fingal-s-cave.html', '/content/drive/MyDrive/ADM/page1/wave-rock.html', '/content/drive/MyDrive/ADM/page1/winchester-mystery-house.html', '/content/drive/MyDrive/ADM/page2/roosevelt-island-smallpox-hospital-ruins.html', '/content/drive/MyDrive/ADM/page2/eastern-state-penitentiary.html', '/content/drive/MyDrive/ADM/page2/mutter-museum.html', '/content/drive/MyDrive/ADM/page2/antelope-canyon.html', '/content/drive/MyDrive/ADM/page2/the-elevated-acre-new-york-new-york.html', '/content/drive/MyDrive/ADM/page2/fly-ranch-geyser.html', '/content/drive/MyDrive/ADM/page2/thor-s-well.html', '/content/drive/MyDrive/ADM/page2/mmuseumm-2.html', '/content/drive/MyDrive/ADM/page2/seward-street-slides.html', '/content/drive/MyDrive/ADM/page2/ghibli-museum.html', '/content/drive/MyDrive/ADM/page2/spreepark.html', '/content/drive/MyDrive/ADM/page2/twinings-tea-shop.html', '/content/drive/MyDrive/ADM/page2/the-witches-castle-portland-oregon.html', '/content/drive/MyDrive/ADM/page2/mount-moriah-cemetery.html', '/content/drive/MyDrive/ADM/page2/new-orleans-historic-voodoo-museum.html', '/content/drive/MyDrive/ADM/page2/neon-boneyard.html', '/content/drive/MyDrive/ADM/page2/museum-vampires.html', '/content/drive/MyDrive/ADM/page2/wisteria-tunnel.html', '/content/drive/MyDrive/ADM/page3/explorers-club-headquarters.html', '/content/drive/MyDrive/ADM/page3/mapparium.html', '/content/drive/MyDrive/ADM/page3/house-of-eternal-return.html', '/content/drive/MyDrive/ADM/page3/sagano-bamboo-forest.html', '/content/drive/MyDrive/ADM/page3/the-viktor-wynd-museum-of-curiosities-fine-art-natural-history-london-england.html', '/content/drive/MyDrive/ADM/page3/akhob.html', '/content/drive/MyDrive/ADM/page3/paint-mines-interpretive-park.html', '/content/drive/MyDrive/ADM/page3/puzzlewood.html', '/content/drive/MyDrive/ADM/page3/six-flags-abandoned-amusement-park.html', '/content/drive/MyDrive/ADM/page3/fairy-pools.html', '/content/drive/MyDrive/ADM/page3/hamilton-pool.html', '/content/drive/MyDrive/ADM/page3/5-beekman-street.html', '/content/drive/MyDrive/ADM/page3/havasupai-falls.html', '/content/drive/MyDrive/ADM/page3/rakotzbrucke-devils-bridge.html', '/content/drive/MyDrive/ADM/page3/the-lexington-candy-shop-new-york-new-york.html', '/content/drive/MyDrive/ADM/page3/the-hardy-tree-london-england.html', '/content/drive/MyDrive/ADM/page3/horseshoe-bend.html', '/content/drive/MyDrive/ADM/page3/electric-ladyland-the-museum-of-fluorescent-art.html']\n"
          ]
        }
      ],
      "source": [
        "link_read = open(\"/content/drive/MyDrive/ADM/places.txt\", \"r\")\n",
        "folder = \"page\"\n",
        "list_path=[]\n",
        "for i, j  in enumerate(link_read): \n",
        "  num = i/18\n",
        "\n",
        "  if type(num) == float:\n",
        "    folder_num = int(num)+1\n",
        "\n",
        "  else:\n",
        "    folder_num = int(num)\n",
        "  if i%18 == 0:\n",
        "    directory = folder + str(folder_num)\n",
        "    parent_dir = \"/content/drive/MyDrive/ADM/\"\n",
        "    path = parent_dir + directory+ '/'\n",
        "    os.mkdir(path)\n",
        "  \n",
        "  page_name = j.replace('/places/', '')\n",
        "  page_name = page_name.replace('\\n', '')\n",
        "  url = 'https://www.atlasobscura.com' + str(j)\n",
        "  response = urllib.request.urlopen(url)\n",
        "  webContent = response.read().decode('UTF-8')\n",
        "  list_path.append(path + str(page_name)+'.html')\n",
        "\n",
        "  f = open(path + str(page_name)+'.html', 'w')\n",
        "  f.write(webContent)\n",
        "  f.close\n",
        "\n",
        "link.close()\n",
        "print(list_path)"
      ]
    },
    {
      "cell_type": "markdown",
      "metadata": {
        "id": "aNIBdPgc1dUb"
      },
      "source": [
        "##***1.3 Parse downloaded pages***"
      ]
    },
    {
      "cell_type": "code",
      "execution_count": null,
      "metadata": {
        "id": "cldBAZUY-s2Z"
      },
      "outputs": [],
      "source": [
        "def place_name(files):\n",
        "  f = open(str(files), 'r')\n",
        "  contents = f.read()\n",
        "  soup = BeautifulSoup(contents, 'lxml')\n",
        "  placeName=str(soup.h1.get_text())\n",
        "  return placeName\n"
      ]
    },
    {
      "cell_type": "code",
      "execution_count": null,
      "metadata": {
        "id": "KWk_aGhU-9ky"
      },
      "outputs": [],
      "source": [
        "def place_tags(files):\n",
        "  Tags=[]\n",
        "  f = open(str(files), 'r')\n",
        "  contents = f.read()\n",
        "  soup = BeautifulSoup(contents, 'lxml')    \n",
        "  for tag in soup.find_all('div', class_='DDPage__header-place-location'):\n",
        "      s=str(tag.contents)\n",
        "      s1=s.partition('title=')[2]\n",
        "      s2=s1.replace(\">Manhattan, New York</a>]\", \"\")\n",
        "      se=s2.replace('\"','')\n",
        "      Tags.append(se)\n",
        "  return Tags"
      ]
    },
    {
      "cell_type": "code",
      "execution_count": null,
      "metadata": {
        "id": "-Nl0Bowb_PIT"
      },
      "outputs": [],
      "source": [
        "def people_visited(files):\n",
        "  People=[]\n",
        "  f = open(str(files), 'r')\n",
        "  contents = f.read()\n",
        "  soup = BeautifulSoup(contents, 'lxml')  \n",
        "  for div in soup.find_all('div', class_ ='title-md item-action-count'):\n",
        "      People.append(str(div.get_text()))\n",
        "      Peopleviseted=People[0]\n",
        "      Peoplewant=People[-1]\n",
        "      numPeopleVisited=int(Peopleviseted)\n",
        "      numPeopleWant=int(Peoplewant)\n",
        "  return numPeopleVisited\n",
        "  "
      ]
    },
    {
      "cell_type": "code",
      "execution_count": null,
      "metadata": {
        "id": "T8-fAH-xoIdZ"
      },
      "outputs": [],
      "source": [
        "def people_wanted(files):\n",
        "  People=[]\n",
        "  f = open(str(files), 'r')\n",
        "  contents = f.read()\n",
        "  soup = BeautifulSoup(contents, 'lxml')\n",
        "  for div in soup.find_all('div', class_ ='title-md item-action-count'):\n",
        "    People.append(str(div.get_text()))\n",
        "    Peoplewant=People[-1]\n",
        "    numPeopleWant=int(Peoplewant)\n",
        "  return numPeopleWant"
      ]
    },
    {
      "cell_type": "code",
      "execution_count": null,
      "metadata": {
        "id": "VluCOksdmRfl"
      },
      "outputs": [],
      "source": [
        "def long_description(files):\n",
        "  long=[]\n",
        "  f = open(str(files), 'r')\n",
        "  contents = f.read()\n",
        "  soup = BeautifulSoup(contents, 'lxml') \n",
        "  for long in soup.find_all('div', class_ = 'DDP__body-copy'):\n",
        "    desc = long.get_text()\n",
        "  return desc\n",
        "\n"
      ]
    },
    {
      "cell_type": "code",
      "execution_count": null,
      "metadata": {
        "id": "AdOEWz_y_cI5"
      },
      "outputs": [],
      "source": [
        "def short_description(files):\n",
        "  shortd=[]\n",
        "  f = open(str(files), 'r')\n",
        "  contents = f.read()\n",
        "  soup = BeautifulSoup(contents, 'lxml')  \n",
        "  for short in soup.find_all('h3', class_='DDPage__header-dek'):\n",
        "      shortd.append(str(short.get_text()))\n",
        "      short=shortd[0]\n",
        "  return short"
      ]
    },
    {
      "cell_type": "code",
      "execution_count": null,
      "metadata": {
        "id": "SRTTtvtVBGFr"
      },
      "outputs": [],
      "source": [
        "def nearby_places(files):\n",
        " placeNearby=[]\n",
        " f = open(str(files), 'r')\n",
        " contents = f.read()\n",
        " soup = BeautifulSoup(contents, 'lxml')\n",
        " for nearby in soup.find_all('div', class_=\"DDPageSiderailRecirc__item-title\"):\n",
        "   places=str(nearby.get_text())\n",
        "   placeNearby.append(places)\n",
        " return placeNearby \n"
      ]
    },
    {
      "cell_type": "code",
      "execution_count": null,
      "metadata": {
        "id": "tGSpO3ceHY2p"
      },
      "outputs": [],
      "source": [
        "def address(files):\n",
        "  a = []\n",
        "  f = open(str(files), 'r')\n",
        "  contents = f.read()\n",
        "  soup = BeautifulSoup(contents, \"html.parser\")    \n",
        "  addr = soup.find('address', class_ =\"DDPageSiderail__address\")\n",
        "  addr = addr.get_text()\n",
        "  addr = addr.replace(\"\\n\", \"\")\n",
        "  return addr"
      ]
    },
    {
      "cell_type": "code",
      "execution_count": null,
      "metadata": {
        "id": "EoYqHwJ9_3v7"
      },
      "outputs": [],
      "source": [
        "def alt(files):\n",
        "  f = open(str(files), 'r')\n",
        "  contents = f.read()\n",
        "  soup = BeautifulSoup(contents, 'lxml')   \n",
        "  for addr in soup.find_all('div', class_=\"DDPageSiderail__coordinates js-copy-coordinates\"):\n",
        "      s=str(addr)\n",
        "      s1=s.partition('data-coordinates=')[2]\n",
        "      s2=s1.partition('>')\n",
        "      placealt=(s2[0].split()[0])\n",
        "      placeAlt1=placealt.replace('\"','')\n",
        "      placeAlt=float(placeAlt1.replace(',',''))\n",
        "  return placeAlt"
      ]
    },
    {
      "cell_type": "code",
      "execution_count": null,
      "metadata": {
        "id": "S2e1QdHL9ASj"
      },
      "outputs": [],
      "source": [
        "def long(files):\n",
        "  f = open(str(files), 'r')\n",
        "  contents = f.read()\n",
        "  soup = BeautifulSoup(contents, 'lxml')   \n",
        "  for addr in soup.find_all('div', class_=\"DDPageSiderail__coordinates js-copy-coordinates\"):\n",
        "      s=str(addr)\n",
        "      s1=s.partition('data-coordinates=')[2]\n",
        "      s2=s1.partition('>')  \n",
        "      placelong=(s2[0].split()[1])\n",
        "      placeL=placelong.replace('\"','')\n",
        "      placeLong=float(placeL)\n",
        "  return placeLong"
      ]
    },
    {
      "cell_type": "code",
      "execution_count": null,
      "metadata": {
        "id": "EpmwAn4dGFz1"
      },
      "outputs": [],
      "source": [
        "def editor(files):\n",
        "  editors=[]\n",
        "  f = open(str(files), 'r')\n",
        "  contents = f.read()\n",
        "  soup = BeautifulSoup(contents, 'lxml')    \n",
        "  for e in soup.find_all('li', class_ =\"DDPContributorsList__item\"):\n",
        "    for spn in e.find_all('span'):\n",
        "      s=str(spn.text)\n",
        "      editors.append(s)\n",
        "  return editors"
      ]
    },
    {
      "cell_type": "code",
      "execution_count": null,
      "metadata": {
        "id": "RJjlnPkYxMiu"
      },
      "outputs": [],
      "source": [
        "def pub_date(files):\n",
        "    f = open(str(files), 'r')\n",
        "    contents = f.read()\n",
        "    soup = BeautifulSoup(contents, 'lxml') \n",
        "    for long in soup.find_all('div', class_=\"DDPContributor__name\"):\n",
        "      s1=str(long.get_text())\n",
        "      date = parse(s1)\n",
        "    return date.date()\n"
      ]
    },
    {
      "cell_type": "code",
      "execution_count": null,
      "metadata": {
        "id": "gKWIYLJ5pXt5"
      },
      "outputs": [],
      "source": [
        "def related_list(files):\n",
        "  RelatedList=[]\n",
        "  f = open(str(files), 'r')\n",
        "  contents = f.read()\n",
        "  soup = BeautifulSoup(contents, 'lxml')    \n",
        "  for releted in soup.find_all('h3', class_='Card__heading --content-card-v2-title js-title-content'):\n",
        "      s=str(releted.contents)\n",
        "      s1=s.partition('<span>')[2]\n",
        "      s2=s1.replace(\"</span>,\", \"\")\n",
        "      se=s2.replace(\"n']\",'')\n",
        "      s3=se.replace(\"'\\\\\",\"\")\n",
        "      RelatedList.append(s3)\n",
        "      placeRelatedLists=RelatedList[9:13]\n",
        "\n",
        "  return placeRelatedLists"
      ]
    },
    {
      "cell_type": "code",
      "execution_count": null,
      "metadata": {
        "id": "w7g9T5JS_wFn"
      },
      "outputs": [],
      "source": [
        "def related_places(files):\n",
        "  RelatedPlaces=[]\n",
        "  f = open(str(files), 'r')\n",
        "  contents = f.read()\n",
        "  soup = BeautifulSoup(contents, 'lxml')    \n",
        "  for releted in soup.find_all('h3', class_='Card__heading --content-card-v2-title js-title-content'):\n",
        "      s=str(releted.contents)\n",
        "      s1=s.partition('<span>')[2]\n",
        "      s2=s1.replace(\"</span>,\", \"\")\n",
        "      se=s2.replace(\"n']\",'')\n",
        "      s3=se.replace(\"'\\\\\",\"\")\n",
        "      RelatedPlaces.append(s3)\n",
        "      placeRelatedPlaces=RelatedPlaces[5:9]\n",
        "\n",
        "  return placeRelatedPlaces"
      ]
    },
    {
      "cell_type": "code",
      "execution_count": null,
      "metadata": {
        "id": "aHRCcMW5QYHt"
      },
      "outputs": [],
      "source": [
        "def url(files):\n",
        "  f = open(str(files), 'r')\n",
        "  contents = f.read()\n",
        "  soup = BeautifulSoup(contents, \"html.parser\") \n",
        "  urls = []\n",
        "  for link in soup.find_all('link'):\n",
        "    urls.append(str(link.get('href')))\n",
        "  return urls[18]\n"
      ]
    },
    {
      "cell_type": "markdown",
      "metadata": {
        "id": "q_h9NqQE4aw2"
      },
      "source": [
        "Create our dataframe"
      ]
    },
    {
      "cell_type": "code",
      "execution_count": null,
      "metadata": {
        "id": "YPHhHdEDLRB1"
      },
      "outputs": [],
      "source": [
        "placeName=[]\n",
        "placeTags=[]\n",
        "numPeopleVisited=[]\n",
        "numPeopleWant=[]\n",
        "placeDesc=[]\n",
        "placeShortDesc=[]\n",
        "placeNearby=[]\n",
        "placeAddress=[]\n",
        "placeAlt=[]\n",
        "placeLong=[]\n",
        "placeEditors=[]\n",
        "placePubDate=[]\n",
        "placeRelatedLists=[]\n",
        "placeRelatedPlaces=[]\n",
        "placeURL=[]\n",
        "\n",
        "\n",
        "for i in list_path:\n",
        "  placeName.append(place_name(i))\n",
        "  placeTags.append(place_tags(i))\n",
        "  numPeopleVisited.append(people_visited(i))\n",
        "  numPeopleWant.append(people_wanted(i))\n",
        "  placeDesc.append(long_description(i))\n",
        "  placeShortDesc.append(short_description(i))\n",
        "  placeNearby.append(nearby_places(i))\n",
        "  placeAddress.append(address(i))\n",
        "  placeAlt.append(alt(i))\n",
        "  placeLong.append(long(i))\n",
        "  placeEditors.append(editor(i))\n",
        "  placePubDate.append(pub_date(i))\n",
        "  placeRelatedLists.append(related_list(i))\n",
        "  placeRelatedPlaces.append(related_places(i))\n",
        "  placeURL.append(url(i))"
      ]
    },
    {
      "cell_type": "code",
      "execution_count": null,
      "metadata": {
        "colab": {
          "base_uri": "https://localhost:8080/"
        },
        "id": "lavTk6FVJYfx",
        "outputId": "fcd7ee59-b036-4e56-f625-43142c248b98"
      },
      "outputs": [
        {
          "output_type": "stream",
          "name": "stdout",
          "text": [
            "             placeName                                          placeTags  \\\n",
            "0    City Hall Station     [See all things to do in Manhattan, New York.]   \n",
            "1    Highgate Cemetery  [See all things to do in London, England.>Lond...   \n",
            "2    Leadenhall Market  [See all things to do in London, England.>Lond...   \n",
            "3       The Wave Organ  [See all things to do in San Francisco, Califo...   \n",
            "4  Catacombes de Paris  [See all things to do in Paris, France.>Paris,...   \n",
            "\n",
            "   numPeopleVisited  numPeopleWant  \\\n",
            "0              1838           8647   \n",
            "1              2637           8233   \n",
            "2              3158           7643   \n",
            "3              2435           7441   \n",
            "4              4475           7084   \n",
            "\n",
            "                                           placeDesc  \\\n",
            "0  \\n\\nThe first New York City subway was built a...   \n",
            "1  \\n\\nOpened in 1839, Highgate is one of London’...   \n",
            "2  \\n\\nThe ornate 19th-century painted roof and c...   \n",
            "3  \\n\\nLocated on a jetty in the San Francisco Ba...   \n",
            "4  \\n\\nIn 2004, Parisian police were assigned to ...   \n",
            "\n",
            "                                      placeShortDesc  \\\n",
            "0  A beautiful and abandoned New York subway stat...   \n",
            "1  London's creepiest cemetery was once the site ...   \n",
            "2  This ornate Victorian marketplace was the sett...   \n",
            "3    A huge musical instrument played by the ocean.    \n",
            "4  The vast, legendary catacombs hold secrets muc...   \n",
            "\n",
            "                                         placeNearby  \\\n",
            "0  [African Burial Ground National Monument, Tunn...   \n",
            "1  [World's Largest Potted Plant, Dick Whittingto...   \n",
            "2  [The Cornhill Devils , London's Original and A...   \n",
            "3  [Long Now Orrery, The Stern of the Brigantine ...   \n",
            "4  [Sculptures de Décure, Arago Medallions, Jeann...   \n",
            "\n",
            "                                        placeAddress  placeAlt  placeLong  \\\n",
            "0  31 Centre StNew York, New York, 10007United St...   40.7134   -74.0046   \n",
            "1  Swain's Lane, HighgateLondon, England, N6Unite...   51.5675    -0.1483   \n",
            "2                London, England, EC3VUnited Kingdom   51.5126    -0.0834   \n",
            "3  83 Marina Green DrSan Francisco, California, 9...   37.8085  -122.4401   \n",
            "4        1 Place Denfert-RochereauParis, 75014France   48.8343     2.3322   \n",
            "\n",
            "                                        placeEditors placePubDate  \\\n",
            "0  [charding407, fosterc827, Mike H, erjeffery, A...   2010-05-08   \n",
            "1  [thesecretcity, thedyerghoulhouse, juliapetrus...   2014-08-09   \n",
            "2  [Julius Spada, Katecrimson, thesecretcity, jul...   2016-08-01   \n",
            "3  [routt1111, wefiddleboy14, Saal333, Neighborho...   2008-11-21   \n",
            "4  [marypippen, ramonrodz2212, mathewbrowne, Fred...   2009-02-13   \n",
            "\n",
            "                                   placeRelatedLists  \\\n",
            "0  [30 Unexpected Places to Have a Joyful Adventu...   \n",
            "1  [Znojmo Catacombs , The World's Top 100 Wonder...   \n",
            "2  [Drvengrad , The Ultimate Guide to Stunning, S...   \n",
            "3  [Gunnar Schonbeck Exhibit , Leonardo Nam's 16 ...   \n",
            "4  [Melník Chapel of Bones , 19 Catacombs Sure to...   \n",
            "\n",
            "                                  placeRelatedPlaces  \\\n",
            "0  [Crystal Palace Subway , Moscow Metro Stations...   \n",
            "1  [Isokon Flats , Jewett City Vampires , Tomb of...   \n",
            "2  [Signs of Old Lombard Street , Rivendell , Bag...   \n",
            "3  [Aquatic Park Tombstones , Sea Organ , Silent ...   \n",
            "4  [Montparnasse Cemetery , Ossario di San Martin...   \n",
            "\n",
            "                                            placeURL  \n",
            "0  https://www.atlasobscura.com/places/city-hall-...  \n",
            "1  https://www.atlasobscura.com/places/highgate-c...  \n",
            "2  https://www.atlasobscura.com/places/leadenhall...  \n",
            "3     https://www.atlasobscura.com/places/wave-organ  \n",
            "4  https://www.atlasobscura.com/places/catacombes...  \n"
          ]
        }
      ],
      "source": [
        "dictionary={\n",
        "    'placeName':placeName,\n",
        "    'placeTags':placeTags,\n",
        "    'numPeopleVisited': numPeopleVisited,\n",
        "    'numPeopleWant': numPeopleWant,\n",
        "    'placeDesc': placeDesc,\n",
        "    'placeShortDesc': placeShortDesc,\n",
        "    'placeNearby': placeNearby,\n",
        "    'placeAddress': placeAddress,\n",
        "    'placeAlt': placeAlt,\n",
        "    'placeLong': placeLong,\n",
        "    'placeEditors': placeEditors,\n",
        "    'placePubDate': placePubDate,\n",
        "    'placeRelatedLists': placeRelatedLists,\n",
        "    'placeRelatedPlaces': placeRelatedPlaces,\n",
        "    'placeURL': placeURL}\n",
        "\n",
        "Dataframe=pd.DataFrame.from_dict(dictionary)\n",
        "print(Dataframe.head())\n",
        "dataframe=Dataframe.to_csv('Dataframe.tsv', sep=\"\\t\")\n",
        "\n",
        "\n",
        "with open('/content/drive/MyDrive/ADM/dataframe.tsv', 'w', newline='') as f_output:\n",
        "    tsv_output = csv.writer(f_output, delimiter='\\t')\n",
        "    tsv_output.writerow(Dataframe)\n",
        "\n",
        "    for i in range(Dataframe.shape[0]):\n",
        "      tsv_output.writerow(Dataframe.iloc[i])\n",
        "\n"
      ]
    },
    {
      "cell_type": "code",
      "execution_count": null,
      "metadata": {
        "colab": {
          "base_uri": "https://localhost:8080/",
          "height": 686
        },
        "id": "IZBtqVk94DE6",
        "outputId": "946e4b45-8e01-415c-f21a-6b82429328f6"
      },
      "outputs": [
        {
          "output_type": "execute_result",
          "data": {
            "text/plain": [
              "             placeName                                          placeTags  \\\n",
              "0    City Hall Station   ['See all things to do in Manhattan, New York.']   \n",
              "1    Highgate Cemetery  ['See all things to do in London, England.>Lon...   \n",
              "2    Leadenhall Market  ['See all things to do in London, England.>Lon...   \n",
              "3       The Wave Organ  ['See all things to do in San Francisco, Calif...   \n",
              "4  Catacombes de Paris  ['See all things to do in Paris, France.>Paris...   \n",
              "\n",
              "   numPeopleVisited  numPeopleWant  \\\n",
              "0              1838           8647   \n",
              "1              2637           8233   \n",
              "2              3158           7643   \n",
              "3              2435           7441   \n",
              "4              4475           7084   \n",
              "\n",
              "                                           placeDesc  \\\n",
              "0  \\n\\nThe first New York City subway was built a...   \n",
              "1  \\n\\nOpened in 1839, Highgate is one of London’...   \n",
              "2  \\n\\nThe ornate 19th-century painted roof and c...   \n",
              "3  \\n\\nLocated on a jetty in the San Francisco Ba...   \n",
              "4  \\n\\nIn 2004, Parisian police were assigned to ...   \n",
              "\n",
              "                                      placeShortDesc  \\\n",
              "0  A beautiful and abandoned New York subway stat...   \n",
              "1  London's creepiest cemetery was once the site ...   \n",
              "2  This ornate Victorian marketplace was the sett...   \n",
              "3    A huge musical instrument played by the ocean.    \n",
              "4  The vast, legendary catacombs hold secrets muc...   \n",
              "\n",
              "                                         placeNearby  \\\n",
              "0  ['African Burial Ground National Monument', 'T...   \n",
              "1  [\"World's Largest Potted Plant\", 'Dick Whittin...   \n",
              "2  ['The Cornhill Devils ', \"London's Original an...   \n",
              "3  ['Long Now Orrery', 'The Stern of the Briganti...   \n",
              "4  ['Sculptures de Décure', 'Arago Medallions', \"...   \n",
              "\n",
              "                                        placeAddress  placeAlt  placeLong  \\\n",
              "0  31 Centre StNew York, New York, 10007United St...   40.7134   -74.0046   \n",
              "1  Swain's Lane, HighgateLondon, England, N6Unite...   51.5675    -0.1483   \n",
              "2                London, England, EC3VUnited Kingdom   51.5126    -0.0834   \n",
              "3  83 Marina Green DrSan Francisco, California, 9...   37.8085  -122.4401   \n",
              "4        1 Place Denfert-RochereauParis, 75014France   48.8343     2.3322   \n",
              "\n",
              "                                        placeEditors placePubDate  \\\n",
              "0  ['charding407', 'fosterc827', 'Mike H', 'erjef...   2010-05-08   \n",
              "1  ['thesecretcity', 'thedyerghoulhouse', 'juliap...   2014-08-09   \n",
              "2  ['Julius Spada', 'Katecrimson', 'thesecretcity...   2016-08-01   \n",
              "3  ['routt1111', 'wefiddleboy14', 'Saal333', 'Nei...   2008-11-21   \n",
              "4  ['marypippen', 'ramonrodz2212', 'mathewbrowne'...   2009-02-13   \n",
              "\n",
              "                                   placeRelatedLists  \\\n",
              "0  ['30 Unexpected Places to Have a Joyful Advent...   \n",
              "1  ['Znojmo Catacombs ', \"The World's Top 100 Won...   \n",
              "2  ['Drvengrad ', 'The Ultimate Guide to Stunning...   \n",
              "3  ['Gunnar Schonbeck Exhibit ', \"Leonardo Nam's ...   \n",
              "4  ['Melník Chapel of Bones ', '19 Catacombs Sure...   \n",
              "\n",
              "                                  placeRelatedPlaces  \\\n",
              "0  ['Crystal Palace Subway ', 'Moscow Metro Stati...   \n",
              "1  ['Isokon Flats ', 'Jewett City Vampires ', 'To...   \n",
              "2  ['Signs of Old Lombard Street ', 'Rivendell ',...   \n",
              "3  ['Aquatic Park Tombstones ', 'Sea Organ ', 'Si...   \n",
              "4  ['Montparnasse Cemetery ', 'Ossario di San Mar...   \n",
              "\n",
              "                                            placeURL  \n",
              "0  https://www.atlasobscura.com/places/city-hall-...  \n",
              "1  https://www.atlasobscura.com/places/highgate-c...  \n",
              "2  https://www.atlasobscura.com/places/leadenhall...  \n",
              "3     https://www.atlasobscura.com/places/wave-organ  \n",
              "4  https://www.atlasobscura.com/places/catacombes...  "
            ],
            "text/html": [
              "\n",
              "  <div id=\"df-48b5b8ef-c0da-47c7-9687-dc94cd6f4157\">\n",
              "    <div class=\"colab-df-container\">\n",
              "      <div>\n",
              "<style scoped>\n",
              "    .dataframe tbody tr th:only-of-type {\n",
              "        vertical-align: middle;\n",
              "    }\n",
              "\n",
              "    .dataframe tbody tr th {\n",
              "        vertical-align: top;\n",
              "    }\n",
              "\n",
              "    .dataframe thead th {\n",
              "        text-align: right;\n",
              "    }\n",
              "</style>\n",
              "<table border=\"1\" class=\"dataframe\">\n",
              "  <thead>\n",
              "    <tr style=\"text-align: right;\">\n",
              "      <th></th>\n",
              "      <th>placeName</th>\n",
              "      <th>placeTags</th>\n",
              "      <th>numPeopleVisited</th>\n",
              "      <th>numPeopleWant</th>\n",
              "      <th>placeDesc</th>\n",
              "      <th>placeShortDesc</th>\n",
              "      <th>placeNearby</th>\n",
              "      <th>placeAddress</th>\n",
              "      <th>placeAlt</th>\n",
              "      <th>placeLong</th>\n",
              "      <th>placeEditors</th>\n",
              "      <th>placePubDate</th>\n",
              "      <th>placeRelatedLists</th>\n",
              "      <th>placeRelatedPlaces</th>\n",
              "      <th>placeURL</th>\n",
              "    </tr>\n",
              "  </thead>\n",
              "  <tbody>\n",
              "    <tr>\n",
              "      <th>0</th>\n",
              "      <td>City Hall Station</td>\n",
              "      <td>['See all things to do in Manhattan, New York.']</td>\n",
              "      <td>1838</td>\n",
              "      <td>8647</td>\n",
              "      <td>\\n\\nThe first New York City subway was built a...</td>\n",
              "      <td>A beautiful and abandoned New York subway stat...</td>\n",
              "      <td>['African Burial Ground National Monument', 'T...</td>\n",
              "      <td>31 Centre StNew York, New York, 10007United St...</td>\n",
              "      <td>40.7134</td>\n",
              "      <td>-74.0046</td>\n",
              "      <td>['charding407', 'fosterc827', 'Mike H', 'erjef...</td>\n",
              "      <td>2010-05-08</td>\n",
              "      <td>['30 Unexpected Places to Have a Joyful Advent...</td>\n",
              "      <td>['Crystal Palace Subway ', 'Moscow Metro Stati...</td>\n",
              "      <td>https://www.atlasobscura.com/places/city-hall-...</td>\n",
              "    </tr>\n",
              "    <tr>\n",
              "      <th>1</th>\n",
              "      <td>Highgate Cemetery</td>\n",
              "      <td>['See all things to do in London, England.&gt;Lon...</td>\n",
              "      <td>2637</td>\n",
              "      <td>8233</td>\n",
              "      <td>\\n\\nOpened in 1839, Highgate is one of London’...</td>\n",
              "      <td>London's creepiest cemetery was once the site ...</td>\n",
              "      <td>[\"World's Largest Potted Plant\", 'Dick Whittin...</td>\n",
              "      <td>Swain's Lane, HighgateLondon, England, N6Unite...</td>\n",
              "      <td>51.5675</td>\n",
              "      <td>-0.1483</td>\n",
              "      <td>['thesecretcity', 'thedyerghoulhouse', 'juliap...</td>\n",
              "      <td>2014-08-09</td>\n",
              "      <td>['Znojmo Catacombs ', \"The World's Top 100 Won...</td>\n",
              "      <td>['Isokon Flats ', 'Jewett City Vampires ', 'To...</td>\n",
              "      <td>https://www.atlasobscura.com/places/highgate-c...</td>\n",
              "    </tr>\n",
              "    <tr>\n",
              "      <th>2</th>\n",
              "      <td>Leadenhall Market</td>\n",
              "      <td>['See all things to do in London, England.&gt;Lon...</td>\n",
              "      <td>3158</td>\n",
              "      <td>7643</td>\n",
              "      <td>\\n\\nThe ornate 19th-century painted roof and c...</td>\n",
              "      <td>This ornate Victorian marketplace was the sett...</td>\n",
              "      <td>['The Cornhill Devils ', \"London's Original an...</td>\n",
              "      <td>London, England, EC3VUnited Kingdom</td>\n",
              "      <td>51.5126</td>\n",
              "      <td>-0.0834</td>\n",
              "      <td>['Julius Spada', 'Katecrimson', 'thesecretcity...</td>\n",
              "      <td>2016-08-01</td>\n",
              "      <td>['Drvengrad ', 'The Ultimate Guide to Stunning...</td>\n",
              "      <td>['Signs of Old Lombard Street ', 'Rivendell ',...</td>\n",
              "      <td>https://www.atlasobscura.com/places/leadenhall...</td>\n",
              "    </tr>\n",
              "    <tr>\n",
              "      <th>3</th>\n",
              "      <td>The Wave Organ</td>\n",
              "      <td>['See all things to do in San Francisco, Calif...</td>\n",
              "      <td>2435</td>\n",
              "      <td>7441</td>\n",
              "      <td>\\n\\nLocated on a jetty in the San Francisco Ba...</td>\n",
              "      <td>A huge musical instrument played by the ocean.</td>\n",
              "      <td>['Long Now Orrery', 'The Stern of the Briganti...</td>\n",
              "      <td>83 Marina Green DrSan Francisco, California, 9...</td>\n",
              "      <td>37.8085</td>\n",
              "      <td>-122.4401</td>\n",
              "      <td>['routt1111', 'wefiddleboy14', 'Saal333', 'Nei...</td>\n",
              "      <td>2008-11-21</td>\n",
              "      <td>['Gunnar Schonbeck Exhibit ', \"Leonardo Nam's ...</td>\n",
              "      <td>['Aquatic Park Tombstones ', 'Sea Organ ', 'Si...</td>\n",
              "      <td>https://www.atlasobscura.com/places/wave-organ</td>\n",
              "    </tr>\n",
              "    <tr>\n",
              "      <th>4</th>\n",
              "      <td>Catacombes de Paris</td>\n",
              "      <td>['See all things to do in Paris, France.&gt;Paris...</td>\n",
              "      <td>4475</td>\n",
              "      <td>7084</td>\n",
              "      <td>\\n\\nIn 2004, Parisian police were assigned to ...</td>\n",
              "      <td>The vast, legendary catacombs hold secrets muc...</td>\n",
              "      <td>['Sculptures de Décure', 'Arago Medallions', \"...</td>\n",
              "      <td>1 Place Denfert-RochereauParis, 75014France</td>\n",
              "      <td>48.8343</td>\n",
              "      <td>2.3322</td>\n",
              "      <td>['marypippen', 'ramonrodz2212', 'mathewbrowne'...</td>\n",
              "      <td>2009-02-13</td>\n",
              "      <td>['Melník Chapel of Bones ', '19 Catacombs Sure...</td>\n",
              "      <td>['Montparnasse Cemetery ', 'Ossario di San Mar...</td>\n",
              "      <td>https://www.atlasobscura.com/places/catacombes...</td>\n",
              "    </tr>\n",
              "  </tbody>\n",
              "</table>\n",
              "</div>\n",
              "      <button class=\"colab-df-convert\" onclick=\"convertToInteractive('df-48b5b8ef-c0da-47c7-9687-dc94cd6f4157')\"\n",
              "              title=\"Convert this dataframe to an interactive table.\"\n",
              "              style=\"display:none;\">\n",
              "        \n",
              "  <svg xmlns=\"http://www.w3.org/2000/svg\" height=\"24px\"viewBox=\"0 0 24 24\"\n",
              "       width=\"24px\">\n",
              "    <path d=\"M0 0h24v24H0V0z\" fill=\"none\"/>\n",
              "    <path d=\"M18.56 5.44l.94 2.06.94-2.06 2.06-.94-2.06-.94-.94-2.06-.94 2.06-2.06.94zm-11 1L8.5 8.5l.94-2.06 2.06-.94-2.06-.94L8.5 2.5l-.94 2.06-2.06.94zm10 10l.94 2.06.94-2.06 2.06-.94-2.06-.94-.94-2.06-.94 2.06-2.06.94z\"/><path d=\"M17.41 7.96l-1.37-1.37c-.4-.4-.92-.59-1.43-.59-.52 0-1.04.2-1.43.59L10.3 9.45l-7.72 7.72c-.78.78-.78 2.05 0 2.83L4 21.41c.39.39.9.59 1.41.59.51 0 1.02-.2 1.41-.59l7.78-7.78 2.81-2.81c.8-.78.8-2.07 0-2.86zM5.41 20L4 18.59l7.72-7.72 1.47 1.35L5.41 20z\"/>\n",
              "  </svg>\n",
              "      </button>\n",
              "      \n",
              "  <style>\n",
              "    .colab-df-container {\n",
              "      display:flex;\n",
              "      flex-wrap:wrap;\n",
              "      gap: 12px;\n",
              "    }\n",
              "\n",
              "    .colab-df-convert {\n",
              "      background-color: #E8F0FE;\n",
              "      border: none;\n",
              "      border-radius: 50%;\n",
              "      cursor: pointer;\n",
              "      display: none;\n",
              "      fill: #1967D2;\n",
              "      height: 32px;\n",
              "      padding: 0 0 0 0;\n",
              "      width: 32px;\n",
              "    }\n",
              "\n",
              "    .colab-df-convert:hover {\n",
              "      background-color: #E2EBFA;\n",
              "      box-shadow: 0px 1px 2px rgba(60, 64, 67, 0.3), 0px 1px 3px 1px rgba(60, 64, 67, 0.15);\n",
              "      fill: #174EA6;\n",
              "    }\n",
              "\n",
              "    [theme=dark] .colab-df-convert {\n",
              "      background-color: #3B4455;\n",
              "      fill: #D2E3FC;\n",
              "    }\n",
              "\n",
              "    [theme=dark] .colab-df-convert:hover {\n",
              "      background-color: #434B5C;\n",
              "      box-shadow: 0px 1px 3px 1px rgba(0, 0, 0, 0.15);\n",
              "      filter: drop-shadow(0px 1px 2px rgba(0, 0, 0, 0.3));\n",
              "      fill: #FFFFFF;\n",
              "    }\n",
              "  </style>\n",
              "\n",
              "      <script>\n",
              "        const buttonEl =\n",
              "          document.querySelector('#df-48b5b8ef-c0da-47c7-9687-dc94cd6f4157 button.colab-df-convert');\n",
              "        buttonEl.style.display =\n",
              "          google.colab.kernel.accessAllowed ? 'block' : 'none';\n",
              "\n",
              "        async function convertToInteractive(key) {\n",
              "          const element = document.querySelector('#df-48b5b8ef-c0da-47c7-9687-dc94cd6f4157');\n",
              "          const dataTable =\n",
              "            await google.colab.kernel.invokeFunction('convertToInteractive',\n",
              "                                                     [key], {});\n",
              "          if (!dataTable) return;\n",
              "\n",
              "          const docLinkHtml = 'Like what you see? Visit the ' +\n",
              "            '<a target=\"_blank\" href=https://colab.research.google.com/notebooks/data_table.ipynb>data table notebook</a>'\n",
              "            + ' to learn more about interactive tables.';\n",
              "          element.innerHTML = '';\n",
              "          dataTable['output_type'] = 'display_data';\n",
              "          await google.colab.output.renderOutput(dataTable, element);\n",
              "          const docLink = document.createElement('div');\n",
              "          docLink.innerHTML = docLinkHtml;\n",
              "          element.appendChild(docLink);\n",
              "        }\n",
              "      </script>\n",
              "    </div>\n",
              "  </div>\n",
              "  "
            ]
          },
          "metadata": {},
          "execution_count": 501
        }
      ],
      "source": [
        "df = pd.read_csv(\"/content/drive/MyDrive/ADM/dataframe.tsv\", sep='\\t')\n",
        "df.head()"
      ]
    },
    {
      "cell_type": "markdown",
      "metadata": {
        "id": "DKj5XtsA4gN6"
      },
      "source": [
        "Create a tsv file for each places"
      ]
    },
    {
      "cell_type": "code",
      "execution_count": null,
      "metadata": {
        "colab": {
          "base_uri": "https://localhost:8080/"
        },
        "id": "-h7DC_rGduO3",
        "outputId": "30dd86f6-3230-4629-e73c-fdd4c46f5a0c"
      },
      "outputs": [
        {
          "output_type": "stream",
          "name": "stdout",
          "text": [
            "4\n"
          ]
        }
      ],
      "source": [
        "files = []\n",
        "import os\n",
        "# assign directory\n",
        "folder_count = 0  # type: int\n",
        "input_path = \"/content/drive/MyDrive/ADM/\"  # type: str\n",
        "for folders in os.listdir(input_path):  # loop over all files\n",
        "    if os.path.isdir(os.path.join(input_path, folders)):  # if it's a directory\n",
        "        folder_count += 1  # increment counter\n",
        "print(folder_count)\n",
        "for i in range(1,folder_count):\n",
        "  directory = \"/content/drive/MyDrive/ADM/page\" + str(i)\n",
        " \n",
        "  # iterate over files in\n",
        "  # that directory\n",
        "  for filename in os.listdir(directory):\n",
        "      f = os.path.join(directory, filename)\n",
        "      # checking if it is a file\n",
        "      if os.path.isfile(f):\n",
        "          files.append(f)"
      ]
    },
    {
      "cell_type": "code",
      "execution_count": null,
      "metadata": {
        "id": "B5P3eNZ-Zq53"
      },
      "outputs": [],
      "source": [
        "import csv\n",
        "\n",
        "lst = []\n",
        "for name in files:\n",
        "\n",
        "  lst.append(place_name(name))\n",
        "  lst.append(place_tags(name))\n",
        "  lst.append(people_visited(name))\n",
        "  lst.append(people_wanted(name))\n",
        "  lst.append(long_description(name))\n",
        "  lst.append(short_description(name))\n",
        "  lst.append(nearby_places(name))\n",
        "  lst.append(alt(name))\n",
        "  lst.append(long(name))\n",
        "  lst.append(pub_date(name))\n",
        "  lst.append(editor(name))\n",
        "  lst.append(address(name))\n",
        "  lst.append(related_list(name))\n",
        "  lst.append(related_places(name))\n",
        "  lst.append(url(name))\n",
        "  path = '/content/drive/MyDrive/ADM/TSV/'+str(place_name(name))+'.tsv'\n",
        "  with open(path, 'w', newline='') as f_output:\n",
        "      tsv_output = csv.writer(f_output, delimiter='\\t')\n",
        "      tsv_output.writerow(lst)"
      ]
    },
    {
      "cell_type": "markdown",
      "metadata": {
        "id": "zbcyloThbpjZ"
      },
      "source": [
        "##***2. Search Engine***\n"
      ]
    },
    {
      "cell_type": "markdown",
      "metadata": {
        "id": "wCUO9G8TcmY_"
      },
      "source": [
        "* Removing the stopwords"
      ]
    },
    {
      "cell_type": "code",
      "execution_count": null,
      "metadata": {
        "id": "B7OST7Ilbw6d"
      },
      "outputs": [],
      "source": [
        "import nltk\n",
        "from nltk.corpus import stopwords\n",
        "from nltk.tokenize import word_tokenize\n",
        "import string"
      ]
    },
    {
      "cell_type": "code",
      "execution_count": null,
      "metadata": {
        "colab": {
          "base_uri": "https://localhost:8080/"
        },
        "id": "hltrKa7JlnvM",
        "outputId": "6957fded-2389-4284-cf07-44d4f44f21a3"
      },
      "outputs": [
        {
          "output_type": "stream",
          "name": "stderr",
          "text": [
            "[nltk_data] Downloading package stopwords to /root/nltk_data...\n",
            "[nltk_data]   Package stopwords is already up-to-date!\n"
          ]
        },
        {
          "output_type": "execute_result",
          "data": {
            "text/plain": [
              "True"
            ]
          },
          "metadata": {},
          "execution_count": 505
        }
      ],
      "source": [
        "nltk.download('stopwords')"
      ]
    },
    {
      "cell_type": "code",
      "execution_count": null,
      "metadata": {
        "id": "mVX5CXDccj4c"
      },
      "outputs": [],
      "source": [
        "def stop_words(s):\n",
        "  s1=s.lower()\n",
        "  s_words=[]\n",
        "  stop_words = set(stopwords.words('english')) \n",
        "  words = s1.split()\n",
        "  for r in words: \n",
        "    if not r in stop_words: \n",
        "        s_words.append(r)\n",
        "  return s_words"
      ]
    },
    {
      "cell_type": "code",
      "execution_count": null,
      "metadata": {
        "colab": {
          "base_uri": "https://localhost:8080/"
        },
        "id": "QPYMRdKzX55n",
        "outputId": "16ca514e-981a-430b-8b50-f5745bedf2d6"
      },
      "outputs": [
        {
          "output_type": "execute_result",
          "data": {
            "text/plain": [
              "['first', 'day', 'month']"
            ]
          },
          "metadata": {},
          "execution_count": 507
        }
      ],
      "source": [
        "stop_words('The first day of the month')"
      ]
    },
    {
      "cell_type": "markdown",
      "metadata": {
        "id": "8hl9gq6jfe9T"
      },
      "source": [
        "* Removing punctuation"
      ]
    },
    {
      "cell_type": "code",
      "execution_count": null,
      "metadata": {
        "id": "gRWblsPRhkaS"
      },
      "outputs": [],
      "source": [
        "def punctuation(s):\n",
        "  string_no_punct = s.translate(str.maketrans('', '', string.punctuation))\n",
        "  return string_no_punct\n"
      ]
    },
    {
      "cell_type": "markdown",
      "metadata": {
        "id": "_cvVZqf8ij63"
      },
      "source": [
        "* Stemming"
      ]
    },
    {
      "cell_type": "code",
      "execution_count": null,
      "metadata": {
        "id": "wR1avYppfWqd"
      },
      "outputs": [],
      "source": [
        "from nltk.stem import PorterStemmer"
      ]
    },
    {
      "cell_type": "code",
      "execution_count": null,
      "metadata": {
        "id": "LDCmpNaY54sG"
      },
      "outputs": [],
      "source": [
        "nlp=spacy.load('en_core_web_sm')\n",
        "def stem_text(txt):\n",
        "  doc=nlp(txt)\n",
        "  return [token.lemma_ for token in doc if not token.is_punct and token.pos_ not in ['DET', 'CCONJ']]"
      ]
    },
    {
      "cell_type": "markdown",
      "metadata": {
        "id": "qmB4B1iNALYE"
      },
      "source": [
        "Create a new dataframe where we remove the stopwords, the punctuation and stem the text."
      ]
    },
    {
      "cell_type": "code",
      "execution_count": null,
      "metadata": {
        "id": "FnT0AffqfbV5"
      },
      "outputs": [],
      "source": [
        "def create_dataframe(df):\n",
        "  column=['placeName','placeTags','placeDesc','placeShortDesc','placeNearby','placeAddress','placeEditors', 'placeRelatedLists','placeRelatedPlaces','placeURL']\n",
        "  dfNew = {key: None for key in column}\n",
        "  for i in column:\n",
        "    dfNew[i] = df.apply(lambda row: punctuation(row[i]), axis=1)\n",
        "    dfNew[i] = df.apply(lambda row: stem_text(row[i]), axis=1)\n",
        "    dfNew[i] = df.apply(lambda row: stop_words(row[i]), axis=1)\n",
        "  return dfNew\n",
        "\n"
      ]
    },
    {
      "cell_type": "code",
      "execution_count": null,
      "metadata": {
        "id": "n3EGo2SDzum5"
      },
      "outputs": [],
      "source": [
        "dfNew=create_dataframe(df)"
      ]
    },
    {
      "cell_type": "code",
      "execution_count": null,
      "metadata": {
        "id": "XjgShAwifgTP"
      },
      "outputs": [],
      "source": [
        "dfx = pd.DataFrame.from_dict(dfNew)\n",
        "dfx.placeDesc\n",
        "dfx['ID']=range(dfx.shape[0])\n"
      ]
    },
    {
      "cell_type": "markdown",
      "metadata": {
        "id": "77CIZhMgmiYl"
      },
      "source": [
        "##***2.1.1 Conjunctive query***"
      ]
    },
    {
      "cell_type": "code",
      "execution_count": null,
      "metadata": {
        "id": "ge7rhqe271ik"
      },
      "outputs": [],
      "source": [
        "from collections import Counter\n",
        "from functools import reduce"
      ]
    },
    {
      "cell_type": "markdown",
      "source": [
        "We want to build the vocabulary that we are going to use in order to assign a unique term_id to each word."
      ],
      "metadata": {
        "id": "A9aS7w8wOt8v"
      }
    },
    {
      "cell_type": "code",
      "execution_count": null,
      "metadata": {
        "colab": {
          "base_uri": "https://localhost:8080/"
        },
        "id": "oH2hV13TW5UI",
        "outputId": "31ddd6b7-09a2-4df3-f6aa-52eda210d307"
      },
      "outputs": [
        {
          "output_type": "stream",
          "name": "stdout",
          "text": [
            "{'first': 0, 'new': 1, 'york': 2, 'city': 3, 'subway': 4, 'built': 5, 'operated': 6, 'interborough': 7, 'rapid': 8, 'transit': 9, 'company': 10, '(irt)': 11, 'opened': 12, 'october': 13, '27,': 14, '1904,': 15, 'joy': 16, 'elevated': 17, 'train': 18, 'streetcar': 19, 'riders.': 20, 'hall': 21, 'station': 22, 'irt': 23, 'local': 24, 'track': 25, 'lavished': 26, 'fine': 27, 'architectural': 28, 'details,': 29, 'including': 30, 'glass': 31, 'tiles': 32, 'large': 33, 'chandeliers.': 34, 'however,': 35, 'gustavino': 36, 'vaulted': 37, 'ceilings': 38, 'skylights': 39, 'lost': 40, 'busy': 41, 'commuters,': 42, 'stop': 43, 'one': 44, 'least-used': 45, 'system.': 46, 'turnstiles': 47, 'installed': 48, '1923,': 49, 'nearby': 50, 'brooklyn': 51, 'bridge': 52, 'frequented': 53, 'express': 54, 'closer': 55, 'connecting': 56, 'streetcars.': 57, 'curved': 58, 'platform,': 59, 'cars': 60, 'center': 61, 'doors': 62, 'could': 63, 'used': 64, 'unless': 65, 'specially': 66, 'modified': 67, 'door': 68, 'controls': 69, 'allowed': 70, 'end': 71, 'opened.': 72, '1945,': 73, 'closed': 74, 'platforms': 75, 'along': 76, 'line': 77, 'lengthened': 78, 'accommodate': 79, 'longer': 80, 'trains,': 81, 'number': 82, 'passengers': 83, 'using': 84, 'dwindled': 85, 'few.': 86, 'another': 87, 'factor': 88, 'leading': 89, 'decline': 90, 'station’s': 91, 'use': 92, 'fact': 93, 'person': 94, 'boarding': 95, 'intended': 96, 'destination': 97, 'would': 98, 'wind': 99, 'uptown': 100, 'platform': 101, 'station.': 102, 'go': 103, 'upstairs': 104, 'downtown': 105, 'continue': 106, 'journey.': 107, 'much': 108, 'easier': 109, 'walk': 110, 'short': 111, 'distance': 112, 'street': 113, 'level': 114, 'late': 115, '1990’s': 116, 'lexington': 117, 'avenue': 118, '(today’s': 119, '6': 120, 'train)': 121, 'disembark': 122, 'stop.': 123, 'case.': 124, 'reopened,': 125, 'lights': 126, 'turned': 127, 'back': 128, 'on.': 129, 'get': 130, 'experience': 131, 'might': 132, 'have,': 133, 'stay': 134, 'loops': 135, 'around': 136, 'tracks': 137, 'heads': 138, 'north.': 139, 'museum': 140, 'hosts': 141, 'periodic': 142, 'tours': 143, 'abandoned': 144, 'station;': 145, 'must': 146, 'member': 147, 'attend.': 148, 'check': 149, 'website': 150, 'details.': 151, '1839,': 152, 'highgate': 153, 'london’s': 154, 'infamous': 155, 'cemeteries,': 156, 'originally': 157, 'city’s': 158, '“magnificent': 159, 'seven”': 160, 'park': 161, 'cemeteries.': 162, 'initial': 163, 'design': 164, 'carried': 165, 'architect': 166, 'stephen': 167, 'geary.': 168, 'among': 169, 'impressive': 170, 'victorian': 171, 'egyptian': 172, 'influenced': 173, 'tombs': 174, 'gravestones': 175, 'karl': 176, 'marx': 177, '(recognizable': 178, 'glowering': 179, 'bearded': 180, 'bust);': 181, 'sci-fi': 182, 'author': 183, 'douglas': 184, 'adams;': 185, 'james': 186, 'holman,': 187, 'sightless': 188, '19th-century': 189, 'adventurer': 190, 'known': 191, '“the': 192, 'blind': 193, 'traveler”': 194, '(a': 195, 'pioneer': 196, '“human': 197, 'echolocation,”': 198, 'able': 199, 'sense': 200, 'surroundings': 201, 'reverberations': 202, 'tapped': 203, 'cane': 204, 'horse’s': 205, 'hoof-beats);': 206, 'adam': 207, 'worth,': 208, 'famous': 209, 'criminal': 210, 'possible': 211, 'inspiration': 212, 'sherlock': 213, 'holmes’s': 214, 'nemesis,': 215, 'professor': 216, 'moriarty.': 217, 'comprised': 218, 'kensal': 219, 'green,': 220, 'highgate,': 221, 'west': 222, 'norwood,': 223, 'abney': 224, 'park,': 225, 'nunhead,': 226, 'brompton': 227, 'tower': 228, 'hamlets': 229, 'magnificent': 230, 'seven': 231, 'created': 232, '1832': 233, 'part': 234, 'effort': 235, 'move': 236, 'burials': 237, 'london': 238, 'response': 239, 'twin': 240, 'pressures': 241, 'health': 242, 'concerns': 243, 'overcrowded': 244, 'churchyard': 245, 'desires': 246, 'build-able': 247, 'land': 248, 'rapidly': 249, 'expanding': 250, 'city.': 251, 'cemetery’s': 252, 'buildings': 253, 'constructed': 254, 'imposing': 255, 'gothic': 256, 'style': 257, 'mid-': 258, '1800s': 259, 'highly': 260, 'sought-after': 261, 'burial': 262, 'ground.': 263, 'wwii': 264, 'cemetery': 265, 'overgrown,': 266, 'unattended,': 267, 'serious': 268, 'disrepair,': 269, 'added': 270, 'creepy': 271, 'feel.': 272, '1970s': 273, 'became': 274, 'location': 275, 'english': 276, 'tradition,': 277, 'horror': 278, 'films': 279, 'movie': 280, 'studio': 281, 'hammer.': 282, 'regenerated': 283, 'public': 284, 'interest': 285, 'cemetery,': 286, 'stories': 287, 'grave': 288, 'robbing,': 289, 'desecration,': 290, 'vampires': 291, 'began': 292, 'appearing': 293, 'news.': 294, 'described': 295, 'book': 296, 'beyond': 297, 'grave,': 298, '“many': 299, 'claimed': 300, 'see': 301, 'particular': 302, 'creature': 303, 'hovering': 304, 'graves.': 305, 'scores': 306, '‘vampire': 307, 'hunters’': 308, 'regularly': 309, 'converged': 310, 'graveyard': 311, 'dead': 312, 'night.': 313, 'broken': 314, 'open': 315, 'bodies': 316, 'mutilated': 317, 'wooden': 318, 'stakes': 319, 'driven': 320, 'chests.': 321, 'stolen': 322, 'corpses,': 323, 'turning': 324, 'strange': 325, 'places,': 326, 'continuously': 327, 'startled': 328, 'residents.': 329, 'horrified': 330, 'neighbor': 331, 'discovered': 332, 'headless': 333, 'body': 334, 'propped': 335, 'behind': 336, 'steering': 337, 'wheel': 338, 'car': 339, 'morning!”': 340, 'vampire': 341, 'sensation': 342, 'culminated': 343, '1970': 344, 'two': 345, 'magicians,': 346, 'farrant': 347, 'manchester,': 348, 'claiming': 349, 'find': 350, 'kill': 351, 'supposed': 352, 'vampire.': 353, 'manchester': 354, 'announced': 355, 'official': 356, 'hunt,': 357, 'friday': 358, '13th,': 359, '“a': 360, 'mob': 361, '‘hunters’': 362, 'swarmed': 363, 'gates': 364, 'walls': 365, 'locked': 366, 'despite': 367, 'police': 368, 'efforts': 369, 'control': 370, 'them.”': 371, 'magicians': 372, 'settle': 373, 'debate': 374, '“magicians’': 375, 'duel”': 376, 'never': 377, 'happened.': 378, 'arrested': 379, 'next': 380, 'crucifix': 381, 'stake': 382, '1974': 383, 'jailed': 384, '“for': 385, 'damaging': 386, 'memorials': 387, 'interfering': 388, 'remains': 389, 'cemetery.”': 390, 'though': 391, 'neither': 392, 'magician': 393, 'found': 394, 'vampire,': 395, 'various': 396, '“hunts”': 397, 'graves': 398, 'ransacked': 399, 'real': 400, 'corpses': 401, 'indeed': 402, 'staked': 403, 'beheaded.': 404, 'continues': 405, 'day,': 406, 'popular': 407, 'occult,': 408, 'paranormal': 409, 'vampiric': 410, 'enthusiasts.': 411, 'ornate': 412, 'painted': 413, 'roof': 414, 'cobbled': 415, 'floors': 416, 'leadenhall': 417, 'market,': 418, 'located': 419, 'historic': 420, 'financial': 421, 'district,': 422, 'make': 423, 'rather': 424, 'magical': 425, 'place': 426, 'bit': 427, 'shopping—even': 428, 'played': 429, 'starring': 430, 'role': 431, 'harry': 432, 'potter': 433, 'films.': 434, 'covered': 435, 'market': 436, 'oldest': 437, 'markets': 438, 'london,': 439, 'selling': 440, 'meat': 441, 'fish': 442, 'far': 443, '14th': 444, 'century.': 445, 'current': 446, 'green': 447, 'red': 448, 'roof,': 449, '1881': 450, 'made': 451, 'attraction': 452, 'london.': 453, 'marketplace': 454, 'featured': 455, 'times': 456, 'series—it': 457, 'film': 458, 'original': 459, 'exterior': 460, 'shots': 461, 'diagon': 462, 'alley,': 463, 'cobblestoned': 464, 'shopping': 465, 'hub': 466, 'wizarding': 467, 'world': 468, 'hogwarts': 469, 'students': 470, 'stock': 471, 'school': 472, 'supplies': 473, 'like': 474, 'spellbooks': 475, 'wands.': 476, 'today': 477, 'wander': 478, 'market’s': 479, 'bull’s': 480, 'head': 481, 'passage': 482, 'may': 483, 'recognize': 484, 'blue': 485, 'optics': 486, 'shop': 487, '(an': 488, 'empty': 489, 'storefront': 490, 'time': 491, 'shooting)': 492, 'entrance': 493, 'leaky': 494, 'cauldron': 495, 'goblet': 496, 'fire.': 497, 'films,': 498, 'alley': 499, 'accessible': 500, 'wizards': 501, 'witches': 502, 'cauldron,': 503, 'unassuming': 504, 'pub': 505, 'wedged': 506, 'record': 507, 'store.': 508, 'true': 509, 'us': 510, 'muggles.': 511, 'jetty': 512, 'san': 513, 'francisco': 514, 'bay,': 515, 'wave': 516, 'organ': 517, '1986.': 518, 'collaboration': 519, 'exploratorium,': 520, 'artist': 521, 'peter': 522, 'richards': 523, 'acoustic': 524, 'sculpture': 525, 'amplifies': 526, 'sounds': 527, 'waves': 528, 'bay.': 529, 'organ’s': 530, 'carved': 531, 'granite': 532, 'marble': 533, 'demolished': 534, 'cemetery.': 535, 'magnificently': 536, 'old': 537, 'finely': 538, 'worked': 539, 'pieces': 540, 'form': 541, 'irregular': 542, 'terraced': 543, 'seating': 544, 'even': 545, 'trash': 546, 'holder.': 547, 'instrument': 548, '20': 549, 'pvc': 550, 'concrete': 551, 'pipes': 552, 'extend': 553, 'water': 554, 'elevations.': 555, 'sound': 556, 'crashing': 557, 'ends': 558, 'pipes.': 559, 'roll': 560, 'in,': 561, 'resound': 562, 'liquid': 563, 'music:': 564, 'low,': 565, 'gurgling': 566, 'notes': 567, 'ebb': 568, 'flow': 569, 'restless': 570, 'movement': 571, 'ocean': 572, 'changing': 573, 'tides.': 574, 'makes': 575, 'music?': 576, 'similar': 577, 'phenomena': 578, 'heard': 579, 'conch': 580, 'shell—a': 581, 'specific': 582, 'volume': 583, 'air': 584, 'resonating': 585, 'frequency.': 586, 'sort': 587, 'thing': 588, 'happens': 589, 'organ,': 590, 'important': 591, 'difference.': 592, 'columns': 593, 'within': 594, 'constantly': 595, 'change': 596, 'moves': 597, 'out,': 598, 'length': 599, 'column': 600, 'pipe': 601, 'changes,': 602, 'pitch': 603, 'produces': 604, 'also': 605, 'varies.': 606, 'larger': 607, 'air,': 608, 'lower': 609, 'sound;': 610, 'smaller': 611, 'higher': 612, 'sound.the': 613, 'park-like': 614, 'setting': 615, 'lee': 616, 'side': 617, 'breakwater': 618, 'view': 619, 'francisco’s': 620, 'marina': 621, 'skyline,': 622, 'east': 623, 'bay': 624, 'hills,': 625, 'sausalito,': 626, 'mt.': 627, 'tamalpais,': 628, 'presidio,': 629, 'golden': 630, 'gate': 631, 'bridge,': 632, 'marin': 633, 'headlands.': 634, 'fishermen': 635, 'often': 636, 'morning,': 637, 'feel': 638, 'detached': 639, 'peace': 640, '2004,': 641, 'parisian': 642, 'assigned': 643, 'training': 644, 'exercise': 645, 'previously': 646, 'uncharted': 647, 'catacombs': 648, 'paris': 649, 'beneath': 650, 'palais': 651, 'de': 652, 'chaillot.': 653, 'entering': 654, 'drain,': 655, 'officers': 656, 'came': 657, 'across': 658, 'sign': 659, 'read': 660, '“building': 661, 'site,': 662, 'access,”': 663, 'camera': 664, 'actively': 665, 'recorded': 666, 'images': 667, 'passed.': 668, 'approached': 669, 'camera,': 670, 'recording': 671, 'dogs': 672, 'barking': 673, 'triggered.': 674, 'descended': 675, 'deeper': 676, 'tunnels': 677, '500-square-meter': 678, 'cavern': 679, 'fully': 680, 'equipped': 681, 'cinema.': 682, 'included': 683, 'giant': 684, 'cinema': 685, 'screen,': 686, 'projection': 687, 'equipment,': 688, 'chairs': 689, 'handful': 690, 'noir': 691, 'classics': 692, 'recent': 693, 'thrillers.': 694, 'someone': 695, 'underground': 696, 'secret': 697, 'amphitheater.': 698, 'aside': 699, 'this,': 700, '“room,”': 701, 'fully-stocked': 702, 'bar': 703, 'restaurant,': 704, 'complete': 705, 'tables': 706, 'chairs.': 707, 'discovery': 708, 'left': 709, 'befuddled,': 710, 'mention': 711, 'professional': 712, 'installation': 713, 'electricity': 714, 'three': 715, 'phone': 716, 'lines.': 717, 'days': 718, 'later,': 719, 'returned': 720, 'experts': 721, 'french': 722, 'board': 723, 'try': 724, 'figure': 725, 'power': 726, 'coming': 727, 'from.': 728, 'cables': 729, 'cut': 730, 'note': 731, 'lying': 732, 'floor': 733, 'read,': 734, '“do': 735, 'us.”': 736, 'quarry': 737, 'existed': 738, 'outskirts': 739, 'since': 740, 'roman': 741, 'times.': 742, 'limestone': 743, 'quarries': 744, 'know': 745, 'today,': 746, 'eventually,': 747, 'helped': 748, 'expand': 749, 'point': 750, 'directly': 751, 'underneath': 752, 'metropolis.': 753, '200': 754, 'miles': 755, 'labyrinthine': 756, 'believed': 757, 'exist.': 758, 'vast': 759, 'tunneled,': 760, 'world,': 761, 'small': 762, 'section': 763, 'public.': 764, 'tiny': 765, 'portion,': 766, 'denfert-rochereau': 767, 'ossuary,': 768, 'popularly,': 769, 'catacombs,”': 770, 'become': 771, 'top': 772, 'tourist': 773, 'attractions': 774, 'paris.': 775, 'site': 776, 'houses': 777, 'skeletal': 778, 'six': 779, 'million': 780, 'former': 781, 'parisians.': 782, 'areas': 783, '18th': 784, 'century,': 785, 'cemeteries': 786, 'becoming': 787, 'over-populated.': 788, 'les': 789, 'innocents': 790, 'stuffed': 791, 'led': 792, 'improper': 793, 'burials,': 794, 'graves,': 795, 'unearthed': 796, 'corpses.': 797, 'neighbors': 798, 'getting': 799, 'sick': 800, 'infectious': 801, 'diseases': 802, 'due': 803, 'unhealthy': 804, 'conditions': 805, 'condemned.': 806, 'many': 807, 'graveyards': 808, 'overpopulated,': 809, 'causing': 810, 'problems': 811, 'inhabitants': 812, 'tons': 813, 'quarries,': 814, 'priests': 815, 'alike': 816, 'discreetly': 817, 'moved': 818, 'bones': 819, 'renovated': 820, 'tunnel': 821, 'period': 822, '1787': 823, '1814.': 824, 'notable': 825, 'people': 826, 'buried': 827, '“crowded”': 828, 'likely': 829, 'transferred': 830, 'catacombs.': 831, 'prominent': 832, 'frenchmen': 833, 'whose': 834, 'placed': 835, 'charles': 836, 'perrault': 837, '(famous': 838, 'little': 839, 'riding': 840, 'hood,': 841, 'puss': 842, 'boots,': 843, 'cinderella),': 844, 'jean': 845, 'la': 846, 'fontaine': 847, '(known': 848, 'fables),': 849, 'simon': 850, 'vouet': 851, '(painter),': 852, 'salomon': 853, 'brosse': 854, '(architect': 855, 'designed': 856, 'luxemburg': 857, 'palace': 858, 'paris),': 859, 'françois': 860, 'girardon': 861, '(sculptor).': 862, 'royal': 863, 'families': 864, 'importance': 865, '1867,': 866, 'area': 867, 'general': 868, 'age,': 869, 'deemed': 870, 'unsafe': 871, 'officials.': 872, 'nevertheless,': 873, 'size': 874, 'difficult': 875, 'keep': 876, 'societies,': 877, 'thieves,': 878, 'artists': 879, 'curious': 880, 'dangerous': 881, 'network.': 882, '1980s,': 883, 'dedicated': 884, 'exploration': 885, 'tunnels.': 886, 'cinema,': 887, 'patrick': 888, 'alk,': 889, 'photographer': 890, 'close': 891, 'group': 892, 'responsible': 893, 'said': 894, '“was': 895, 'shame,': 896, 'world.”': 897, 'dozens': 898, 'meeting': 899, 'places': 900, 'mysterious': 901, 'labyrinth.': 902, 'concluded,': 903, 'saying,': 904, '“you': 905, 'guys': 906, 'idea': 907, 'what’s': 908, 'there.”': 909, 'vandalism': 910, 'theft': 911, 'several': 912, 'skulls,': 913, '2009': 914, 'december': 915, 'year.': 916, 'reopening': 917, 'comes': 918, 'additional': 919, 'security': 920, 'bag': 921, 'checks': 922, 'upon': 923, 'exiting.': 924, 'evolution': 925, 'stands': 926, 'clothing': 927, 'stores': 928, 'restaurants': 929, 'manhattan’s': 930, 'soho': 931, 'art': 932, 'district': 933, 'truly': 934, 'distinctive': 935, 'handsome': 936, 'shop.': 937, 'tucked': 938, 'every': 939, 'corner': 940, 'crevice': 941, 'store': 942, 'unique': 943, 'natural': 944, 'history': 945, 'collectibles.': 946, 'framed': 947, 'butterflies': 948, 'insects': 949, 'walls,': 950, 'fossils': 951, 'seashells': 952, 'jars': 953, 'crowd': 954, 'wide': 955, 'tables,': 956, 'tribal': 957, 'fills': 958, 'cases,': 959, 'skulls': 960, 'skeletons': 961, 'hang': 962, 'ceiling,': 963, 'medical': 964, 'models': 965, 'posters': 966, 'fill': 967, 'spare': 968, 'space.': 969, 'evolution’s': 970, 'staff': 971, 'knowledgeable': 972, 'enthusiastic': 973, 'welcome': 974, 'questions': 975, 'wares.': 976, 'specimens': 977, 'acquired': 978, 'supply': 979, 'museums': 980, 'high': 981, 'quality.': 982, 'stumble': 983, 'labyrinth,': 984, 'arms': 985, 'outstretched.': 986, 'so,': 987, 'sometimes': 988, 'smacking': 989, 'headfirst': 990, 'reflection.': 991, 'shrieking': 992, 'giggling': 993, 'reach': 994, 'else': 995, 'ask,': 996, '“are': 997, 'real?”': 998, 'maze': 999, 'contained': 1000, 'nondescript': 1001, 'building': 1002, 'pier': 1003, '39.': 1004, 'it’s': 1005, 'disorienting': 1006, 'dungeon': 1007, 'mirrors,': 1008, 'lit': 1009, 'blacklight': 1010, 'flashing': 1011, 'neon': 1012, 'scored': 1013, 'rave': 1014, 'music.': 1015, 'you’ve': 1016, 'managed': 1017, 'purveyors': 1018, 'recommend': 1019, 'trying': 1020, 'again,': 1021, 'backwards.': 1022, 'trippy': 1023, 'scene': 1024, 'standard': 1025, 'fare': 1026, 'magowan’s': 1027, 'infinite': 1028, 'mirror': 1029, 'visitors': 1030, 'ages,': 1031, 'drugs': 1032, 'required': 1033, '(or': 1034, 'recommended': 1035, 'matter).': 1036, 'founder': 1037, 'calls': 1038, '“one': 1039, 'art,': 1040, 'science.”': 1041, 'trick': 1042, 'simple–you’ve': 1043, 'probably': 1044, 'seen': 1045, 'carnival–but': 1046, 'effect': 1047, 'still': 1048, 'enchanting.': 1049, 'update': 1050, 'february': 1051, '2018:': 1052, 'appears': 1053, 'business,': 1054, 'closing': 1055, 'briefly': 1056, 'explanation.': 1057, 'rest': 1058, 'country': 1059, 'forced': 1060, 'dry,': 1061, 'los': 1062, 'angeles': 1063, 'party': 1064, 'stopped.': 1065, 'prohibition': 1066, 'laws,': 1067, '11': 1068, 'service': 1069, 'passageways': 1070, 'basement': 1071, 'speakeasies': 1072, 'innocuous': 1073, 'fronts': 1074, 'patrons': 1075, 'city,': 1076, 'boozing': 1077, 'without': 1078, 'care': 1079, 'mayor’s': 1080, 'office': 1081, 'ran': 1082, 'hootch.': 1083, 'king': 1084, 'eddy': 1085, 'saloon,': 1086, 'establishment': 1087, 'alive': 1088, 'kicking': 1089, '5th': 1090, 'main': 1091, '1900s,': 1092, 'hid': 1093, 'plain': 1094, 'sight': 1095, 'fronting': 1096, 'piano': 1097, 'luckily,': 1098, 'officials': 1099, 'took': 1100, 'issue': 1101, 'eddy’s': 1102, 'sudden': 1103, 'music,': 1104, 'business': 1105, 'survived,': 1106, 'prospered.': 1107, 'saloon': 1108, 'more,': 1109, 'system,': 1110, 'littered': 1111, 'crumbling': 1112, 'brick': 1113, 'lines': 1114, 'graffiti': 1115, 'murals.': 1116, 'tunnels,': 1117, 'equestrian': 1118, 'personal': 1119, 'vehicles': 1120, 'clogging': 1121, 'la’s': 1122, 'streets.': 1123, 'transport': 1124, 'prisoners,': 1125, 'bank': 1126, 'sums': 1127, 'cash': 1128, 'safely,': 1129, 'coroners': 1130, 'mobsters': 1131, 'bodies.': 1132, 'mostly': 1133, 'off,': 1134, 'locations,': 1135, 'easy': 1136, 'shortcuts': 1137, 'employees': 1138, 'buildings,': 1139, 'runners': 1140, 'rare': 1141, 'occasion': 1142, 'bad': 1143, 'weather.': 1144, 'explore': 1145, 'highway': 1146, 'underground,': 1147, 'slip': 1148, 'records': 1149, 'temple': 1150, 'locate': 1151, 'easy-to-miss': 1152, 'elevator.': 1153, 'you’ll': 1154, 'transported': 1155, 'subterranean': 1156, 'filled': 1157, 'rusted': 1158, 'machinery,': 1159, 'iron': 1160, 'limit': 1161, 'earthquake': 1162, 'safe.': 1163, 'officially,': 1164, '16th': 1165, 'staircase': 1166, '163': 1167, 'steps': 1168, 'mosaic': 1169, 'tiles,': 1170, 'colorful': 1171, 'hidden': 1172, 'quiet': 1173, 'sunset': 1174, 'francisco.': 1175, 'neighborhood': 1176, 'draws,': 1177, 'rewarded': 1178, 'sweeping': 1179, 'views': 1180, 'beautiful': 1181, 'garden': 1182, 'succulents': 1183, 'native': 1184, 'habitat': 1185, 'plants': 1186, 'hairstreak': 1187, 'butterfly.': 1188, 'waypoint': 1189, 'butterfly-bolstering': 1190, 'corridor.': 1191, 'project': 1192, '2003': 1193, 'completed': 1194, '2005,': 1195, 'help': 1196, 'volunteers,': 1197, 'inspired': 1198, 'selarón': 1199, 'rio': 1200, 'janeiro,': 1201, 'brightly': 1202, 'colored': 1203, 'tiled': 1204, 'destination.': 1205, 'mosaics': 1206, 'donated': 1207, 'community.': 1208, 'sun': 1209, '(the': 1210, 'stairs': 1211, 'ascend': 1212, '“sea': 1213, 'level”': 1214, 'sun—get': 1215, 'it?).': 1216, 'there’s': 1217, 'bottom': 1218, 'last': 1219, 'crops': 1220, 'franciscan': 1221, 'formation': 1222, '(it': 1223, 'biozone!).': 1224, 'stairway': 1225, 'collette': 1226, 'crutcher': 1227, 'aileen': 1228, 'barr.': 1229, 'walking': 1230, 'church': 1231, 'tribeca,': 1232, 'eye': 1233, 'black': 1234, 'cryptic': 1235, 'white': 1236, 'reads': 1237, 'dream': 1238, 'house.': 1239, 'although': 1240, 'typical': 1241, 'house': 1242, '4-door': 1243, 'garage,': 1244, 'guarantees': 1245, 'one-of-a-kind': 1246, 'experience,': 1247, 'completely': 1248, 'absorbing,': 1249, 'fluctuating': 1250, 'accompanied': 1251, 'pink': 1252, 'reflections': 1253, 'light.': 1254, '1993': 1255, 'modern': 1256, 'composer': 1257, 'monte': 1258, 'young': 1259, 'visual': 1260, 'marian': 1261, 'zazeela': 1262, '(who': 1263, 'married': 1264, 'another),': 1265, 'culmination': 1266, '40': 1267, 'years': 1268, 'work.': 1269, 'explains': 1270, '“together,': 1271, 'light': 1272, 'experienced': 1273, 'media:': 1274, 'environment.': 1275, 'mediums': 1276, 'together': 1277, 'requires': 1278, 'new,': 1279, 'least': 1280, 'different,': 1281, 'mode': 1282, 'attention.”': 1283, 'example,': 1284, 'still,': 1285, 'prepared': 1286, 'encounter': 1287, 'collection': 1288, 'pitches': 1289, 'make,': 1290, 'fields': 1291, 'young.': 1292, 'invite': 1293, 'dive': 1294, 'wednesday': 1295, 'saturday': 1296, '2pm-midnight.': 1297, 'admission': 1298, '$10.00–': 1299, 'right': 1300, 'in.': 1301, 'august': 1302, 'restaurant': 1303, 'address': 1304, 'now.': 1305, 'third': 1306, 'denoted': 1307, 'paper': 1308, 'sign.': 1309, 'death,': 1310, 'showcase': 1311, 'that,': 1312, 'founded': 1313, 'diego': 1314, '1995.': 1315, '2000,': 1316, 'proprietors': 1317, 'healy': 1318, 'cathee': 1319, 'shultz': 1320, 'angeles,': 1321, 'expanded': 1322, 'largest': 1323, 'serial': 1324, 'murderer': 1325, 'artwork,': 1326, 'photos': 1327, 'manson': 1328, 'crime': 1329, 'scenes,': 1330, 'dahlia': 1331, 'murders,': 1332, 'relics': 1333, 'violent,': 1334, 'fatal': 1335, 'macabre.': 1336, 'exhibits': 1337, 'include': 1338, 'guillotined,': 1339, 'severed': 1340, 'henri': 1341, 'landru,': 1342, 'coffin': 1343, 'collection,': 1344, 'full': 1345, 'replicas': 1346, 'execution': 1347, 'devices,': 1348, 'mortician': 1349, 'autopsy': 1350, 'instruments': 1351, '(and': 1352, 'pictures': 1353, 'video': 1354, 'use),': 1355, 'taxidermy': 1356, 'showcases,': 1357, 'heaven’s': 1358, 'cult': 1359, 'recruiting': 1360, 'more.': 1361, 'far,': 1362, 'death': 1363, 'must-see': 1364, 'inner-ghoul.': 1365, 'self-guided': 1366, 'tour': 1367, 'lasts': 1368, 'hour,': 1369, 'but,': 1370, 'course,': 1371, 'you’re': 1372, 'long': 1373, '(if': 1374, 'it).': 1375, '“i': 1376, 'think': 1377, 'shocks': 1378, 'people,': 1379, 'good': 1380, 'shock,”': 1381, 'healy.': 1382, '“seeing': 1383, 'artifacts': 1384, 'reminds': 1385, 'precious': 1386, 'life': 1387, 'is.”': 1388, '2020:': 1389, 'currently': 1390, 'prepare': 1391, 'relocate': 1392, 'location.': 1393, 'years,': 1394, 'walthamstow': 1395, 'unremarkable': 1396, 'gray': 1397, 'streets': 1398, 'drab': 1399, 'flats': 1400, 'northeast': 1401, 'fringe': 1402, 'recently,': 1403, 'gentrification': 1404, 'brought': 1405, 'influx': 1406, 'creatives': 1407, 'hipsters': 1408, 'neighborhood.': 1409, 'faces': 1410, 'come': 1411, 'purple': 1412, 'haze': 1413, 'god’s': 1414, 'junkyard.': 1415, 'junkyard': 1416, 'kaleidoscopic': 1417, 'warehouse-maze': 1418, 'handmade': 1419, 'signs': 1420, 'blazes': 1421, 'forth': 1422, 'industrial': 1423, 'estate': 1424, 'vegas': 1425, 'mirage.': 1426, 'curated': 1427, 'third-generation': 1428, 'artisan': 1429, 'marcus': 1430, 'bracey,': 1431, 'gojy': 1432, 'serves': 1433, 'functions:': 1434, 'free': 1435, 'gallery': 1436, 'instagram': 1437, 'bonanza': 1438, 'public;': 1439, 'dealer': 1440, 'recycler': 1441, 'signage': 1442, 'businesses;': 1443, 'prop': 1444, 'photo': 1445, 'shoots;': 1446, 'lucrative': 1447, 'customer': 1448, 'electric': 1449, 'utility.': 1450, 'includes': 1451, 'thousands': 1452, 'signs,': 1453, 'props,': 1454, 'figures,': 1455, 'displayed': 1456, 'single': 1457, 'warehouse': 1458, 'cheerful': 1459, 'emblems': 1460, 'diners': 1461, 'hotels': 1462, 'wink': 1463, 'wall': 1464, 'wall.': 1465, 'disreputable': 1466, 'fun': 1467, 'represented': 1468, 'bright': 1469, 'light,': 1470, 'stacked': 1471, 'hung': 1472, 'ceiling:': 1473, 'cocktails,': 1474, 'karaoke,': 1475, 'rock': 1476, '‘n’': 1477, 'roll,': 1478, 'pinball,': 1479, 'disco,': 1480, 'casinos.': 1481, 'neon-trimmed': 1482, 'religious': 1483, 'share': 1484, 'space': 1485, 'lurid': 1486, 'displays': 1487, 'for,': 1488, 'by,': 1489, 'retro': 1490, 'carnal': 1491, 'vice': 1492, 'dens': 1493, 'soho.': 1494, 'bracey': 1495, 'told': 1496, 'independent': 1497, 'newspaper': 1498, 'describing': 1499, 'creative': 1500, 'process,': 1501, 'stand': 1502, 'look': 1503, 'it,': 1504, 'that’s': 1505, 'really': 1506, 'gives': 1507, 'kick.”': 1508, 'bibliophiles': 1509, 'prefer': 1510, 'prized': 1511, 'possessions': 1512, 'kept': 1513, 'vault': 1514, 'opposed': 1515, 'bookshelf,': 1516, 'actually': 1517, 'action.': 1518, 'enter': 1519, 'bookstore,': 1520, 'iconic': 1521, 'not-so-subtly': 1522, 'symbolic': 1523, 'name': 1524, 'housed': 1525, 'grand': 1526, 'atrium': 1527, 'bank.': 1528, 'pillars': 1529, 'mile-high': 1530, 'ceiling': 1531, 'remain': 1532, 'bank,': 1533, 'guarded': 1534, 'stacks': 1535, 'cash,': 1536, 'bookshelves': 1537, 'artful': 1538, 'books': 1539, 'abound.': 1540, 'imply': 1541, 'everything': 1542, 'brand': 1543, 'sparkly.': 1544, 'bookstore': 1545, 'specializes': 1546, 'reasonably': 1547, 'priced': 1548, 'books,': 1549, 'takes': 1550, 'great': 1551, 'pride': 1552, 'offering': 1553, 'selection': 1554, 'well-kept': 1555, 'vintage': 1556, 'well.': 1557, 'anyone': 1558, 'who’s': 1559, 'ever': 1560, 'loved': 1561, 'exactly': 1562, 'means': 1563, 'musty,': 1564, 'decadent': 1565, 'smell': 1566, 'hangs': 1567, 'seemingly': 1568, 'sacred': 1569, 'place.': 1570, 'almost': 1571, 'beauty': 1572, 'disarray,': 1573, 'way': 1574, 'throughout': 1575, 'store,': 1576, 'sculptures': 1577, 'custom-built': 1578, 'overstocked': 1579, 'damaged': 1580, 'copies.': 1581, 'nooks,': 1582, 'itself,': 1583, 'winkingly': 1584, 'displayed.': 1585, 'hardbacks': 1586, 'arranged': 1587, 'color.': 1588, 'fiction': 1589, 'purposefully': 1590, 'unarranged,': 1591, 'meant': 1592, 'inspire': 1593, 'treasure': 1594, 'hunts': 1595, 'shoppers.': 1596, 'short,': 1597, 'inch': 1598, 'lovers': 1599, 'fall': 1600, 'love': 1601, 'succeeds.': 1602, 'st.dunstan-in-the-east': 1603, 'survived': 1604, 'lot': 1605, '900-year': 1606, 'history,': 1607, 'fire': 1608, '1666.': 1609, 'parish': 1610, 'halfway': 1611, 'norman': 1612, 'caused': 1613, 'terrible': 1614, 'damage': 1615, 'faithfully': 1616, 'rebuilt': 1617, 'topped': 1618, 'steeple': 1619, 'sir': 1620, 'christopher': 1621, 'wren.': 1622, '1941,': 1623, 'devastated': 1624, 'blitz.': 1625, 'direct': 1626, 'hit': 1627, 'destroyed': 1628, 'apart': 1629, 'north': 1630, 'south': 1631, 'wren’s': 1632, 'steeple.': 1633, 'threat': 1634, 'german': 1635, 'invasion': 1636, 'united': 1637, 'kingdom': 1638, 'ended': 1639, 'battle': 1640, 'britain': 1641, 'year': 1642, 'earlier,': 1643, 'sustained': 1644, 'strategic': 1645, 'bombing': 1646, 'uk': 1647, 'continued.': 1648, 'blitz': 1649, 'reaching': 1650, 'crescendo.': 1651, 'starting': 1652, 'september': 1653, '7,': 1654, '1940,': 1655, 'bombed': 1656, 'nearly': 1657, '60': 1658, 'consecutive': 1659, 'nights.': 1660, 'night': 1661, '29': 1662, 'saw': 1663, 'ferocity,': 1664, 'luftwaffe': 1665, 'blanketed': 1666, 'bombs': 1667, 'called': 1668, 'second': 1669, 'blitz,': 1670, '1': 1671, 'homes': 1672, 'destroyed,': 1673, 'saxon': 1674, 'church.': 1675, 'war,': 1676, 'rubble,': 1677, 'slow': 1678, 'rebuilding': 1679, 'process': 1680, 'began.': 1681, 'st.': 1682, 'dunstan-in-the-east': 1683, 'remained': 1684, 'ruins.': 1685, '1967,': 1686, 'corporation': 1687, 'decided': 1688, 'turn': 1689, 'bombed-out': 1690, 'shell': 1691, 'garden,': 1692, 'day.': 1693, 'away': 1694, 'secluded': 1695, 'street,': 1696, 'dwarfed': 1697, 'steel': 1698, 'chrome': 1699, 'structures': 1700, 'gardens.': 1701, 'blitz-damaged': 1702, 'kingdom,': 1703, 'overgrown': 1704, 'trees,': 1705, 'ivy,': 1706, 'wall-climbing': 1707, 'flowers': 1708, 'growing': 1709, 'amongst': 1710, 'ruined': 1711, 'arches,': 1712, 'poignant': 1713, 'living': 1714, 'memorial': 1715, 'horrors': 1716, 'testament': 1717, 'resilience': 1718, 'it.': 1719, 'traveled': 1720, 'foolishly': 1721, 'forgotten': 1722, 'pastport?': 1723, 'woken': 1724, 'morning': 1725, 'realized': 1726, 'fresh': 1727, 'dinosaur': 1728, 'eggs': 1729, 'breakfast?': 1730, 'robot': 1731, 'milk…and': 1732, 'toupee?': 1733, 'thankfully,': 1734, 'echo': 1735, 'travel': 1736, 'mart': 1737, 'necessary': 1738, 'trip': 1739, 'fourth': 1740, 'dimension': 1741, '–': 1742, 'yes,': 1743, 'apparently': 1744, 'toupees!': 1745, '826,': 1746, 'organization': 1747, 'superhero': 1748, 'pirate': 1749, 'francisco,': 1750, 'travel-themed': 1751, 'retail': 1752, 'boasts': 1753, 'slogan,': 1754, '“whenever': 1755, 'are,': 1756, 'we’re': 1757, 'already': 1758, 'then.”': 1759, 'sells': 1760, 'humorous': 1761, 'past,': 1762, 'present': 1763, 'future,': 1764, 'barbarian': 1765, 'repellent,': 1766, 'michael': 1767, 'jordan': 1768, 'pogs': 1769, 'varying': 1770, 'emotions.': 1771, 'california': 1772, '826': 1773, 'shops,': 1774, 'functions': 1775, 'literacy': 1776, 'tutoring': 1777, 'center.': 1778, 'window': 1779, 'caveman': 1780, 'mannequin': 1781, 'shaking': 1782, 'hands': 1783, 'robot,': 1784, 'non-profit': 1785, 'organization,': 1786, '20-30': 1787, 'per': 1788, 'day': 1789, 'tutored': 1790, 'expository': 1791, 'writing.': 1792, 'proceeds': 1793, 'funding': 1794, 'playful': 1795, 'theme': 1796, 'creativity': 1797, 'students,': 1798, 'well': 1799, 'bring': 1800, 'advertising': 1801, '826la': 1802, 'primarily': 1803, 'features': 1804, 'quirky': 1805, 'items,': 1806, 'time-freezy': 1807, 'hyper': 1808, 'slush': 1809, 'ice': 1810, 'drinks': 1811, 'wooly': 1812, 'mammoth': 1813, 'chunks,': 1814, 'browse': 1815, 'purchase': 1816, 'students’': 1817, 'publications,': 1818, 'appropriately': 1819, 'freezer.': 1820, 'toured': 1821, 'obscura': 1822, '-': 1823, 'march': 1824, '20th,': 1825, '2010.': 1826, 'photos,': 1827, 'queen': 1828, 'victoria,': 1829, 'matthew': 1830, 'barney,': 1831, 'jules': 1832, 'verne,': 1833, 'floyd': 1834, 'names': 1835, 'usually': 1836, 'hear': 1837, 'sentence,': 1838, 'quite': 1839, 'uncommon.': 1840, 'fingal’s': 1841, 'cave,': 1842, 'bears': 1843, 'geology': 1844, 'unlike': 1845, 'cave': 1846, 'world.': 1847, '72': 1848, 'feet': 1849, 'tall': 1850, '270': 1851, 'deep,': 1852, 'sea': 1853, 'visually': 1854, 'astoundingly': 1855, 'hexagonal': 1856, 'basalt,': 1857, 'shaped': 1858, 'neat': 1859, 'six-sided': 1860, 'interior': 1861, 'walls.': 1862, 'fractured': 1863, 'crude': 1864, 'walkway': 1865, 'inside': 1866, 'cave.': 1867, 'well-known': 1868, 'wonder': 1869, 'ancient': 1870, 'irish': 1871, 'scottish': 1872, 'celtic': 1873, 'legends.': 1874, 'celts': 1875, 'uamh-binn': 1876, 'melody,”': 1877, 'legend,': 1878, 'particular,': 1879, 'explained': 1880, 'existence': 1881, 'giant’s': 1882, 'causeway': 1883, 'ireland.': 1884, 'basalt': 1885, 'columns,': 1886, 'legend': 1887, 'holds': 1888, 'fionn': 1889, 'mac': 1890, 'cumhaill': 1891, '(a.k.a.': 1892, 'finn': 1893, 'mccool),': 1894, 'scotland': 1895, 'fight': 1896, 'benandonner,': 1897, 'gigantic': 1898, 'rival.': 1899, 'connects': 1900, 'structures,': 1901, 'geologically': 1902, 'correct.': 1903, 'lava': 1904, 'flow,': 1905, 'formed': 1906, '“bridge”': 1907, 'sites.': 1908, 'happened': 1909, 'ago,': 1910, 'nonetheless,': 1911, 'deductive': 1912, 'reasoning': 1913, 'peoples': 1914, 'connection': 1915, 'base': 1916, 'related.': 1917, 'rediscovered': 1918, 'naturalist': 1919, 'joseph': 1920, 'banks': 1921, 'visited': 1922, '1772.': 1923, 'banks’': 1924, 'discovery,': 1925, 'fingal,': 1926, 'epic': 1927, 'poem': 1928, 'poetic': 1929, 'series,': 1930, 'supposedly': 1931, 'translated': 1932, 'gaelic': 1933, 'poet': 1934, 'macpherson.': 1935, 'influence': 1936, 'goethe,': 1937, 'napoleon,': 1938, 'banks,': 1939, 'promptly': 1940, 'named': 1941, 'uamh-binn,': 1942, 'calling': 1943, '“fingal’s': 1944, 'cave.”': 1945, 'rediscovering': 1946, 'renaming': 1947, 'romantic': 1948, 'fame.': 1949, 'famed': 1950, 'felix': 1951, 'mendelssohn': 1952, 'splendor': 1953, 'sent': 1954, 'opening': 1955, 'phrase': 1956, 'overture': 1957, 'postcard': 1958, 'sister': 1959, 'note:': 1960, '“in': 1961, 'order': 1962, 'understand': 1963, 'extraordinarily': 1964, 'hebrides': 1965, 'affected': 1966, 'me,': 1967, 'send': 1968, 'following,': 1969, 'overture,': 1970, 'premiered': 1971, '14,': 1972, '1832,': 1973, 'based': 1974, 'amazing': 1975, 'noises': 1976, 'produces.)': 1977, 'one-two': 1978, 'punch,': 1979, 'j.': 1980, 'm.': 1981, 'w.': 1982, 'turner': 1983, '“staffa,': 1984, 'cave”': 1985, 'launched': 1986, 'little-known': 1987, 'romantic-victorian': 1988, 'site.': 1989, 'william': 1990, 'wordsworth,': 1991, 'john': 1992, 'keats,': 1993, 'lord': 1994, 'tennyson,': 1995, 'victoria': 1996, 'consummate': 1997, 'traveler': 1998, 'lover': 1999, 'wonders,': 2000, 'verne.': 2001, 'imagination.': 2002, 'early,': 2003, 'unreleased': 2004, 'songs': 2005, 'barney': 2006, 'cremaster': 2007, 'cycle.': 2008, 'visit': 2009, 'via': 2010, 'cruise': 2011, '(though': 2012, 'boats': 2013, 'cannot': 2014, 'regular': 2015, 'passes': 2016, 'it)': 2017, 'island': 2018, 'staffa': 2019, 'hike': 2020, 'stepping': 2021, 'column.': 2022, 'way,': 2023, 'northern': 2024, 'shores': 2025, 'host': 2026, 'puffin': 2027, 'colony': 2028, 'summer': 2029, 'months.': 2030, '190': 2031, 'greatest': 2032, 'geological': 2033, 'formations': 2034, 'take': 2035, 'shape.': 2036, 'coyote': 2037, 'buttes': 2038, 'ravine,': 2039, '5,225': 2040, 'level,': 2041, 'arizona’s': 2042, 'wave.': 2043, 'remarkable': 2044, 'undulating': 2045, 'appearance,': 2046, 'massive': 2047, 'sandstone': 2048, 'stretched': 2049, 'taffy': 2050, 'cinnamon': 2051, 'color': 2052, 'strata': 2053, 'domes.': 2054, 'is,': 2055, 'snapshot': 2056, 'time,': 2057, 'shot': 2058, 'forces': 2059, 'navajo': 2060, 'dunes': 2061, 'calcified': 2062, 'vertically': 2063, 'horizontally,': 2064, 'hardened,': 2065, 'compacted': 2066, 'rocks': 2067, 'time.': 2068, 'peculiar': 2069, 'stratum': 2070, 'rain': 2071, 'erosion.': 2072, 'basically': 2073, 'unknown': 2074, '1990s': 2075, 'largely': 2076, 'advertised': 2077, 'brochures': 2078, 'shown': 2079, '1996': 2080, 'faszination': 2081, 'natur.': 2082, 'groups': 2083, 'europeans': 2084, 'area,': 2085, 'popularity': 2086, 'grew;': 2087, 'guides': 2088, 'confide': 2089, 'european': 2090, 'population': 2091, 'visits,': 2092, 'americans': 2093, 'definitely': 2094, 'begun': 2095, 'notice': 2096, 'landscape.': 2097, 'describe': 2098, 'intensely': 2099, 'surreal': 2100, 'vertigo': 2101, 'inducing,': 2102, 'drug': 2103, 'induced': 2104, 'dream.': 2105, 'certainly': 2106, 'photographer’s': 2107, 'delight,': 2108, 'professionals': 2109, 'amateurs': 2110, 'strive': 2111, 'perfect': 2112, 'mid-day': 2113, 'shadow': 2114, 'eclipses': 2115, 'wave,': 2116, 'dramatic': 2117, 'near-twilight': 2118, 'domes': 2119, 'casting': 2120, 'stark': 2121, 'shadows': 2122, 'land.': 2123, 'susceptible': 2124, 'damage.': 2125, 'permits': 2126, 'required.': 2127, 'issued': 2128, 'online': 2129, 'lotteries,': 2130, 'available': 2131, 'hire.': 2132, '1886': 2133, 'eccentric': 2134, 'woman': 2135, 'sarah': 2136, 'winchester': 2137, 'haven,': 2138, 'connecticut,': 2139, 'jose,': 2140, 'california,': 2141, 'start': 2142, 'life.': 2143, 'purchased': 2144, 'eight-room': 2145, 'farmhouse': 2146, 'started': 2147, 'renovation': 2148, '36': 2149, '$5.5': 2150, '(in': 2151, 'money': 2152, 'time),': 2153, 'stopping': 2154, 'passed': 2155, '1922.': 2156, 'done,': 2157, 'mansion': 2158, 'marvel': 2159, 'indoor': 2160, 'plumbing,': 2161, 'multiple': 2162, 'elevators,': 2163, 'hot': 2164, 'shower,': 2165, 'central': 2166, 'heating.': 2167, '160': 2168, 'rooms': 2169, 'bedrooms,': 2170, '10,000': 2171, 'windows,': 2172, '2': 2173, 'basements.': 2174, '2,000': 2175, 'walked': 2176, 'through—one': 2177, 'leads': 2178, '8-foot': 2179, 'drop': 2180, 'kitchen': 2181, 'sink,': 2182, '15-foot': 2183, 'bushes': 2184, 'below.': 2185, 'staircases': 2186, 'lead': 2187, 'straight': 2188, 'ceilings,': 2189, 'expensive': 2190, 'tiffany': 2191, 'stained-glass': 2192, 'windows': 2193, 'passages': 2194, 'narnia.': 2195, 'particularly': 2196, 'odd': 2197, 'delight': 2198, 'cabinet': 2199, 'opened,': 2200, 'extends': 2201, '30': 2202, 'sure': 2203, 'mrs.': 2204, 'demanded': 2205, 'constant': 2206, 'changes': 2207, 'stories.': 2208, 'prevalent': 2209, 'story': 2210, 'haunted': 2211, 'spirits': 2212, 'killed': 2213, 'rifle,': 2214, 'husband’s': 2215, 'invented.': 2216, 'husband': 2217, 'away,': 2218, 'psychic': 2219, 'evade': 2220, 'spirits,': 2221, 'west,': 2222, 'buy': 2223, 'home,': 2224, 'build': 2225, 'nonstop.': 2226, 'theories': 2227, 'say': 2228, 'soon': 2229, 'construction': 2230, 'complete,': 2231, 'die,': 2232, 'suggest': 2233, 'tormentors': 2234, 'intricacies': 2235, 'building.': 2236, 'theory': 2237, 'goes,': 2238, 'avoid': 2239, 'sleep': 2240, 'different': 2241, 'bedroom': 2242, 'paths': 2243, 'home.': 2244, 'struck': 2245, '1906': 2246, 'toppled': 2247, 'house,': 2248, 'four': 2249, 'completion': 2250, 'ordered': 2251, 'unfinished': 2252, 'front': 2253, 'half': 2254, 'boarded': 2255, 'up.': 2256, 'now,': 2257, 'clearly': 2258, 'visible.': 2259, 'ongoing': 2260, 'claims': 2261, 'ghostly': 2262, 'encounters': 2263, 'property,': 2264, 'early': 2265, 'management': 2266, 'parapsychologist': 2267, 'investigator': 2268, 'chacon': 2269, 'conduct': 2270, 'full-scale': 2271, 'scientific': 2272, 'assessment': 2273, 'property.': 2274, 'month-long,': 2275, 'round-the-clock': 2276, 'investigation': 2277, 'interviewing': 2278, '300': 2279, 'regarding': 2280, 'experiences': 2281, 'analyzed': 2282, 'aspect': 2283, 'environment': 2284, 'unusual': 2285, 'phenomena.': 2286, '2018,': 2287, 'live': 2288, 'within.': 2289, 'greater': 2290, 'impact': 2291, 'human': 2292, 'civilization': 2293, 'smallpox.': 2294, 'bubonic': 2295, 'plague': 2296, 'wins': 2297, 'baroque': 2298, 'presentation.': 2299, 'malaria': 2300, 'hiv': 2301, 'concurrent': 2302, 'thus': 2303, 'real.': 2304, 'smallpox': 2305, 'contamination': 2306, 'cake.': 2307, '3,000': 2308, 'parts': 2309, 'vaccine': 2310, '1796,': 2311, '400,000': 2312, 'died': 2313, 'europe': 2314, 'alone.': 2315, 'according': 2316, 'ten': 2317, 'children': 2318, 'sweden': 2319, 'france': 2320, 'russia.': 2321, 'disease': 2322, 'louis': 2323, 'xv': 2324, 'monarchs.': 2325, 'elizabeth': 2326, 'child': 2327, 'wore': 2328, 'heavy': 2329, 'make-up': 2330, 'conceal': 2331, 'pockmarks.': 2332, 'indian': 2333, 'wars,': 2334, 'blankets': 2335, 'containing': 2336, 'given': 2337, 'delaware': 2338, 'amerindians,': 2339, 'instance': 2340, 'biological': 2341, 'warfare.': 2342, 'extensive': 2343, 'worldwide': 2344, 'vaccination': 2345, 'efforts,': 2346, 'eradicated': 2347, '1979': 2348, 'intervention.': 2349, '1800s,': 2350, 'western': 2351, 'states': 2352, 'eradicate': 2353, 'universal': 2354, 'vaccination.': 2355, 'cities': 2356, 'hospitals': 2357, 'specifically': 2358, 'treating': 2359, 'sufferers.': 2360, 'southern': 2361, 'tip': 2362, 'blackwell’s': 2363, '(now': 2364, 'roosevelt': 2365, 'island)': 2366, 'provided': 2367, 'ferry': 2368, 'access': 2369, 'infected': 2370, 'patients': 2371, 'population.': 2372, 'better': 2373, 'grace': 2374, 'broadway': 2375, 'patrick’s': 2376, 'cathedral': 2377, 'madison': 2378, 'avenue,': 2379, 'renwick': 2380, 'jr.': 2381, 'hospital': 2382, 'revival': 2383, 'style.': 2384, '1856': 2385, '1875,': 2386, 'treated': 2387, '7,000': 2388, 'converted': 2389, 'nurses’': 2390, 'dormitory,': 2391, 'brothers': 2392, 'island,': 2393, 'densely': 2394, 'populated.': 2395, '1950s,': 2396, 'useless': 2397, 'quickly': 2398, 'falling': 2399, 'disrepair.': 2400, '1975,': 2401, 'landmarks': 2402, 'preservation': 2403, 'commission': 2404, 'dilapidated': 2405, 'structure': 2406, 'declared': 2407, 'ruin,': 2408, 'landmark.': 2409, 'reinforced': 2410, 'prevent': 2411, 'tours.': 2412, 'outer': 2413, 'foundation': 2414, 'today.': 2415, 'fence': 2416, 'island.': 2417, 'thrust': 2418, 'middle': 2419, 'urban': 2420, 'philadephia': 2421, 'looks': 2422, 'castle,': 2423, 'haunting': 2424, 'weren’t': 2425, 'crusaders': 2426, 'robbers': 2427, 'castle': 2428, 'prison.': 2429, 'edifice': 2430, 'constructed,': 2431, 'prisons': 2432, 'generally': 2433, 'commercial': 2434, 'ventures,': 2435, 'prostitutes,': 2436, 'booze,': 2437, 'corrupt': 2438, 'officials,': 2439, 'order.': 2440, 'starvation,': 2441, 'cold,': 2442, 'disease,': 2443, 'violence': 2444, 'put': 2445, 'prisoners': 2446, 'sentenced.': 2447, '1829,': 2448, 'eastern': 2449, 'state': 2450, '“society': 2451, 'alleviating': 2452, 'miseries': 2453, 'prisons”': 2454, 'type': 2455, 'prison': 2456, 'reigned': 2457, 'chance': 2458, 'penitent': 2459, 'crimes.': 2460, 'world’s': 2461, '“penitentiary.”': 2462, 'compared': 2463, 'facilities,': 2464, 'technological': 2465, 'and,': 2466, 'cost': 2467, '$800,000,': 2468, 'projects': 2469, 'president': 2470, 'andrew': 2471, 'jackson': 2472, 'chamber': 2473, 'pot,': 2474, 'private': 2475, 'toilets.': 2476, 'inmates': 2477, 'served': 2478, 'hearty': 2479, 'meals': 2480, '(usually': 2481, 'boneless': 2482, 'beef,': 2483, 'pork,': 2484, 'soup': 2485, 'unlimited': 2486, 'potatoes)': 2487, 'areas.': 2488, 'cells': 2489, 'divine': 2490, 'wisdom': 2491, 'god': 2492, 'shine': 2493, 'inside.': 2494, 'essence,': 2495, 'paradise': 2496, 'material': 2497, 'comforts,': 2498, '“paradise”': 2499, 'drove': 2500, 'men': 2501, 'mad.': 2502, '“separate': 2503, 'system,”': 2504, 'interact': 2505, 'all,': 2506, 'way.': 2507, 'ate': 2508, 'alone,': 2509, 'exercised': 2510, 'bible': 2511, 'allowed)': 2512, 'talk': 2513, 'guards.': 2514, 'occasions': 2515, 'taken': 2516, 'cells,': 2517, 'hoods': 2518, 'heads.': 2519, 'guards': 2520, 'felt': 2521, 'shoe': 2522, 'covers': 2523, 'possible.': 2524, 'utter': 2525, 'silence,': 2526, 'solitude.': 2527, 'penance;': 2528, 'instead,': 2529, 'insanity.': 2530, 'dickens': 2531, '1842,': 2532, 'wrote,': 2533, 'system': 2534, 'rigid,': 2535, 'strict,': 2536, 'hopeless': 2537, 'solitary': 2538, 'confinement.': 2539, 'believe': 2540, 'effects,': 2541, 'cruel': 2542, 'wrong.': 2543, 'hold': 2544, 'slow,': 2545, 'daily,': 2546, 'tampering': 2547, 'mysteries': 2548, 'brain': 2549, 'immeasurably': 2550, 'worse': 2551, 'torture': 2552, 'body.”': 2553, 'overcrowding': 2554, 'disapproval': 2555, 'changed': 2556, 'prison,': 2557, '“new': 2558, 'shared': 2559, 'permitted': 2560, 'communicate.': 2561, '142': 2562, '1829': 2563, '1971,': 2564, 'luminaries': 2565, 'willie': 2566, 'sutton': 2567, 'al': 2568, 'capone': 2569, '(capone': 2570, 'comparatively': 2571, 'lavish': 2572, 'cell': 2573, 'furniture,': 2574, 'oil': 2575, 'paintings,': 2576, 'radio).': 2577, 'narrowly': 2578, 'saved': 2579, 'destruction,': 2580, '1994': 2581, 're-opened': 2582, 'decay,': 2583, 'finds': 2584, 'philadelphia': 2585, 'advised': 2586, 'pay': 2587, 'penitent.': 2588, 'audio': 2589, 'interviews': 2590, 'guards,': 2591, 'narrated': 2592, 'actor': 2593, 'director': 2594, 'steve': 2595, 'buscemi.': 2596, 'penitentiary': 2597, 'offers': 2598, 'special': 2599, 'tours,': 2600, '“prison': 2601, 'uprisings,”': 2602, 'winter': 2603, 'adventure': 2604, 'bastille': 2605, 'celebration,': 2606, 'halloween': 2607, 'tour.': 2608, 'location:': 2609, 'april': 2610, '9,': 2611, '2011.': 2612, 'headquarters': 2613, 'college': 2614, 'physicians': 2615, 'philadelphia,': 2616, 'mütter': 2617, 'range': 2618, 'wondrous': 2619, 'displays.': 2620, 'skeleton': 2621, 'tallest': 2622, 'man': 2623, 'lived': 2624, 'america': 2625, 'fused': 2626, 'eastlack,': 2627, 'fibrodysplasia': 2628, 'ossificans': 2629, 'progressiva,': 2630, 'extremely': 2631, 'disorder': 2632, 'soft': 2633, 'connective': 2634, 'tissue': 2635, 'ossifies,': 2636, 'painfully': 2637, 'freezing': 2638, 'immobile': 2639, 'state.': 2640, 'exhibitions': 2641, 'cabinets': 2642, '1858.': 2643, 'set': 2644, 'slides': 2645, 'defects,': 2646, 'extraordinary': 2647, 'brilliance.': 2648, 'strands': 2649, 'kelp,': 2650, 'shards': 2651, 'bark.': 2652, 'fact,': 2653, 'contain': 2654, 'slivers': 2655, '20th': 2656, 'century’s': 2657, 'scientist:': 2658, 'albert': 2659, 'einstein.': 2660, 'einstein': 2661, 'wouldn’t': 2662, 'pleased.': 2663, 'wanted': 2664, 'cremated,': 2665, 'part,': 2666, 'got': 2667, 'wish.': 2668, '(his': 2669, 'ashes': 2670, 'scattered': 2671, 'spot': 2672, 'river.)': 2673, 'pathologist': 2674, 'duty': 2675, 'princeton,': 2676, 'jersey,': 2677, 'physicist’s': 2678, 'flames,': 2679, 'others': 2680, 'study': 2681, 'clues': 2682, 'genius.': 2683, 'pathologist,': 2684, 'thomas': 2685, 'harvey,': 2686, 'embroiled': 2687, 'drama': 2688, 'einstein’s': 2689, 'family': 2690, 'executor,': 2691, 'hospital,': 2692, 'eventually': 2693, '(no': 2694, 'allowed).': 2695, 'first,': 2696, 'scientists': 2697, 'sections': 2698, 'matter': 2699, 'nothing': 2700, 'unusual,': 2701, 'intriguing': 2702, 'involved': 2703, 'visual,': 2704, 'mathematical,': 2705, 'spatial': 2706, 'processing.': 2707, 'turns': 2708, 'sylvian': 2709, 'fissure': 2710, 'groove)': 2711, 'shorter': 2712, 'average,': 2713, 'parietal': 2714, 'lobes': 2715, 'slightly': 2716, 'wider,': 2717, 'inferior': 2718, 'lobe': 2719, 'richer': 2720, 'glial': 2721, '(which': 2722, 'nourish': 2723, 'neurons).': 2724, 'neuroscientists': 2725, 'theorized': 2726, 'architecture': 2727, 'kind': 2728, '“associative': 2729, 'play”': 2730, 'key': 2731, 'discoveries.': 2732, 'typology': 2733, 'account': 2734, 'brilliance,': 2735, 'don’t': 2736, 'first:': 2737, 'genius': 2738, 'looked': 2739, 'genius?': 2740, 'hard': 2741, 'know,': 2742, 'especially': 2743, 'einstein-quality': 2744, 'brains': 2745, 'available.': 2746, 'meanwhile,': 2747, 'brain—a': 2748, 'victim': 2749, '1950s-era': 2750, 'techniques': 2751, 'harvey’s': 2752, 'journeys': 2753, 'country—is': 2754, 'shape': 2755, 'study.': 2756, 'mütter’s': 2757, 'forty-six': 2758, 'microscope': 2759, 'neuropathologist': 2760, 'lucy': 2761, 'rorke-adams,': 2762, 'received': 2763, 'colleague': 2764, '’70s,': 2765, 'harvey': 2766, 'himself.': 2767, 'octogenarian': 2768, 'herself,': 2769, 'rorke-adams': 2770, 'safe': 2771, 'chose': 2772, 'well,': 2773, 'museum’s': 2774, 'possessions.': 2775, 'miss,': 2776, 'worth': 2777, 'poring': 2778, 'over,': 2779, 'objects': 2780, 'removed': 2781, 'people’s': 2782, 'throats,': 2783, 'attractive': 2784, 'pull': 2785, 'display': 2786, 'drawers.': 2787, 'chevalier': 2788, 'foreign': 2789, 'amassed': 2790, 'jackson,': 2791, 'considered': 2792, 'laryngologist': 2793, 'conjoined': 2794, 'skeletons,': 2795, 'delicately': 2796, 'jaunty': 2797, 'positions;': 2798, 'plaster': 2799, 'cast': 2800, 'celebrated': 2801, '“siamese': 2802, 'twins”': 2803, 'chang': 2804, 'eng': 2805, 'bunker,': 2806, 'hours': 2807, 'other;': 2808, '“soap': 2809, 'lady,”': 2810, 'exhumed': 2811, 'corpse': 2812, 'waxy': 2813, 'substance': 2814, 'decomposition;': 2815, 'enough': 2816, 'horrifyingly-detailed': 2817, 'wax': 2818, 'preserved': 2819, 'fetuses': 2820, 'lifetime.': 2821, 'frequently': 2822, 'subject': 2823, 'flash': 2824, 'floods,': 2825, 'antelope': 2826, 'canyon': 2827, 'guided': 2828, 'extreme': 2829, 'danger.': 2830, 'photographed': 2831, 'most-visited': 2832, 'slot': 2833, 'american': 2834, 'southwest': 2835, 'phenomenon': 2836, 'beams.': 2837, 'millions': 2838, 'erosion,': 2839, 'canyon’s': 2840, 'smooth': 2841, 'flowing': 2842, 'canyons': 2843, 'lechee': 2844, 'chapter': 2845, 'nation': 2846, 'arizona,': 2847, 'separate': 2848, 'canyons,': 2849, 'upper': 2850, 'canyon.': 2851, 'canyon,': 2852, 'call': 2853, 'tsé': 2854, 'bighánílíní': 2855, '(“the': 2856, 'runs': 2857, 'rocks”),': 2858, 'narrow': 2859, '120-foot-high': 2860, 'hazdistazí': 2861, '(“spiral': 2862, 'arches”)': 2863, 'shallower': 2864, 'v-shaped': 2865, 'trek': 2866, 'visitors.': 2867, 'delightful': 2868, 'bustling': 2869, 'manhattan': 2870, 'finding': 2871, 'oasis': 2872, 'premium,': 2873, 'lush': 2874, 'solitude,': 2875, 'remarkably,': 2876, 'pleasant,': 2877, 'meadow': 2878, 'jostling': 2879, 'manhattan.': 2880, 'specifically,': 2881, 'it!': 2882, 'acre': 2883, 'precisely': 2884, 'that:': 2885, 'one-acre': 2886, 'flanked': 2887, 'delightfully': 2888, 'gardens': 2889, 'plantings': 2890, 'fairly': 2891, 'anonymous,': 2892, 'escalator': 2893, '55': 2894, 'sidewalk.': 2895, 'surrounded': 2896, 'construction,': 2897, 'passersby': 2898, 'overlook': 2899, 'venture': 2900, 'escalators': 2901, 'marvelous': 2902, 'acre.': 2903, 'secretive': 2904, 'lawn,': 2905, 'amphitheater,': 2906, 'beer': 2907, 'winding': 2908, 'brazilian': 2909, 'hardwood,': 2910, 'spectacular': 2911, 'river,': 2912, 'brooklyn,': 2913, 'pleasant': 2914, 'relaxing': 2915, 'secrets.': 2916, 'alien-looking': 2917, 'geyser': 2918, 'edge': 2919, 'desert': 2920, 'human-made.': 2921, 'wasn’t': 2922, 'purpose.': 2923, 'fly': 2924, 'ranch': 2925, 'property': 2926, 'nevada’s': 2927, 'hualapai': 2928, 'geothermal': 2929, 'flats,': 2930, 'pools.': 2931, 'geysers': 2932, 'wizard,': 2933, '100': 2934, 'usable': 2935, 'farming.': 2936, 'drilling': 2937, 'workers': 2938, 'degrees': 2939, 'fahrenheit.': 2940, 'suitable': 2941, 'agricultural': 2942, 'use,': 2943, '10-12': 2944, 'foot': 2945, 'calcium': 2946, 'carbonate': 2947, 'cone': 2948, 'result': 2949, 'water’s': 2950, 'mineral': 2951, 'content.': 2952, '1964,': 2953, 'geothermic': 2954, 'energy': 2955, 'drilled': 2956, 'test': 2957, 'water,': 2958, 'hot,': 2959, 'purposes.': 2960, 're-sealed,': 2961, 'apparently,': 2962, 'cap': 2963, 'hold.': 2964, 'emerged': 2965, 'hundred': 2966, 'original.': 2967, 'robbed': 2968, 'pressure,': 2969, 'older': 2970, 'active,': 2971, 'substantially': 2972, 'reduced': 2973, 'rate.': 2974, 'geyser,': 2975, 'grown': 2976, 'minerals': 2977, 'deposited': 2978, 'surface.': 2979, 'cone-shaped': 2980, 'openings': 2981, 'measure': 2982, 'tall,': 2983, 'sits': 2984, 'mound.': 2985, 'will’s': 2986, '2006,': 2987, 'origin.': 2988, 'volcanic': 2989, 'grows': 2990, 'rate': 2991, 'inches': 2992, 'spouts,': 2993, 'instead': 2994, 'ever-growing': 2995, 'mound': 2996, 'shoots': 2997, 'five': 2998, 'air.': 2999, 'deposits': 3000, 'thermophilic': 3001, 'algae,': 3002, 'flourishes': 3003, 'moist,': 3004, 'environments.': 3005, 'combination': 3006, 'hues': 3007, 'add': 3008, 'out-of-this-world': 3009, 'appearance.': 3010, 'june': 3011, '2016,': 3012, 'burning': 3013, '$6.5': 3014, 'million.': 3015, 'mission': 3016, 'protect': 3017, 'restore': 3018, 'habitats': 3019, '3,800-acre': 3020, 'wetlands,': 3021, 'springs,': 3022, 'sagebrush-grasslands,': 3023, 'playa.': 3024, 'decades.': 3025, 'sitting': 3026, 'oregon': 3027, 'coast': 3028, 'near': 3029, 'cape': 3030, 'perpetua,': 3031, 'gaping,': 3032, 'bottomless': 3033, 'sinkhole': 3034, 'swallows': 3035, 'unbroken': 3036, 'stream': 3037, 'seawater': 3038, 'thor’s': 3039, 'known,': 3040, 'bottomless;': 3041, 'dangerous.': 3042, 'drainpipe': 3043, 'pacific,': 3044, 'hole': 3045, 'drain': 3046, 'ocean.': 3047, 'researchers,': 3048, 'dug': 3049, 'waves,': 3050, 'collapsed': 3051, 'sprays.': 3052, 'huge': 3053, '(six': 3054, 'meters)': 3055, 'manages': 3056, 'produce': 3057, 'sights.': 3058, '(not': 3059, 'faint': 3060, 'heart,': 3061, 'however!)': 3062, 'tide,': 3063, 'storms': 3064, 'washes': 3065, 'violently': 3066, 'funnels': 3067, 'hole.': 3068, 'torrents,': 3069, 'unsuspecting': 3070, 'run': 3071, 'risk': 3072, 'swept': 3073, 'maelstrom.': 3074, 'regardless': 3075, 'risks,': 3076, 'photographers': 3077, 'nature': 3078, 'flock': 3079, 'stunning': 3080, 'fountain': 3081, 'aggressive': 3082, 'waters': 3083, 'godly': 3084, 'namesake’s': 3085, 'stormy': 3086, 'personality.': 3087, 'best': 3088, 'hour': 3089, 'tide': 3090, 'observe': 3091, 'pronounced': 3092, '“museum,”': 3093, 'mmuseumm': 3094, 'freight': 3095, 'rotating': 3096, 'permanent': 3097, 'collections,': 3098, 'specializing': 3099, '“overlooked,': 3100, 'dismissed,': 3101, 'ignored.”': 3102, 'museumm': 3103, 'opportunity': 3104, 'engage': 3105, 'familiar': 3106, 'exotic': 3107, 'everyday': 3108, 'past': 3109, 'works': 3110, 'copying': 3111, 'machines,': 3112, 'homemade': 3113, 'weapons': 3114, 'defense.': 3115, 'filmmakers': 3116, 'alex': 3117, 'kalman,': 3118, 'benny': 3119, 'josh': 3120, 'safdie,': 3121, 'sponsored': 3122, 'kate': 3123, 'spade': 3124, 'andy': 3125, 'bea': 3126, 'spade)': 3127, 'purse': 3128, 'empire,': 3129, 'thrown': 3130, 'george': 3131, 'bush': 3132, 'minister’s': 3133, 'baghdad,': 3134, 'coil': 3135, 'heater': 3136, 'kaunas,': 3137, 'lithuania,': 3138, 'plastic': 3139, 'glove': 3140, 'valley,': 3141, 'montana.': 3142, 'refreshed': 3143, 'annually.': 3144, '“gift': 3145, 'shop”': 3146, 'mmuseumm.': 3147, '800': 3148, 'guide.': 3149, 'fits': 3150, 'reading': 3151, '“no': 3152, 'adults': 3153, 'child”': 3154, 'accompany': 3155, 'lanes': 3156, 'slippery': 3157, 'downhill': 3158, 'residential': 3159, 'park.': 3160, '1960s': 3161, 'teenager,': 3162, 'triumph': 3163, 'activism.': 3164, '1963,': 3165, 'corwin': 3166, 'community': 3167, 'seward': 3168, 'mini-park': 3169, 'vacant': 3170, 'slated': 3171, 'development.': 3172, 'residents': 3173, 'organized': 3174, 'protested': 3175, 'disappearance': 3176, 'space,': 3177, 'fought': 3178, 'development': 3179, 'decade,': 3180, 'staging': 3181, 'desperate': 3182, 'bulldozer-defying': 3183, 'sit-in': 3184, '1966.': 3185, 'end,': 3186, 'locals': 3187, 'triumphed': 3188, '1973.': 3189, 'contributed': 3190, 'legislation': 3191, 'requiring': 3192, 'minimum': 3193, 'amount': 3194, 'projects.': 3195, 'plant': 3196, 'garden.': 3197, 'situated': 3198, 'suburbs': 3199, 'mitaka,': 3200, 'ghibli': 3201, 'animation': 3202, 'playground': 3203, 'age.': 3204, 'spirited': 3205, 'informed': 3206, 'hayao': 3207, 'miyazaki’s': 3208, 'vision.': 3209, 'didn’t': 3210, 'want': 3211, 'yet': 3212, 'boring': 3213, 'pile': 3214, 'exhibits.': 3215, '“put': 3216, 'film,”': 3217, 'creating': 3218, 'series': 3219, 'motifs': 3220, 'piece': 3221, 'produced': 3222, 'interesting,': 3223, 'visitable': 3224, 'wizard’s': 3225, 'cottage': 3226, 'whilst': 3227, 'artist’s': 3228, 'materials,': 3229, 'sketchbooks': 3230, 'alongside': 3231, 'overflowing': 3232, 'ashtrays': 3233, 'cardboard': 3234, 'boxes': 3235, 'reusable': 3236, 'pencil': 3237, 'stubs.': 3238, 'begin': 3239, 'step': 3240, 'yellow': 3241, 'bus': 3242, 'studio’s': 3243, 'mascot,': 3244, 'totoro.': 3245, 'room': 3246, 'showcases': 3247, 'methods': 3248, 'animation,': 3249, 'draws': 3250, 'gaze': 3251, 'zoetrope': 3252, 'entrance,': 3253, 'moving': 3254, 'pausing': 3255, 'stop-motion': 3256, 'carousel': 3257, 'spin': 3258, 'up,': 3259, 'heath': 3260, 'robinson-like': 3261, 'projector': 3262, 'case': 3263, '“evolution': 3264, 'man”': 3265, 'points': 3266, 'projector.': 3267, 'another,': 3268, 'sadly': 3269, 'under-12s': 3270, 'only,': 3271, 'playroom': 3272, 'plush': 3273, 'catbus': 3274, 'chuckable': 3275, 'soot': 3276, 'sprites.': 3277, 'theatre.': 3278, 'rotated': 3279, 'japanese': 3280, '(without': 3281, 'subtitles),': 3282, 'follow': 3283, 'regardless.': 3284, 'receive': 3285, 'ticket': 3286, 'arrive,': 3287, 'wait': 3288, '5-15': 3289, 'minutes': 3290, 'seats.': 3291, 'photography': 3292, 'prohibited': 3293, 'except': 3294, 'rooftop': 3295, 'dominated': 3296, 'bronze': 3297, 'laputa:': 3298, 'sky.': 3299, 'cafe,': 3300, 'gift': 3301, 'shop,': 3302, 'bookshop': 3303, 'inside,': 3304, 'picnic': 3305, 'outside': 3306, 'sit': 3307, 'cherry': 3308, 'blossoms': 3309, 'march/april.': 3310, 'spreepark': 3311, 'southeastern': 3312, 'berlin': 3313, '2002,': 3314, 'remnants': 3315, 'previous': 3316, 'decades,': 3317, 'making': 3318, 'hodgepodge': 3319, 'bizarre': 3320, 'entertainment,': 3321, 'children’s': 3322, 'rides,': 3323, 'life-size': 3324, 'statues.': 3325, 'socialist': 3326, 'government': 3327, 'germany': 3328, '1969': 3329, 'veb': 3330, 'kulturpark': 3331, 'plänterwald,': 3332, '“kulti”': 3333, 'stood': 3334, 'later.': 3335, 'thrived': 3336, 'communist': 3337, 'era': 3338, '1.7': 3339, 'controversial': 3340, 'amusement': 3341, 'operator': 3342, 'norbert': 3343, 'witte': 3344, '1991,': 3345, '“spreepark.”': 3346, 'replaced': 3347, 'asphalted': 3348, 'surface': 3349, 'grass': 3350, 'landscape': 3351, 'rides': 3352, 'bought': 3353, 'insolvency': 3354, 'mirapolis': 3355, 'berlin.': 3356, 'scenery': 3357, 'times,': 3358, 'adding': 3359, 'village.': 3360, 'unbeknownst': 3361, 'berliners,': 3362, 'smuggling': 3363, 'cocaine,': 3364, 'concealing': 3365, 'ride': 3366, 'equipment': 3367, 'shipped': 3368, 'peru': 3369, 'administrator.': 3370, 'partly': 3371, 'activities': 3372, 'lackluster': 3373, 'visitor': 3374, 'numbers,': 3375, 'shut': 3376, 'tried': 3377, 'charges': 3378, 'shutdown': 3379, 'slowly': 3380, 'fallen': 3381, 'dereliction': 3382, 'nature.': 3383, 'whole': 3384, '“hanna,”': 3385, 'sites': 3386, 'film’s': 3387, 'climax.': 3388, '2014': 3389, 'arson,': 3390, 'following': 3391, 'strengthened': 3392, 'perimeter': 3393, 'personnel': 3394, 'dogs.': 3395, '2016': 3396, 'grün': 3397, 'gmbh,': 3398, 'owned': 3399, 'berlin,': 3400, 'objective': 3401, 'transforming': 3402, 'arts': 3403, 'culture.': 3404, 'plans': 3405, 'proposed': 3406, '2018': 3407, 'implementation': 3408, 'years.': 3409, '2019,': 3410, 'removed.': 3411, 'ferris': 3412, '“fresswürfel”': 3413, 'remain,': 3414, '“spreeblitz”': 3415, 'rollercoaster,': 3416, '“cinema': 3417, '2000,”': 3418, 'facade': 3419, 'village,': 3420, 'cup': 3421, 'carousel,': 3422, 'artificial': 3423, '“grand': 3424, 'canyon”': 3425, 'wild': 3426, 'witte’s': 3427, 'period.': 3428, 'excuse': 3429, 'exoticized': 3430, 'chinamen': 3431, 'figures': 3432, 'atop': 3433, 'twinings': 3434, 'tea': 3435, 'doorway': 3436, '216': 3437, 'strand.': 3438, 'they’ve': 3439, 'centuries,': 3440, 'cultural': 3441, 'acceptability': 3442, 'caricatures': 3443, 'lessened,': 3444, 'associated': 3445, 'british': 3446, 'gentry': 3447, 'chinese': 3448, 'merchants.': 3449, 'twining': 3450, 'apprenticed': 3451, 'india': 3452, 'merchant,': 3453, 'importing': 3454, 'goods': 3455, 'locales,': 3456, 'coffee': 3457, 'particular.': 3458, 'twining’s': 3459, 'mercantile': 3460, 'career': 3461, '1706': 3462, 'thoroughfare': 3463, 'tom’s': 3464, 'gathering': 3465, 'fashionable': 3466, 'aristocrats.': 3467, 'coffee,': 3468, 'garnered': 3469, 'reputation': 3470, 'finest': 3471, 'blends': 3472, 'decade': 3473, 'ceased': 3474, 'entirely': 3475, 'exclusively': 3476, 'sold': 3477, 'dry': 3478, 'packaged': 3479, 'teas.': 3480, 'women': 3481, 'partake': 3482, 'tea-drinking': 3483, 'home': 3484, 'male-only': 3485, 'establishments.': 3486, 'empire': 3487, 'britain’s': 3488, 'relationship': 3489, 'drink': 3490, 'introduced': 3491, '1660s': 3492, 'portuguese': 3493, 'queen.': 3494, 'expansion': 3495, 'trade': 3496, 'merchants': 3497, 'though,': 3498, 'national': 3499, 'beverage.': 3500, 'synonymous': 3501, 'tea.': 3502, 'strand': 3503, 'business.': 3504, 'logo,': 3505, 'simple,': 3506, 'gold': 3507, 'bearing': 3508, 'name,': 3509, 'unchanged': 3510, '1787,': 3511, 'corporate': 3512, 'logo': 3513, 'stella': 3514, 'artois,': 3515, '1366.': 3516, '1837,': 3517, 'granted': 3518, 'warrant,': 3519, 'merit': 3520, 'honour': 3521, 'providing': 3522, 'since.': 3523, 'tales': 3524, 'murder': 3525, 'bathrooms': 3526, 'keggers,': 3527, 'ruins': 3528, 'witch’s': 3529, 'lives,': 3530, 'none': 3531, 'pleasant.': 3532, 'mid-1800s,': 3533, 'built,': 3534, 'danford': 3535, 'balch': 3536, 'portion': 3537, 'portland': 3538, 'developed.': 3539, 'big': 3540, 'hire': 3541, 'clear': 3542, 'hired': 3543, 'mortimer': 3544, 'stump,': 3545, 'cabin': 3546, 'balch’s': 3547, '10.': 3548, 'stump': 3549, 'daughter': 3550, 'anna': 3551, 'fell': 3552, 'love,': 3553, 'asked': 3554, 'anna’s': 3555, 'hand': 3556, 'marriage.': 3557, 'refused,': 3558, 'resulting': 3559, 'threatening': 3560, 'elope.': 3561, 'infuriated': 3562, 'did.': 3563, 'couple': 3564, 'heed': 3565, 'warning,': 3566, 'elope': 3567, 'november': 3568, 'learned': 3569, 'elopement,': 3570, 'deeply': 3571, 'depressed,': 3572, 'drinking.': 3573, 'portland,': 3574, 'remedied': 3575, 'situation': 3576, 'fit:': 3577, 'face': 3578, 'double-barreled': 3579, 'shotgun': 3580, 'aboard': 3581, 'ferry.': 3582, 'arrested,': 3583, 'escape': 3584, 'jail': 3585, 'held': 3586, 'mid-october': 3587, '1859,': 3588, 'legal': 3589, 'oregon.': 3590, 'bequeathed': 3591, 'portland.': 3592, '1930s,': 3593, 'stone': 3594, 'homestead.': 3595, 'maintained': 3596, 'parks': 3597, 'recreation,': 3598, 'ranger': 3599, 'restrooms': 3600, 'hikers.': 3601, '1962,': 3602, 'heavily': 3603, 'storm': 3604, 'abandoned.': 3605, 'moss': 3606, 'caved': 3607, 'graffitied': 3608, 'parties.': 3609, 'castle”': 3610, '(despite': 3611, 'witches)': 3612, 'tradition': 3613, 'holding': 3614, 'gatherings': 3615, 'nights,': 3616, 'something': 3617, 'mount': 3618, 'moriah': 3619, 'steadily': 3620, 'reclaimed': 3621, 'forest': 3622, '1855,': 3623, 'romanesque': 3624, 'mausoleums': 3625, 'rivaled': 3626, 'greenwood': 3627, 'pere': 3628, 'lachaise': 3629, '400': 3630, 'acres,': 3631, 'pennsylvania’s': 3632, 'perhaps': 3633, 'owns': 3634, 'governing': 3635, 'association': 3636, 'neglected': 3637, 'forgotten.': 3638, 'lies': 3639, 'ruins,': 3640, 'headstones': 3641, 'monuments': 3642, 'gradually': 3643, 'covering': 3644, 'grounds.': 3645, 'philadelphia’s': 3646, 'wealthiest': 3647, 'patriarchs': 3648, 'resemble': 3649, 'rambling': 3650, 'fairytale.': 3651, 'combat': 3652, 'mother': 3653, 'nature,': 3654, 'friends': 3655, 'devoting': 3656, 'clearing': 3657, 'weeds': 3658, 'pathways': 3659, 'contend': 3660, 'funding,': 3661, 'task': 3662, 'herculean—walking': 3663, 'easily': 3664, 'strolling': 3665, 'greek': 3666, 'final': 3667, 'resting': 3668, 'tens': 3669, 'pennsylvanian': 3670, 'families.': 3671, '2017:': 3672, 'cleaned': 3673, 'spring': 3674, '2017.': 3675, '2019:': 3676, 'nonprofit': 3677, 'group,': 3678, 'working': 3679, '50%': 3680, 'reopened': 3681, 'safely': 3682, 'visit.': 3683, '2022:': 3684, '60-70%': 3685, 'seems': 3686, 'restored': 3687, 'visitation.': 3688, 'orleans': 3689, 'eclectic': 3690, 'tastes,': 3691, 'voodoo': 3692, 'inviting': 3693, 'mysticism': 3694, 'occult': 3695, '1972': 3696, 'massicot': 3697, 'gandolfo,': 3698, 'passion': 3699, 'things': 3700, 'voodoo—his': 3701, 'nickname': 3702, '“voodoo': 3703, 'charlie.”': 3704, 'focuses': 3705, 'commonly': 3706, 'voodoo,': 3707, 'louisiana': 3708, 'voodoo.': 3709, 'amalgamation': 3710, 'african': 3711, 'influences': 3712, 'blended': 3713, 'melting': 3714, 'pot': 3715, 'orleans.': 3716, '1700s': 3717, 'slave': 3718, 'trade,': 3719, 'cultures.': 3720, 'incarnations': 3721, 'religions': 3722, 'rooted': 3723, 'vodun,': 3724, 'elements': 3725, 'louisiana’s.catholic': 3726, 'francophone': 3727, 'tenets': 3728, 'recognition': 3729, 'god,': 3730, 'interfere': 3731, 'daily': 3732, 'life,': 3733, 'spiritual': 3734, 'do.': 3735, 'mischievous,': 3736, 'followers': 3737, 'connect': 3738, 'dance,': 3739, 'singing.': 3740, 'snakes': 3741, 'common': 3742, 'motif': 3743, 'represent': 3744, 'legba,': 3745, 'conduit': 3746, 'heaven': 3747, 'earth.': 3748, 'plethora': 3749, 'interesting': 3750, 'museum,': 3751, 'antique': 3752, 'dolls,': 3753, 'taxidermy,': 3754, 'talismans,': 3755, 'kneeling': 3756, 'bench': 3757, 'belonged': 3758, 'priestess': 3759, 'maria': 3760, 'laveau.': 3761, '(visitors': 3762, 'depart': 3763, 'ms.': 3764, 'laveau': 3765, 'entombed.)': 3766, 'priestess,': 3767, 'powers': 3768, 'legendary.': 3769, 'explanation': 3770, 'fame:': 3771, 'rumored': 3772, 'brothels': 3773, 'items': 3774, 'sale,': 3775, 'chicken': 3776, 'feet,': 3777, 'snake': 3778, 'skins,': 3779, 'potions,': 3780, 'candles.': 3781, 'guests': 3782, 'fortune': 3783, 'on-staff': 3784, 'practitioners.': 3785, 'neon-lit': 3786, 'sky': 3787, 'las': 3788, 'sights': 3789, 'mix': 3790, 'burlesque,': 3791, 'kitsch,': 3792, 'retro-modern': 3793, 'marked': 3794, 'identity': 3795, 'recognizable': 3796, 'age': 3797, 'casinos': 3798, '(yesco).': 3799, 'salt': 3800, 'lake': 3801, 'city-based': 3802, 'storage': 3803, 'yard': 3804, 'three-acre': 3805, 'plot': 3806, 'has,': 3807, 'veritable': 3808, 'disused': 3809, 'signs.': 3810, 'aladdin’s': 3811, 'lamp': 3812, 'version': 3813, 'aladdin': 3814, 'casino,': 3815, 'binion’s': 3816, 'horseshoe,': 3817, 'silver': 3818, 'slipper,': 3819, 'nugget.': 3820, '150': 3821, 'decommissioned,': 3822, 'non-restored': 3823, 'concha': 3824, 'hotel,': 3825, 'paul': 3826, 'revere': 3827, 'williams': 3828, 'design,': 3829, 'serve': 3830, 'gravel': 3831, 'lilas,': 3832, 'scarlet': 3833, 'opens': 3834, 'mimicking': 3835, 'bats': 3836, 'genuine': 3837, 'attached': 3838, 'trees': 3839, 'linger': 3840, 'dark': 3841, 'omen': 3842, 'warned:': 3843, 'entered': 3844, 'vampires.': 3845, 'ago.': 3846, 'jacques': 3847, 'sirgent,': 3848, 'scholar': 3849, 'specialist': 3850, 'macabre,': 3851, 'legendary': 3852, 'creatures”': 3853, 'manifestation': 3854, 'research': 3855, 'vampirism,': 3856, 'esoterism': 3857, 'occidental': 3858, 'folkore.': 3859, 'lifetime': 3860, 'collecting,': 3861, 'translating': 3862, 'texts,': 3863, 'syncretic': 3864, 'information': 3865, 'demonology': 3866, 'dogmas': 3867, 'generated': 3868, 'sirgent': 3869, 'fascinating': 3870, 'storyteller': 3871, 'patiently': 3872, 'extrapolate': 3873, 'curiosity': 3874, 'contains.': 3875, 'comfortably': 3876, 'seated': 3877, 'crimson': 3878, 'velvet': 3879, 'couch,': 3880, 'thrilled': 3881, 'amazed': 3882, 'rituals': 3883, 'practiced,': 3884, 'medieval': 3885, 'christian': 3886, 'hierarchy': 3887, 'crusade': 3888, 'sin,': 3889, '“cannibal': 3890, 'sorcery,”': 3891, 'everlasting': 3892, 'superstitions': 3893, 'undead.': 3894, 'pure': 3895, 'delicacy': 3896, 'eyes,': 3897, 'replete': 3898, 'killing': 3899, 'kit,': 3900, 'hammer': 3901, 'collectibles,': 3902, 'dracula': 3903, 'toys,': 3904, 'dust': 3905, 'touch': 3906, 'them.': 3907, 'merry': 3908, 'clutter': 3909, 'literature': 3910, 'myths': 3911, 'remind': 3912, 'carmilla,': 3913, 'vlad': 3914, 'tepes,': 3915, 'catalysts': 3916, 'archaic': 3917, 'fears,': 3918, 'transgressive': 3919, '2020': 3920, 'renovations.': 3921, 'practically': 3922, 'impossible': 3923, 'pastel-colored': 3924, 'passageway': 3925, 'wisteria': 3926, 'kawachi': 3927, 'fuji': 3928, 'kitakyushu': 3929, 'imagining': 3930, 'elegant': 3931, 'fairy': 3932, 'princess': 3933, 'one-horned': 3934, 'steed': 3935, 'prancing': 3936, 'you.': 3937, 'pea': 3938, 'family,': 3939, 'ornamental': 3940, 'vine,': 3941, 'wildly': 3942, 'graceful': 3943, 'hanging': 3944, 'ornate,': 3945, 'branches.': 3946, 'trained,': 3947, 'woody': 3948, 'vines': 3949, 'tend': 3950, 'maturity': 3951, 'bloom': 3952, 'cascades': 3953, 'long,': 3954, 'lavender': 3955, 'pastel': 3956, 'shades.': 3957, 'flowering': 3958, 'roughly': 3959, 'species': 3960, 'create': 3961, 'flower': 3962, 'tunnel.': 3963, 'may,': 3964, '“fuji': 3965, 'matsuri,”': 3966, '“wisteria': 3967, 'festival,”': 3968, 'bloom.': 3969, 'blooming': 3970, 'season,': 3971, 'need': 3972, 'advance.': 3973, 'arrive': 3974, 'year,': 3975, 'appearance': 3976, 'disheartening': 3977, 'mass': 3978, 'lifeless,': 3979, 'twisted': 3980, 'turn-of-the-century': 3981, 'stained': 3982, 'explorers': 3983, 'club': 3984, '70th': 3985, 'street.': 3986, '1904': 3987, 'polar': 3988, 'era,': 3989, 'fosters': 3990, 'land,': 3991, 'sea,': 3992, '1910': 3993, 'jacobean': 3994, 'clark,': 3995, 'grandson': 3996, 'co-founder': 3997, 'singer': 3998, 'sewing': 3999, 'machine': 4000, 'company.': 4001, 'clark': 4002, '1960': 4003, 'stephen’s': 4004, 'death.': 4005, 'international': 4006, '1965.': 4007, 'prior': 4008, 'locations': 4009, 'lowell': 4010, 'building,': 4011, 'writer,': 4012, 'broadcaster': 4013, 'lawrence': 4014, 'arabia': 4015, 'famous.': 4016, 'treasures': 4017, 'floors.': 4018, 'ground': 4019, 'lounge': 4020, 'artifacts.': 4021, 'floor,': 4022, 'won’t': 4023, 'miss': 4024, 'globe': 4025, 'thor': 4026, 'heyerdahl': 4027, 'plan': 4028, 'kon-tiki': 4029, 'expedition.': 4030, 'percy,': 4031, 'bear,': 4032, 'greets': 4033, 'floor.': 4034, 'library,': 4035, 'rescue': 4036, 'greeley,': 4037, '1884.': 4038, 'library': 4039, 'fraction': 4040, '13,000': 4041, 'archives': 4042, 'collection.': 4043, 'lectures': 4044, 'events': 4045, 'room.': 4046, 'proudly': 4047, 'retired': 4048, 'expedition': 4049, 'flags': 4050, 'explorations.': 4051, 'sled': 4052, '1909': 4053, 'pole': 4054, 'double': 4055, 'elephant': 4056, 'tusks': 4057, 'congo': 4058, 'here.': 4059, 'uppermost': 4060, 'archives,': 4061, 'club’s': 4062, '1,000': 4063, 'objects,': 4064, '5,000': 4065, 'maps': 4066, '500': 4067, 'everyone': 4068, 'wants': 4069, 'see.': 4070, 'field': 4071, 'relatively': 4072, 'hunting': 4073, 'thought': 4074, 'preserve': 4075, 'animals': 4076, 'education': 4077, 'research.': 4078, 'taxidermied': 4079, 'decades': 4080, 'past.': 4081, 'corners': 4082, 'narwhal': 4083, 'tusk,': 4084, 'tusk': 4085, '(ask': 4086, '1951': 4087, 'dinner)': 4088, 'yeti': 4089, 'scalp.': 4090, 'scaffolding': 4091, 'recently': 4092, 'removed,': 4093, 'revealing': 4094, 'results': 4095, 'five-year': 4096, 'refurbishment': 4097, 'building’s': 4098, 'facade,': 4099, 'work': 4100, 'hours.': 4101, 'scheduled': 4102, 'contacting': 4103, 'reservations.': 4104, 'talks': 4105, 'greats': 4106, 'june.': 4107, 'boston': 4108, 'chester': 4109, 'lindsay': 4110, 'churchill': 4111, 'commissioned': 4112, 'science': 4113, 'publishing': 4114, 'society': 4115, 'compete': 4116, 'news': 4117, 'spinning': 4118, 'globe.': 4119, 'naturally,': 4120, 'monitor': 4121, 'better.': 4122, 'mapparium,': 4123, 'three-story-tall,': 4124, 'inside-out': 4125, 'bisected': 4126, 'walkway.': 4127, 'illuminated': 4128, 'hundreds': 4129, 'lamps,': 4130, 'glows': 4131, 'leds.': 4132, 'mapparium': 4133, 'doesn’t': 4134, 'distort': 4135, 'looking': 4136, 'accurate': 4137, 'globe,': 4138, 'relative': 4139, 'sizes': 4140, 'continents': 4141, 'distorted': 4142, 'perspective,': 4143, 'spherical': 4144, 'causes': 4145, 'regions': 4146, 'appear': 4147, 'distances': 4148, 'eye.': 4149, 'map.': 4150, 'earth': 4151, 'africa': 4152, 'huge.': 4153, 'america,': 4154, 'europe,': 4155, 'asia': 4156, 'jammed': 4157, 'pole.': 4158, 'countries': 4159, 'always': 4160, 'suddenly': 4161, 'unfamiliar.': 4162, 'position': 4163, 'correct,': 4164, 'map’s': 4165, 'political': 4166, 'boundaries': 4167, 'date.': 4168, 'hasn’t': 4169, '1935.': 4170, 'siam': 4171, 'indochina,': 4172, 'israel': 4173, 'indonesia.': 4174, 'ussr': 4175, 'looms': 4176, 'large.': 4177, 'block': 4178, 'colonies.': 4179, 'acoustics.': 4180, 'sphere,': 4181, 'voice': 4182, '360-degree': 4183, 'surround': 4184, 'sound.': 4185, 'absorb': 4186, 'reflect': 4187, 'back.': 4188, 'whisper': 4189, 'opposite': 4190, 'end—loud': 4191, 'clear.': 4192, '“whispering': 4193, 'gallery.”': 4194, 'r.': 4195, 'martin': 4196, 'buys': 4197, 'bowling': 4198, 'santa': 4199, 'fe': 4200, 'leases': 4201, '135-member': 4202, 'elaborate': 4203, 'interactive': 4204, 'installations,': 4205, 'assume': 4206, 'pretty': 4207, 'spectacular.': 4208, 'eternal': 4209, 'return.': 4210, 'meow': 4211, 'wolf': 4212, 'collective,': 4213, 'return,': 4214, 'consists': 4215, '20,000': 4216, 'square': 4217, 'explorable': 4218, 'centered': 4219, 'full-size': 4220, 'reproduction': 4221, 'two-story': 4222, 'harbors': 4223, 'secret.': 4224, 'backstory': 4225, 'visitors,': 4226, 'inhabited': 4227, 'selig': 4228, '“something': 4229, 'happened”': 4230, 'family’s': 4231, 'warped': 4232, 'loose': 4233, 'non-linear': 4234, 'narrative': 4235, 'own,': 4236, 'rifling': 4237, 'clothes,': 4238, 'furnishings,': 4239, 'papers': 4240, 'members': 4241, 'stumbling': 4242, 'cosmic': 4243, 'portals': 4244, 'return': 4245, 'total': 4246, '70': 4247, 'distinct': 4248, 'interconnected': 4249, 'spaces': 4250, '(but': 4251, 'limited': 4252, 'to)': 4253, 'enchanted': 4254, 'tree': 4255, 'houses,': 4256, 'powered': 4257, 'hamsters,': 4258, 'luminescent': 4259, 'caves,': 4260, 'space-age': 4261, 'corridors,': 4262, 'mastodon': 4263, 'xylophones,': 4264, 'laser': 4265, 'harps,': 4266, 'grandpa': 4267, 'labored': 4268, 'unravel': 4269, 'mind-boggling': 4270, 'conspiracy': 4271, 'interdimensional': 4272, 'proportions.': 4273, 'music': 4274, 'venue': 4275, 'fancy': 4276, 'town': 4277, 'chimera,': 4278, 'classes': 4279, 'children.': 4280, 'camps,': 4281, 'programs,': 4282, 'internships': 4283, 'offered': 4284, 'on-site.': 4285, 'edges': 4286, 'kyoto,': 4287, 'sagano': 4288, 'bamboo': 4289, 'tranquil': 4290, 'tourist-packed': 4291, 'pathways,': 4292, 'shutters': 4293, 'boorish': 4294, 'rustling,': 4295, 'creaking,': 4296, 'swaying': 4297, 'japan’s': 4298, 'governmentally': 4299, 'recognized': 4300, 'soundscapes.': 4301, 'northwest': 4302, 'kyoto': 4303, 'japan': 4304, 'tenryū-ji': 4305, 'arashiyama': 4306, 'district.': 4307, 'region': 4308, 'unpredictable': 4309, 'weather': 4310, 'cool': 4311, 'climate': 4312, 'sunlight.': 4313, 'summers': 4314, 'cloudy.': 4315, 'winters': 4316, 'windy,': 4317, 'wet': 4318, 'year-round': 4319, 'center,': 4320, 'towering': 4321, 'shocking': 4322, 'contrast': 4323, 'urbanity': 4324, 'surrounding': 4325, 'weave': 4326, 'dense': 4327, 'thicket': 4328, 'stalks': 4329, 'sky,': 4330, 'canopy.': 4331, 'tightly': 4332, 'packed': 4333, 'plants,': 4334, 'wood': 4335, 'bends': 4336, 'creaks,': 4337, 'leaves': 4338, 'rustle,': 4339, 'trunks': 4340, 'knock': 4341, 'together,': 4342, 'peaceful': 4343, 'else.': 4344, 'hordes': 4345, 'tourists': 4346, 'aren’t': 4347, 'drowning': 4348, 'out.': 4349, 'meditative': 4350, 'noise': 4351, 'lovely,': 4352, 'ministry': 4353, 'designated': 4354, 'location’s': 4355, 'aural': 4356, 'pleasures': 4357, 'country’s': 4358, '“100': 4359, 'soundscapes': 4360, 'japan,”': 4361, 'initiative': 4362, 'encourage': 4363, 'appreciate': 4364, 'wonders.': 4365, 'auditory': 4366, 'calm': 4367, 'kind.': 4368, 'word,': 4369, 'smells.': 4370, 'viktor': 4371, 'wynd’s': 4372, 'horrors,': 4373, 'tuesday': 4374, '21st': 4375, 'century': 4376, 'classic': 4377, 'curiosities,': 4378, '“pataphysical”': 4379, 'chancellor,': 4380, 'wynd.': 4381, '“is': 4382, 'devoted': 4383, 'exploring': 4384, 'furthering': 4385, 'esoteric,': 4386, 'literary': 4387, 'artistic': 4388, 'aspects': 4389, 'beyond”.': 4390, 'premises': 4391, 'arterial': 4392, 'road,': 4393, 'sizes,': 4394, 'domes,': 4395, 'erotica,': 4396, 'myriad': 4397, 'curios.': 4398, 'glimpse': 4399, 'peacocks,': 4400, 'quartz': 4401, 'dildos': 4402, 'speculums,': 4403, 'winged': 4404, 'insect': 4405, 'sculptures,': 4406, 'origins,': 4407, 'anatomical': 4408, 'anomalies,': 4409, 'mermaids.': 4410, 'shop’s': 4411, 'describes': 4412, '“an': 4413, 'attempt': 4414, 'recreate': 4415, 'reinterpret,': 4416, 'sensibilities,': 4417, '17th': 4418, 'wunderkabinett”.': 4419, 'dusting,': 4420, 'society’s': 4421, 'curious,': 4422, 'horrific': 4423, 'equal': 4424, 'measure.': 4425, '“it': 4426, 'assembled': 4427, 'whim': 4428, 'basis': 4429, 'aesthetic': 4430, 'historical': 4431, 'appeal,”': 4432, 'explains.': 4433, '“there': 4434, 'explaining,': 4435, 'meta-narratives': 4436, 'educating': 4437, 'anyone.': 4438, 'merely': 4439, 'naturalia': 4440, 'artificialia': 4441, 'give': 4442, 'pleasure': 4443, 'creators': 4444, 'hope': 4445, 'enjoy': 4446, 'it.”': 4447, 'manager,': 4448, 'vadim': 4449, 'kosmos,': 4450, 'says:': 4451, '“curiosity': 4452, 'shops': 4453, 'provide': 4454, 'wonder.': 4455, 'anything': 4456, 'internet': 4457, 'days,': 4458, 'can’t': 4459, 'groundwork': 4460, 'usual': 4461, 'cocktails': 4462, 'absinth': 4463, 'traditional': 4464, 'manner': 4465, 'fountain,': 4466, 'spoon,': 4467, 'sugar': 4468, 'imagine': 4469, 'sheer': 4470, 'serendipity': 4471, 'world-renowned': 4472, 'secreted': 4473, 'luxury': 4474, 'midst': 4475, 'tacky': 4476, 'oasis,': 4477, 'turrell’s': 4478, '“akhob.”': 4479, 'aspirations': 4480, 'grandeur': 4481, 'attempting': 4482, 'fulfill': 4483, 'necessary.': 4484, 'fueling': 4485, 'mentality': 4486, 'stores,': 4487, 'ready': 4488, 'furnish': 4489, 'rollers': 4490, 'poseurs': 4491, 'accouterments': 4492, 'play.': 4493, 'vuitton': 4494, 'outpost': 4495, 'lets': 4496, 'in-the-know': 4497, 'value': 4498, 'experience:': 4499, 'fulfillment.': 4500, '2013,': 4501, 'turrell': 4502, 'occupy': 4503, '“akhob,”': 4504, 'word': 4505, 'egypt’s': 4506, 'amarna': 4507, 'meaning': 4508, '“pure': 4509, 'water,”': 4510, 'circular': 4511, 'chambers': 4512, 'changing,': 4513, 'he’s': 4514, 'famous,': 4515, '“ganzfelds”': 4516, '“light': 4517, 'fields.”': 4518, 'giving': 4519, 'eyes': 4520, 'gentle,': 4521, 'soothing': 4522, 'bath': 4523, 'brilliant': 4524, 'colors': 4525, 'imaginable.': 4526, 'vibrant': 4527, 'shift': 4528, 'imperceptibly': 4529, 'bleeding': 4530, 'cycle': 4531, '24': 4532, 'minutes.': 4533, 'precise': 4534, 'entered.': 4535, 'obfuscation,': 4536, 'akhob': 4537, 'remarkably': 4538, 'easy;': 4539, 'simply': 4540, 'ahead': 4541, 'appointment': 4542, 'admittance.': 4543, 'politely': 4544, 'inform': 4545, 'akhob.': 4546, 'whisked': 4547, 'silent': 4548, 'immersion': 4549, 'experience.': 4550, 'atlas': 4551, 'podcast': 4552, 'celebration': 4553, 'places.': 4554, 'episode': 4555, 'fantastical': 4556, 'hoodoos': 4557, 'weird': 4558, 'sand': 4559, 'clay': 4560, '9,000': 4561, 'ago': 4562, 'collect': 4563, 'pottery.': 4564, 'paint': 4565, 'mines': 4566, 'interpretive': 4567, 'plains': 4568, 'el': 4569, 'paso': 4570, 'county.': 4571, 'doubt': 4572, 'collected': 4573, 'war': 4574, 'bodies,': 4575, 'horses.': 4576, 'shapes': 4577, 'wind,': 4578, 'erosion': 4579, 'seem': 4580, 'size,': 4581, 'position,': 4582, '“expression”': 4583, 'shifting': 4584, 'spires': 4585, 'shades': 4586, 'creamy': 4587, 'orange,': 4588, 'purple,': 4589, 'gray,': 4590, 'rust,': 4591, 'chocolate': 4592, 'brown.': 4593, 'protected': 4594, 'fragile,': 4595, 'animal': 4596, 'ecosystem': 4597, 'lives': 4598, 'there.': 4599, 'delicate': 4600, 'balance,': 4601, 'domesticated': 4602, 'motorized': 4603, 'vehicles,': 4604, 'camping': 4605, 'allowed.': 4606, 'disturbed,': 4607, 'defaced.': 4608, 'asks': 4609, 'formations,': 4610, 'stick': 4611, 'strictly': 4612, 'trail,': 4613, 'winds': 4614, 'three-mile': 4615, 'loop.': 4616, 'centers': 4617, '(however': 4618, 'bathrooms),': 4619, 'rising': 4620, 'around.': 4621, 'dean': 4622, 'coleford,': 4623, 'puzzlewood': 4624, 'outdoor': 4625, 'gloucestershire,': 4626, 'england.': 4627, 'moss-covered': 4628, 'rocks,': 4629, 'bridges,': 4630, 'fantastic': 4631, 'accessed': 4632, 'pathways.': 4633, 'puzzlewood,': 4634, 'filming': 4635, 'merlin': 4636, 'dr.': 4637, 'who,': 4638, '14': 4639, 'acres': 4640, 'examples': 4641, 'pre-roman': 4642, 'mines.the': 4643, 'laid': 4644, '19th': 4645, 'owner': 4646, 'enchanting': 4647, 'place,': 4648, 'j.r.r.': 4649, 'tolkien’s': 4650, 'rings.': 4651, 'frequent': 4652, 'tolkien': 4653, 'forest,': 4654, 'mirkwood,': 4655, 'lothlorien,': 4656, 'addition': 4657, 'farm': 4658, 'animals,': 4659, 'area.': 4660, 'cattle,': 4661, 'fowl,': 4662, 'rabbits,': 4663, 'donkeys,': 4664, 'soay': 4665, 'sheep,': 4666, 'goats,': 4667, 'shetland': 4668, 'ponies.': 4669, 'farm.': 4670, 'evidence': 4671, 'occupation': 4672, 'coins': 4673, 'romans': 4674, 'unchecked': 4675, 'cover': 4676, 'man-made': 4677, 'mining.': 4678, '29th,': 4679, 'hurricane': 4680, 'katrina': 4681, 'gulf': 4682, 'coast,': 4683, 'washing': 4684, 'submerging': 4685, 'properties': 4686, 'flood': 4687, 'feared': 4688, 'recede.': 4689, 'traumatic': 4690, 'disaster': 4691, 'stayed': 4692, 'consciousness': 4693, 'deadliest': 4694, 'catastrophe': 4695, 'memory.': 4696, 'katrina’s': 4697, 'wrath': 4698, 'glut': 4699, 'dystopian': 4700, 'landscapes,': 4701, 'contents': 4702, 'sank': 4703, 'rose': 4704, 'resembled': 4705, 'post-atlantis': 4706, 'wonderland.': 4707, 'murky': 4708, 'concession': 4709, 'upside': 4710, 'roller': 4711, 'coasters': 4712, 'snakes.': 4713, 'swampy-tinged': 4714, 'relentless': 4715, 'rainwater': 4716, 'corrosive': 4717, 'saltwater': 4718, 'stagnant': 4719, 'weeks': 4720, '80%': 4721, 'rides.': 4722, 'exception': 4723, 'batman': 4724, 'coaster,': 4725, 'escaped': 4726, 'unscathed': 4727, 'platform.': 4728, 'judged': 4729, 'demolition': 4730, 'corporation,': 4731, 'defunct': 4732, 'disrepair': 4733, 'ghost': 4734, 'silence': 4735, 'disenchantment.': 4736, 'muddy': 4737, 'clowns,': 4738, 'smashed': 4739, 'mermaids,': 4740, 'mardi': 4741, 'gras': 4742, 'stuck': 4743, 'apocalyptic': 4744, 'freeze-frame': 4745, 'resist': 4746, 'adventurous': 4747, 'tourists,': 4748, 'attracted': 4749, 'legions': 4750, 'explorers,': 4751, 'road': 4752, 'trespass': 4753, 'captivating': 4754, 'funland.': 4755, 'decide': 4756, 'join': 4757, 'them,': 4758, 'please': 4759, 'warned': 4760, 'entry': 4761, 'illegal': 4762, 'risk.': 4763, 'culture': 4764, 'chock': 4765, 'naturalistic': 4766, 'legends': 4767, 'speak': 4768, 'beings': 4769, 'beasts': 4770, 'small.': 4771, 'pools': 4772, 'carbost,': 4773, 'embody': 4774, 'magic': 4775, 'unbelievably': 4776, 'waters.': 4777, 'glen': 4778, 'brittle': 4779, 'waterfalls': 4780, 'so-called': 4781, 'pristine': 4782, 'swimming': 4783, 'holes': 4784, 'sunny': 4785, 'turquoise': 4786, 'clear,': 4787, 'readily': 4788, 'bottom.': 4789, 'cuillin': 4790, 'mountains,': 4791, 'crystal-clear': 4792, 'flows': 4793, 'sizes.': 4794, 'wet,': 4795, 'cloudy': 4796, 'rain,': 4797, 'torrents': 4798, 'rush': 4799, 'whirl': 4800, 'thunderous': 4801, 'cascades.': 4802, 'attributed': 4803, 'pools,': 4804, 'pulled': 4805, 'imagination': 4806, 'tolkien.': 4807, 'bone-chillingly': 4808, 'supernatural': 4809, 'atmosphere': 4810, 'scotland’s': 4811, 'enduring': 4812, '23': 4813, 'austin,': 4814, 'texas,': 4815, 'breathtaking': 4816, 'emerging': 4817, 'hill': 4818, 'chaparral.': 4819, 'hamilton': 4820, 'pool': 4821, 'bedrock': 4822, 'fed': 4823, 'feeds': 4824, 'tributaries': 4825, 'flora': 4826, 'pool.': 4827, 'abundant': 4828, 'freshwater': 4829, 'diverse': 4830, 'vegetation': 4831, 'emerge': 4832, 'pool,': 4833, 'forming': 4834, 'preserve.': 4835, 'deep': 4836, 'overhang': 4837, 'etched': 4838, '—': 4839, 'dome': 4840, 'concealed': 4841, 'entire': 4842, 'grotto': 4843, 'provides': 4844, 'shade': 4845, 'rocky': 4846, 'routinely': 4847, 'lip': 4848, 'overhang,': 4849, '50-foot': 4850, 'splashing': 4851, 'below,': 4852, 'refreshing': 4853, 'sunbaked': 4854, 'adventurers': 4855, 'swimmers.': 4856, 'levels': 4857, 'certain': 4858, 'bacteria,': 4859, 'swimming.': 4860, 'besides': 4861, 'attraction,': 4862, 'rich': 4863, 'ecosystem.': 4864, 'cliffs': 4865, 'moss,': 4866, 'cliff': 4867, 'swallows,': 4868, 'maidenhair': 4869, 'fern.': 4870, 'luxury,': 4871, 'crowded': 4872, 'edifices': 4873, 'offices': 4874, 'apartments,': 4875, 'nine-story': 4876, 'incredibly': 4877, 'unlikely.': 4878, 'hall,': 4879, '5': 4880, 'beekman': 4881, 'awe-inspiring': 4882, 'structure;': 4883, 'businessmen': 4884, 'regulars': 4885, 'pass': 4886, 'knowing': 4887, 'mystery': 4888, 'terra-cotta': 4889, 'disguise.': 4890, 'shuttered': 4891, '1940s,': 4892, 'soul.': 4893, 'architecturally': 4894, 'speaking': 4895, 'physical': 4896, 'testimony': 4897, 'earliest': 4898, 'surviving': 4899, 'pre-skyscraper': 4900, 'victorian-style': 4901, 'height': 4902, 'skylight,': 4903, 'embellished': 4904, 'detailed': 4905, 'cast-iron': 4906, 'railings': 4907, 'ceilings.': 4908, '1882,': 4909, 'superb': 4910, 'condition.': 4911, 'dormancy.': 4912, '1940': 4913, 'sheets': 4914, 'code': 4915, 'regulations,': 4916, 'code.': 4917, 'frameworks': 4918, 'much,': 4919, 'keeping': 4920, 'intact': 4921, 'apple.': 4922, 'update:': 4923, 'high-end': 4924, '2016.': 4925, 'hailed': 4926, 'wonders': 4927, 'reservation': 4928, 'havasupai': 4929, 'tribe,': 4930, 'lesser-known': 4931, 'unparalleled': 4932, 'beauty:': 4933, 'falls.': 4934, 'literally': 4935, 'translates': 4936, '“people': 4937, 'blue-green': 4938, 'arizona': 4939, 'falls,': 4940, 'aquamarine': 4941, 'havasu': 4942, 'cascade': 4943, 'turquoise.': 4944, 'inescapable': 4945, 'crowds': 4946, 'falls': 4947, 'secluded,': 4948, 'long-guarded': 4949, 'tribe': 4950, 'outsiders.': 4951, 'secrecy': 4952, 'tribe’s': 4953, 'understandable': 4954, 'reluctance': 4955, 'homeland': 4956, 'tourists.': 4957, 'nations': 4958, 'affiliated': 4959, 'ones': 4960, 'consider': 4961, 'keepers': 4962, 'guardians': 4963, 'applicants': 4964, 'village': 4965, 'supai,': 4966, 'located.': 4967, 'lucky': 4968, 'permit,': 4969, 'helicopter': 4970, 'ride,': 4971, 'horse': 4972, 'mule': 4973, 'assist': 4974, 'otherwise,': 4975, '10': 4976, 'strenuous': 4977, 'hike,': 4978, 'passing': 4979, 'cacti,': 4980, 'pictograms': 4981, 'there,': 4982, '100-foot': 4983, 'priceless.': 4984, 'daredevil’s': 4985, 'dream;': 4986, 'jumps': 4987, 'swim': 4988, 'shelter': 4989, 'risky.': 4990, 'waterfall': 4991, 'enough,': 4992, 'lie': 4993, 'mooney,': 4994, 'navajo,': 4995, 'beaver': 4996, 'reason': 4997, 'picturesque': 4998, 'spring-fed': 4999, 'creek,': 5000, 'source': 5001, 'waterfalls.': 5002, '70-degree': 5003, 'travertine': 5004, 'holes.': 5005, 'nestled': 5006, 'verdant': 5007, 'foliage': 5008, 'kromlau,': 5009, 'germany’s': 5010, 'kromlauer': 5011, 'arched': 5012, 'devil’s': 5013, 'rakotzbrücke,': 5014, 'circle': 5015, 'reflected': 5016, '1860': 5017, 'knight': 5018, 'town,': 5019, 'thin': 5020, 'arch': 5021, 'stretching': 5022, 'rakotzsee': 5023, 'varied': 5024, 'stone.': 5025, 'similarly': 5026, 'precarious': 5027, 'spans': 5028, 'rakotzbrücke': 5029, '“devil’s': 5030, 'bridge,”': 5031, 'colloquialism': 5032, 'bridges': 5033, 'miraculous': 5034, 'satan.': 5035, '(as': 5036, 'others)': 5037, 'mortal': 5038, 'hands,': 5039, 'builders': 5040, 'aesthetics': 5041, 'regard': 5042, 'either': 5043, 'decorated': 5044, 'occur': 5045, 'germany.': 5046, 'addition,': 5047, 'curvature': 5048, 'circle,': 5049, 'right,': 5050, 'creates': 5051, 'illusion': 5052, 'circle.': 5053, 'viewed': 5054, 'crossing': 5055, 'aging': 5056, 'relic': 5057, 'drained.': 5058, '2021:': 5059, 'finished': 5060, '21st,': 5061, '2021': 5062, 'taste': 5063, 'york,': 5064, 'port': 5065, 'candy': 5066, '83rd': 5067, 'family-owned': 5068, 'luncheonette': 5069, 'graced': 5070, 'luncheonettes,': 5071, 'starbucks': 5072, 'luncheonettes': 5073, 'small,': 5074, 'informal': 5075, 'serving': 5076, 'lunches': 5077, 'affordable': 5078, 'prices.': 5079, '1925,': 5080, 'bygone': 5081, 'edward': 5082, 'hopper': 5083, 'painting': 5084, '1948,': 5085, 'uses': 5086, 'urns': 5087, 'milkshakes': 5088, 'egg': 5089, 'creams': 5090, 'beach': 5091, 'mixer.': 5092, 'celebrities': 5093, 'memorabilia': 5094, 'adorn': 5095, 'picture': 5096, 'robert': 5097, 'redford': 5098, 'faye': 5099, 'dunaway,': 5100, 'filmed': 5101, 'spy': 5102, 'condor': 5103, 'philis,': 5104, 'owner.': 5105, 'spot,': 5106, 'friendly': 5107, 'charming,': 5108, 'menu': 5109, 'fdr': 5110, 'president:': 5111, 'tuna': 5112, 'melts,': 5113, 'creams,': 5114, 'malted': 5115, 'milkshakes,': 5116, 'sodas': 5117, 'syrup.': 5118, 'changes—torn': 5119, 'rarely': 5120, 'preserved—the': 5121, 'tasty': 5122, 'treasures.': 5123, 'churchyard,': 5124, 'ash': 5125, 'encircled': 5126, 'overlapping': 5127, 'novelist': 5128, 'hardy.': 5129, 'pancras': 5130, 'church,': 5131, 'england’s': 5132, 'worship,': 5133, 'stories—for': 5134, 'one,': 5135, 'mary': 5136, 'shelley': 5137, 'percy': 5138, 'bysshe': 5139, 'planned': 5140, 'elopement': 5141, 'visiting': 5142, 'mary’s': 5143, 'mother’s': 5144, 'grave.': 5145, 'striking': 5146, 'oddities': 5147, 'hardy': 5148, 'tree,': 5149, 'weathered': 5150, 'gravestones,': 5151, 'layered': 5152, 'another.': 5153, 'way?': 5154, 'mid-1860s,': 5155, 'rail': 5156, 'experiencing': 5157, 'immense': 5158, 'growth,': 5159, 'outgrowing': 5160, 'existing': 5161, 'planned—directly': 5162, 'affecting': 5163, 'pancras.': 5164, 'line,': 5165, 'firm': 5166, 'contracted': 5167, 'perform': 5168, 'sensitive': 5169, 'exhuming': 5170, 'reburying': 5171, 'dumping': 5172, 'unpleasant': 5173, 'lowest': 5174, 'totem': 5175, 'pole,': 5176, 'job': 5177, 'employee,': 5178, 'hardy,': 5179, 'publish': 5180, 'novels': 5181, 'madding': 5182, 'tess': 5183, 'd’urbervilles.': 5184, 'essential': 5185, 'completed,': 5186, 'headstones,': 5187, 'question': 5188, 'hardy’s': 5189, 'solution': 5190, 'pattern': 5191, 'disturbed': 5192, 'railway.': 5193, 'speculate': 5194, 'arrived': 5195, 'decision,': 5196, 'absorbed': 5197, 'melding': 5198, 'image': 5199, 'grotesque': 5200, 'beauty,': 5201, 'centuries.': 5202, 'route': 5203, '89': 5204, 'page,': 5205, 'america’s': 5206, 'spectacularly': 5207, 'landscape,': 5208, 'hiking': 5209, 'river.': 5210, 'swirling': 5211, '1,000-foot-high': 5212, 'pedestal,': 5213, 'colorado': 5214, 'river': 5215, 'massive,': 5216, 'craggy': 5217, 'southwest.': 5218, 'wonderfully': 5219, 'natural,': 5220, 'tread': 5221, 'caution.': 5222, 'rails': 5223, 'steep,': 5224, 'cliffs.': 5225, 'amsterdam’s': 5226, 'anne': 5227, 'frank': 5228, 'psychedelic': 5229, 'matters.': 5230, 'pony-tailed': 5231, 'nick': 5232, 'padalino,': 5233, 'ladyland': 5234, 'similarly-named': 5235, 'street-level': 5236, 'gallery,': 5237, 'lady.': 5238, 'only)': 5239, 'focusing': 5240, 'solely': 5241, 'fluorescent': 5242, 'exhibit': 5243, 'bulbous,': 5244, 'otherworldly': 5245, 'fully-immersive': 5246, 'generation': 5247, 'fever': 5248, 'on,': 5249, 'home-made': 5250, 'phosphorescence.': 5251, 'encouraged': 5252, 'pace,': 5253, 'taking': 5254, 'owners': 5255, '“participatory': 5256, 'art”.': 5257, 'experiential': 5258, 'room,': 5259, 'naturally': 5260, 'react': 5261, 'uv': 5262, 'dull': 5263, 'stones': 5264, 'explodes': 5265, 'flecks': 5266, 'contains': 5267, 'ephemera': 5268, 'related': 5269, 'fluorescence': 5270, 'play-sets': 5271, 'informational': 5272, 'bother': 5273, 'recreational': 5274, 'acid': 5275, 'trip.': 5276, 'instructs': 5277}\n"
          ]
        }
      ],
      "source": [
        "uniqueWord = [];\n",
        "for i in range(dfx.shape[0]):\n",
        "  for j in dfx.placeDesc[i]:\n",
        "    if j not in uniqueWord:\n",
        "        uniqueWord.append(j)\n",
        "vocabulary={}\n",
        "index_id=[]\n",
        "for i in range(len(uniqueWord)):\n",
        "  vocabulary[uniqueWord[i]]=i\n",
        "\n",
        "print(vocabulary)\n",
        "\n"
      ]
    },
    {
      "cell_type": "code",
      "execution_count": null,
      "metadata": {
        "id": "lz1tEAkigKfY"
      },
      "outputs": [],
      "source": [
        "voc_list=list(vocabulary.values())"
      ]
    },
    {
      "cell_type": "markdown",
      "metadata": {
        "id": "7_rdHJZDq16k"
      },
      "source": [
        "2.1.1) Create your index!"
      ]
    },
    {
      "cell_type": "markdown",
      "source": [
        "We want to create an inverted index, in terms of dictionary:\n",
        "\n",
        "{ term_id_1:[document_1, document_2, document_4], term_id_2:[document_1, document_3, document_5, document_6], ...}\n",
        "\n",
        "It will allow us to know, for each term_id, which are the documents that contain the corresponding word."
      ],
      "metadata": {
        "id": "CtxOpdisO6iw"
      }
    },
    {
      "cell_type": "code",
      "execution_count": null,
      "metadata": {
        "id": "QnAwab5-fF-U",
        "colab": {
          "base_uri": "https://localhost:8080/"
        },
        "outputId": "bfbce3d8-0f9c-4370-e86b-d218ef77e7eb"
      },
      "outputs": [
        {
          "output_type": "execute_result",
          "data": {
            "text/plain": [
              "{0: [0, 1, 4, 19, 23, 29, 30, 33, 37, 38, 46, 50, 53],\n",
              " 1: [0, 9, 10, 12, 17, 18, 19, 20, 26, 28, 32, 36, 37, 44, 47, 50, 51],\n",
              " 2: [0, 18, 19, 36, 37, 47, 50],\n",
              " 3: [0, 1, 4, 7, 13, 18, 22, 26, 28, 30, 31, 32, 39, 41, 47],\n",
              " 4: [0, 7],\n",
              " 5: [0, 3, 4, 13, 15, 17, 18, 19, 26, 30, 31, 36, 47, 49],\n",
              " 6: [0, 53],\n",
              " 7: [0],\n",
              " 8: [0],\n",
              " 9: [0],\n",
              " 10: [0, 14, 17, 23, 28, 29, 33],\n",
              " 11: [0],\n",
              " 12: [0, 1, 4, 18, 19, 23, 26, 29, 34, 50],\n",
              " 13: [0, 4, 31],\n",
              " 14: [0],\n",
              " 15: [0],\n",
              " 16: [0],\n",
              " 17: [0, 22, 44],\n",
              " 18: [0, 7, 51],\n",
              " 19: [0],\n",
              " 20: [0],\n",
              " 21: [0, 7],\n",
              " 22: [0, 30],\n",
              " 23: [0],\n",
              " 24: [0, 1, 7, 11, 14, 26, 30, 31, 32, 39, 48, 49],\n",
              " 25: [0],\n",
              " 26: [0],\n",
              " 27: [0],\n",
              " 28: [0, 47],\n",
              " 29: [0],\n",
              " 30: [0, 8, 13, 19, 26, 32, 36, 38, 50],\n",
              " 31: [0, 5, 27, 36, 37, 40, 53],\n",
              " 32: [0],\n",
              " 33: [0, 7, 17, 23, 30, 37, 45, 47, 53],\n",
              " 34: [0],\n",
              " 35: [0, 1, 2, 18, 19, 20, 24, 28, 32, 39, 47],\n",
              " 36: [0],\n",
              " 37: [0, 15],\n",
              " 38: [0],\n",
              " 39: [0, 19],\n",
              " 40: [0, 14, 17],\n",
              " 41: [0, 4, 22, 29, 47],\n",
              " 42: [0, 51],\n",
              " 43: [0, 27],\n",
              " 44: [0,\n",
              "  1,\n",
              "  2,\n",
              "  3,\n",
              "  4,\n",
              "  6,\n",
              "  8,\n",
              "  9,\n",
              "  10,\n",
              "  13,\n",
              "  15,\n",
              "  16,\n",
              "  17,\n",
              "  18,\n",
              "  19,\n",
              "  20,\n",
              "  21,\n",
              "  22,\n",
              "  24,\n",
              "  27,\n",
              "  31,\n",
              "  32,\n",
              "  33,\n",
              "  37,\n",
              "  39,\n",
              "  41,\n",
              "  43,\n",
              "  45,\n",
              "  47,\n",
              "  48,\n",
              "  49,\n",
              "  50,\n",
              "  51,\n",
              "  52],\n",
              " 45: [0],\n",
              " 46: [0],\n",
              " 47: [0],\n",
              " 48: [0, 17, 28],\n",
              " 49: [0],\n",
              " 50: [0, 26],\n",
              " 51: [0, 14, 22],\n",
              " 52: [0, 15, 37, 49],\n",
              " 53: [0],\n",
              " 54: [0],\n",
              " 55: [0],\n",
              " 56: [0],\n",
              " 57: [0],\n",
              " 58: [0, 37],\n",
              " 59: [0],\n",
              " 60: [0],\n",
              " 61: [0, 2, 37, 38, 41],\n",
              " 62: [0, 17, 19, 36, 50],\n",
              " 63: [0, 15, 31],\n",
              " 64: [0, 7, 12, 15, 20, 30, 36, 42, 43],\n",
              " 65: [0, 9, 26],\n",
              " 66: [0],\n",
              " 67: [0, 47],\n",
              " 68: [0, 2, 9, 34, 41],\n",
              " 69: [0],\n",
              " 70: [0, 16, 19, 20, 29, 46],\n",
              " 71: [0, 1, 4, 13, 15, 18, 19, 34, 37, 49],\n",
              " 72: [0],\n",
              " 73: [0],\n",
              " 74: [0, 4, 7, 10, 34, 46],\n",
              " 75: [0],\n",
              " 76: [0, 17, 40, 44, 48, 51],\n",
              " 77: [0, 5, 12],\n",
              " 78: [0],\n",
              " 79: [0, 47, 51],\n",
              " 80: [0, 20],\n",
              " 81: [0],\n",
              " 82: [0, 19, 25, 28, 30, 51],\n",
              " 83: [0],\n",
              " 84: [0, 19, 50],\n",
              " 85: [0],\n",
              " 86: [0, 22],\n",
              " 87: [0, 1, 8, 17, 27, 32, 51],\n",
              " 88: [0],\n",
              " 89: [0, 34, 36, 41],\n",
              " 90: [0],\n",
              " 91: [0],\n",
              " 92: [0, 19],\n",
              " 93: [0],\n",
              " 94: [0, 16],\n",
              " 95: [0],\n",
              " 96: [0],\n",
              " 97: [0, 10, 43],\n",
              " 98: [0, 1, 12, 15, 17, 19, 30, 32, 44, 51],\n",
              " 99: [0, 16, 21, 39],\n",
              " 100: [0],\n",
              " 101: [0],\n",
              " 102: [0],\n",
              " 103: [0, 7, 14, 15, 16],\n",
              " 104: [0],\n",
              " 105: [0, 3, 7],\n",
              " 106: [0, 24, 48],\n",
              " 107: [0],\n",
              " 108: [0, 13, 31, 50],\n",
              " 109: [0],\n",
              " 110: [0, 3, 9, 16, 35, 41, 44],\n",
              " 111: [0, 27, 52],\n",
              " 112: [0, 37],\n",
              " 113: [0, 7, 9, 30, 33, 47],\n",
              " 114: [0, 15],\n",
              " 115: [0, 1, 4, 17, 25, 28, 35, 47],\n",
              " 116: [0],\n",
              " 117: [0, 50],\n",
              " 118: [0, 8, 50],\n",
              " 119: [0],\n",
              " 120: [0],\n",
              " 121: [0],\n",
              " 122: [0],\n",
              " 123: [0],\n",
              " 124: [0],\n",
              " 125: [0],\n",
              " 126: [0],\n",
              " 127: [0, 4, 26, 38, 44],\n",
              " 128: [0, 2, 4, 6, 11, 14, 22, 42, 47, 52],\n",
              " 129: [0, 20, 31],\n",
              " 130: [0, 12, 17, 27, 39, 48],\n",
              " 131: [0, 9, 32, 44, 53],\n",
              " 132: [0, 4, 10, 19, 20, 34, 45],\n",
              " 133: [0],\n",
              " 134: [0, 10, 42],\n",
              " 135: [0],\n",
              " 136: [0, 15, 18, 20, 24, 25, 30, 31, 38, 42, 43, 51, 52],\n",
              " 137: [0],\n",
              " 138: [0],\n",
              " 139: [0],\n",
              " 140: [0, 10, 20, 25, 27, 32, 34, 36, 53],\n",
              " 141: [0],\n",
              " 142: [0],\n",
              " 143: [0, 21, 36],\n",
              " 144: [0, 4, 7, 18, 19, 28, 31, 44, 47],\n",
              " 145: [0],\n",
              " 146: [0, 7, 15, 41, 49],\n",
              " 147: [0, 31, 35, 36],\n",
              " 148: [0],\n",
              " 149: [0, 41],\n",
              " 150: [0, 40],\n",
              " 151: [0],\n",
              " 152: [1],\n",
              " 153: [1],\n",
              " 154: [1, 2, 13, 51],\n",
              " 155: [1, 17],\n",
              " 156: [1, 4],\n",
              " 157: [1, 10, 13, 28, 32, 36],\n",
              " 158: [1, 11, 47, 50],\n",
              " 159: [1],\n",
              " 160: [1],\n",
              " 161: [1, 14, 22, 26, 27, 28, 30, 42, 44, 48],\n",
              " 162: [1],\n",
              " 163: [1],\n",
              " 164: [1, 8, 27, 37],\n",
              " 165: [1],\n",
              " 166: [1, 37],\n",
              " 167: [1, 36],\n",
              " 168: [1],\n",
              " 169: [1, 5, 12, 20, 25, 49, 52],\n",
              " 170: [1, 36],\n",
              " 171: [1, 2, 20, 31, 38, 40],\n",
              " 172: [1],\n",
              " 173: [1],\n",
              " 174: [1],\n",
              " 175: [1, 51],\n",
              " 176: [1],\n",
              " 177: [1],\n",
              " 178: [1],\n",
              " 179: [1],\n",
              " 180: [1],\n",
              " 181: [1],\n",
              " 182: [1],\n",
              " 183: [1],\n",
              " 184: [1],\n",
              " 185: [1],\n",
              " 186: [1, 10, 15, 18, 41],\n",
              " 187: [1],\n",
              " 188: [1],\n",
              " 189: [1, 2],\n",
              " 190: [1],\n",
              " 191: [1,\n",
              "  4,\n",
              "  6,\n",
              "  11,\n",
              "  15,\n",
              "  18,\n",
              "  19,\n",
              "  20,\n",
              "  21,\n",
              "  22,\n",
              "  23,\n",
              "  24,\n",
              "  27,\n",
              "  30,\n",
              "  32,\n",
              "  36,\n",
              "  38,\n",
              "  41,\n",
              "  49],\n",
              " 192: [1, 4, 15, 19, 30, 34],\n",
              " 193: [1],\n",
              " 194: [1],\n",
              " 195: [1, 20],\n",
              " 196: [1],\n",
              " 197: [1],\n",
              " 198: [1],\n",
              " 199: [1, 7, 30, 36, 48],\n",
              " 200: [1, 40, 45],\n",
              " 201: [1],\n",
              " 202: [1],\n",
              " 203: [1],\n",
              " 204: [1],\n",
              " 205: [1],\n",
              " 206: [1],\n",
              " 207: [1],\n",
              " 208: [1],\n",
              " 209: [1, 8, 20, 21, 31, 35, 36, 37, 48, 53],\n",
              " 210: [1, 19, 28],\n",
              " 211: [1, 37],\n",
              " 212: [1, 43],\n",
              " 213: [1],\n",
              " 214: [1],\n",
              " 215: [1],\n",
              " 216: [1],\n",
              " 217: [1],\n",
              " 218: [1, 3, 16],\n",
              " 219: [1],\n",
              " 220: [1],\n",
              " 221: [1],\n",
              " 222: [1, 27, 32, 38, 44, 46],\n",
              " 223: [1],\n",
              " 224: [1],\n",
              " 225: [1, 44, 48, 49],\n",
              " 226: [1],\n",
              " 227: [1],\n",
              " 228: [1, 13],\n",
              " 229: [1],\n",
              " 230: [1, 19, 21],\n",
              " 231: [1, 4, 18, 36, 48],\n",
              " 232: [1, 3, 9, 15, 16, 23, 24, 25, 38, 41, 43, 49],\n",
              " 233: [1],\n",
              " 234: [1, 4, 6, 7, 18, 19, 20, 28, 37, 47, 53],\n",
              " 235: [1, 23],\n",
              " 236: [1, 7, 9, 17],\n",
              " 237: [1],\n",
              " 238: [1, 2, 13, 29, 40, 51],\n",
              " 239: [1, 17],\n",
              " 240: [1, 20],\n",
              " 241: [1],\n",
              " 242: [1, 18],\n",
              " 243: [1],\n",
              " 244: [1],\n",
              " 245: [1, 51],\n",
              " 246: [1],\n",
              " 247: [1],\n",
              " 248: [1, 26, 30, 31, 42],\n",
              " 249: [1],\n",
              " 250: [1, 31],\n",
              " 251: [1, 3, 36, 50],\n",
              " 252: [1],\n",
              " 253: [1, 13],\n",
              " 254: [1, 2, 3, 28],\n",
              " 255: [1],\n",
              " 256: [1, 18, 31, 51],\n",
              " 257: [1],\n",
              " 258: [1],\n",
              " 259: [1, 20],\n",
              " 260: [1, 34],\n",
              " 261: [1],\n",
              " 262: [1, 31],\n",
              " 263: [1, 7],\n",
              " 264: [1],\n",
              " 265: [1, 4, 31, 51],\n",
              " 266: [1, 31],\n",
              " 267: [1],\n",
              " 268: [1],\n",
              " 269: [1],\n",
              " 270: [1, 25, 41],\n",
              " 271: [1, 34],\n",
              " 272: [1],\n",
              " 273: [1],\n",
              " 274: [1, 4, 7, 29, 30, 36],\n",
              " 275: [1, 2, 10, 28, 43, 44, 46],\n",
              " 276: [1, 13, 28],\n",
              " 277: [1],\n",
              " 278: [1, 17],\n",
              " 279: [1, 27],\n",
              " 280: [1, 16, 27, 50],\n",
              " 281: [1, 27],\n",
              " 282: [1],\n",
              " 283: [1],\n",
              " 284: [1, 4, 13, 15, 19, 23, 28, 31, 43],\n",
              " 285: [1, 7, 18, 20],\n",
              " 286: [1, 32],\n",
              " 287: [1, 7, 14, 17],\n",
              " 288: [1],\n",
              " 289: [1],\n",
              " 290: [1],\n",
              " 291: [1, 34],\n",
              " 292: [1, 4, 7, 8, 16, 20, 29],\n",
              " 293: [1],\n",
              " 294: [1],\n",
              " 295: [1, 16],\n",
              " 296: [1, 12, 15, 19, 35],\n",
              " 297: [1, 32],\n",
              " 298: [1],\n",
              " 299: [1],\n",
              " 300: [1, 20],\n",
              " 301: [1, 12, 15, 24, 27, 36, 37, 41, 45],\n",
              " 302: [1, 20, 27],\n",
              " 303: [1],\n",
              " 304: [1],\n",
              " 305: [1],\n",
              " 306: [1],\n",
              " 307: [1],\n",
              " 308: [1],\n",
              " 309: [1],\n",
              " 310: [1],\n",
              " 311: [1, 33, 51],\n",
              " 312: [1, 4, 27],\n",
              " 313: [1],\n",
              " 314: [1],\n",
              " 315: [1, 4, 6, 17, 26, 43, 47, 48],\n",
              " 316: [1],\n",
              " 317: [1],\n",
              " 318: [1, 20, 27, 30, 39],\n",
              " 319: [1],\n",
              " 320: [1],\n",
              " 321: [1],\n",
              " 322: [1],\n",
              " 323: [1],\n",
              " 324: [1, 16],\n",
              " 325: [1, 16, 41, 42],\n",
              " 326: [1],\n",
              " 327: [1],\n",
              " 328: [1],\n",
              " 329: [1],\n",
              " 330: [1],\n",
              " 331: [1],\n",
              " 332: [1, 4, 14, 18, 23],\n",
              " 333: [1],\n",
              " 334: [1, 10, 20],\n",
              " 335: [1],\n",
              " 336: [1, 7, 18, 29, 36, 43, 44, 47, 48],\n",
              " 337: [1],\n",
              " 338: [1, 28],\n",
              " 339: [1],\n",
              " 340: [1],\n",
              " 341: [1, 34],\n",
              " 342: [1],\n",
              " 343: [1],\n",
              " 344: [1],\n",
              " 345: [1, 9, 11, 15, 21, 23, 26, 28, 41],\n",
              " 346: [1],\n",
              " 347: [1],\n",
              " 348: [1],\n",
              " 349: [1],\n",
              " 350: [1, 4, 6, 8, 20, 22, 37, 39, 41],\n",
              " 351: [1],\n",
              " 352: [1],\n",
              " 353: [1],\n",
              " 354: [1],\n",
              " 355: [1],\n",
              " 356: [1, 4, 7, 40],\n",
              " 357: [1],\n",
              " 358: [1, 30],\n",
              " 359: [1],\n",
              " 360: [1],\n",
              " 361: [1],\n",
              " 362: [1],\n",
              " 363: [1],\n",
              " 364: [1, 7, 48],\n",
              " 365: [1, 12, 18, 19, 36, 37],\n",
              " 366: [1],\n",
              " 367: [1, 4, 7, 19, 29, 48],\n",
              " 368: [1, 4, 7, 28],\n",
              " 369: [1, 18, 26],\n",
              " 370: [1],\n",
              " 371: [1],\n",
              " 372: [1],\n",
              " 373: [1],\n",
              " 374: [1],\n",
              " 375: [1],\n",
              " 376: [1],\n",
              " 377: [1, 7, 15, 20, 44],\n",
              " 378: [1],\n",
              " 379: [1],\n",
              " 380: [1, 2, 4, 30],\n",
              " 381: [1],\n",
              " 382: [1],\n",
              " 383: [1],\n",
              " 384: [1],\n",
              " 385: [1],\n",
              " 386: [1, 17],\n",
              " 387: [1],\n",
              " 388: [1],\n",
              " 389: [1, 4, 7, 13, 22, 23, 34, 37, 42, 50, 51],\n",
              " 390: [1],\n",
              " 391: [1, 14, 15, 16, 17, 27, 29, 41, 45],\n",
              " 392: [1],\n",
              " 393: [1],\n",
              " 394: [1, 22, 23, 25, 27, 30, 36, 43, 53],\n",
              " 395: [1],\n",
              " 396: [1, 3, 9, 20, 45, 53],\n",
              " 397: [1],\n",
              " 398: [1],\n",
              " 399: [1],\n",
              " 400: [1, 50],\n",
              " 401: [1],\n",
              " 402: [1, 15],\n",
              " 403: [1],\n",
              " 404: [1],\n",
              " 405: [1, 36],\n",
              " 406: [1, 27, 45],\n",
              " 407: [1, 2, 4, 8, 15, 29, 32, 34, 35, 43, 46],\n",
              " 408: [1],\n",
              " 409: [1, 17],\n",
              " 410: [1, 34],\n",
              " 411: [1],\n",
              " 412: [2, 31, 36],\n",
              " 413: [2, 15, 36],\n",
              " 414: [2, 24, 30],\n",
              " 415: [2],\n",
              " 416: [2],\n",
              " 417: [2],\n",
              " 418: [2],\n",
              " 419: [2, 3, 13, 14, 20, 21, 23, 40, 43, 45, 47, 50],\n",
              " 420: [2, 14, 32, 36],\n",
              " 421: [2, 22],\n",
              " 422: [2, 3],\n",
              " 423: [2, 4, 6, 12, 15, 23, 34, 35, 36, 41, 45, 51],\n",
              " 424: [2, 31, 39, 45, 51],\n",
              " 425: [2, 32, 35, 41, 45],\n",
              " 426: [2, 3, 7, 10, 12, 15, 20, 21, 30, 31, 33, 39, 42, 46, 51],\n",
              " 427: [2, 4, 31],\n",
              " 428: [2],\n",
              " 429: [2],\n",
              " 430: [2],\n",
              " 431: [2],\n",
              " 432: [2, 20],\n",
              " 433: [2],\n",
              " 434: [2, 36],\n",
              " 435: [2, 23, 30],\n",
              " 436: [2],\n",
              " 437: [2, 29, 50, 51],\n",
              " 438: [2],\n",
              " 439: [2],\n",
              " 440: [2, 29, 40],\n",
              " 441: [2],\n",
              " 442: [2],\n",
              " 443: [2, 15, 18, 36, 42, 46, 51, 53],\n",
              " 444: [2],\n",
              " 445: [2, 32, 33, 43],\n",
              " 446: [2, 10],\n",
              " 447: [2, 8, 23],\n",
              " 448: [2, 4, 23, 48, 52],\n",
              " 449: [2],\n",
              " 450: [2],\n",
              " 451: [2, 15, 17, 18, 19, 21, 30, 42, 45],\n",
              " 452: [2, 4, 27, 53],\n",
              " 453: [2, 11, 13, 15, 29, 40],\n",
              " 454: [2],\n",
              " 455: [2, 25, 28],\n",
              " 456: [2, 18],\n",
              " 457: [2],\n",
              " 458: [2, 4, 7, 11, 17, 27, 28, 34],\n",
              " 459: [2, 10, 15, 29, 31, 33, 50],\n",
              " 460: [2],\n",
              " 461: [2],\n",
              " 462: [2],\n",
              " 463: [2],\n",
              " 464: [2],\n",
              " 465: [2, 41],\n",
              " 466: [2],\n",
              " 467: [2],\n",
              " 468: [2, 15, 16, 18, 37],\n",
              " 469: [2],\n",
              " 470: [2, 14, 30],\n",
              " 471: [2],\n",
              " 472: [2, 30, 38],\n",
              " 473: [2, 14],\n",
              " 474: [2,\n",
              "  3,\n",
              "  4,\n",
              "  10,\n",
              "  11,\n",
              "  12,\n",
              "  14,\n",
              "  16,\n",
              "  17,\n",
              "  19,\n",
              "  20,\n",
              "  27,\n",
              "  28,\n",
              "  29,\n",
              "  33,\n",
              "  34,\n",
              "  39,\n",
              "  47,\n",
              "  48,\n",
              "  49,\n",
              "  53],\n",
              " 475: [2],\n",
              " 476: [2],\n",
              " 477: [2, 29, 30, 31, 37],\n",
              " 478: [2],\n",
              " 479: [2],\n",
              " 480: [2],\n",
              " 481: [2, 10, 15, 36],\n",
              " 482: [2, 7, 21],\n",
              " 483: [2, 15, 20, 23, 25, 27, 28, 31, 32, 39, 43, 49],\n",
              " 484: [2],\n",
              " 485: [2, 45],\n",
              " 486: [2],\n",
              " 487: [2, 11, 12, 14, 29, 40, 50],\n",
              " 488: [2],\n",
              " 489: [2, 4, 39],\n",
              " 490: [2, 14, 29],\n",
              " 491: [2, 6, 14, 15, 17, 19, 23, 24, 28, 29, 31, 35, 38, 39],\n",
              " 492: [2],\n",
              " 493: [2, 22, 31, 34],\n",
              " 494: [2],\n",
              " 495: [2],\n",
              " 496: [2],\n",
              " 497: [2],\n",
              " 498: [2, 4],\n",
              " 499: [2, 38],\n",
              " 500: [2, 7, 45],\n",
              " 501: [2],\n",
              " 502: [2],\n",
              " 503: [2],\n",
              " 504: [2],\n",
              " 505: [2],\n",
              " 506: [2],\n",
              " 507: [2],\n",
              " 508: [2, 7, 41],\n",
              " 509: [2, 50],\n",
              " 510: [2],\n",
              " 511: [2],\n",
              " 512: [3],\n",
              " 513: [3, 6, 8, 10, 14, 17],\n",
              " 514: [3],\n",
              " 515: [3],\n",
              " 516: [3, 16],\n",
              " 517: [3],\n",
              " 518: [3],\n",
              " 519: [3],\n",
              " 520: [3],\n",
              " 521: [3, 9, 15, 32, 53],\n",
              " 522: [3],\n",
              " 523: [3],\n",
              " 524: [3, 39],\n",
              " 525: [3],\n",
              " 526: [3],\n",
              " 527: [3, 39],\n",
              " 528: [3, 9],\n",
              " 529: [3],\n",
              " 530: [3],\n",
              " 531: [3],\n",
              " 532: [3],\n",
              " 533: [3, 12],\n",
              " 534: [3],\n",
              " 535: [3, 4, 31, 34],\n",
              " 536: [3],\n",
              " 537: [3, 4, 11, 12, 13, 29, 38, 43, 47, 50, 51],\n",
              " 538: [3],\n",
              " 539: [3],\n",
              " 540: [3, 15, 28, 33],\n",
              " 541: [3, 9, 11, 15, 43],\n",
              " 542: [3],\n",
              " 543: [3],\n",
              " 544: [3],\n",
              " 545: [3, 6, 12, 17, 19, 28, 32, 37, 40, 48],\n",
              " 546: [3],\n",
              " 547: [3],\n",
              " 548: [3],\n",
              " 549: [3, 16, 24, 28, 35],\n",
              " 550: [3],\n",
              " 551: [3],\n",
              " 552: [3],\n",
              " 553: [3],\n",
              " 554: [3, 15, 21, 22, 23, 24, 25, 28, 44, 45, 46],\n",
              " 555: [3],\n",
              " 556: [3, 9, 37, 39],\n",
              " 557: [3],\n",
              " 558: [3],\n",
              " 559: [3],\n",
              " 560: [3],\n",
              " 561: [3, 4, 30],\n",
              " 562: [3],\n",
              " 563: [3, 48],\n",
              " 564: [3],\n",
              " 565: [3],\n",
              " 566: [3],\n",
              " 567: [3],\n",
              " 568: [3],\n",
              " 569: [3],\n",
              " 570: [3],\n",
              " 571: [3, 4],\n",
              " 572: [3, 24],\n",
              " 573: [3, 26],\n",
              " 574: [3],\n",
              " 575: [3, 15, 41, 50],\n",
              " 576: [3],\n",
              " 577: [3, 15],\n",
              " 578: [3, 17],\n",
              " 579: [3],\n",
              " 580: [3],\n",
              " 581: [3],\n",
              " 582: [3],\n",
              " 583: [3],\n",
              " 584: [3, 12, 36],\n",
              " 585: [3, 9],\n",
              " 586: [3],\n",
              " 587: [3, 31, 41],\n",
              " 588: [3, 46],\n",
              " 589: [3, 30],\n",
              " 590: [3],\n",
              " 591: [3, 8, 15],\n",
              " 592: [3],\n",
              " 593: [3, 6, 15],\n",
              " 594: [3, 11, 19, 20, 21, 22, 23, 29, 32, 35, 36, 40, 48],\n",
              " 595: [3, 9, 50],\n",
              " 596: [3],\n",
              " 597: [3],\n",
              " 598: [3, 19, 37],\n",
              " 599: [3, 4],\n",
              " 600: [3, 15],\n",
              " 601: [3],\n",
              " 602: [3],\n",
              " 603: [3],\n",
              " 604: [3],\n",
              " 605: [3,\n",
              "  7,\n",
              "  8,\n",
              "  14,\n",
              "  15,\n",
              "  20,\n",
              "  24,\n",
              "  26,\n",
              "  27,\n",
              "  28,\n",
              "  32,\n",
              "  34,\n",
              "  36,\n",
              "  37,\n",
              "  38,\n",
              "  39,\n",
              "  42,\n",
              "  46,\n",
              "  48,\n",
              "  53],\n",
              " 606: [3],\n",
              " 607: [3, 23],\n",
              " 608: [3],\n",
              " 609: [3, 21, 22],\n",
              " 610: [3],\n",
              " 611: [3],\n",
              " 612: [3, 49],\n",
              " 613: [3],\n",
              " 614: [3],\n",
              " 615: [3],\n",
              " 616: [3],\n",
              " 617: [3, 13, 48],\n",
              " 618: [3],\n",
              " 619: [3, 27, 37],\n",
              " 620: [3, 6, 8],\n",
              " 621: [3],\n",
              " 622: [3],\n",
              " 623: [3, 22, 28, 29, 36, 40],\n",
              " 624: [3, 17],\n",
              " 625: [3, 45],\n",
              " 626: [3],\n",
              " 627: [3],\n",
              " 628: [3],\n",
              " 629: [3],\n",
              " 630: [3, 33],\n",
              " 631: [3, 10],\n",
              " 632: [3, 13, 22],\n",
              " 633: [3],\n",
              " 634: [3],\n",
              " 635: [3],\n",
              " 636: [3, 19, 22, 27, 29],\n",
              " 637: [3],\n",
              " 638: [3, 18, 53],\n",
              " 639: [3],\n",
              " 640: [3],\n",
              " 641: [4],\n",
              " 642: [4],\n",
              " 643: [4, 51],\n",
              " 644: [4],\n",
              " 645: [4, 19],\n",
              " 646: [4],\n",
              " 647: [4],\n",
              " 648: [4],\n",
              " 649: [4, 28, 34],\n",
              " 650: [4, 44, 49],\n",
              " 651: [4],\n",
              " 652: [4, 8],\n",
              " 653: [4],\n",
              " 654: [4, 53],\n",
              " 655: [4],\n",
              " 656: [4],\n",
              " 657: [4, 15, 20],\n",
              " 658: [4, 49],\n",
              " 659: [4, 9, 17, 29, 33],\n",
              " 660: [4, 10, 19],\n",
              " 661: [4],\n",
              " 662: [4, 43],\n",
              " 663: [4],\n",
              " 664: [4, 39],\n",
              " 665: [4],\n",
              " 666: [4],\n",
              " 667: [4, 11, 20],\n",
              " 668: [4],\n",
              " 669: [4],\n",
              " 670: [4],\n",
              " 671: [4],\n",
              " 672: [4, 42],\n",
              " 673: [4],\n",
              " 674: [4],\n",
              " 675: [4],\n",
              " 676: [4],\n",
              " 677: [4, 7],\n",
              " 678: [4],\n",
              " 679: [4, 46],\n",
              " 680: [4, 38, 48],\n",
              " 681: [4],\n",
              " 682: [4],\n",
              " 683: [4, 17],\n",
              " 684: [4, 15, 36],\n",
              " 685: [4],\n",
              " 686: [4],\n",
              " 687: [4],\n",
              " 688: [4],\n",
              " 689: [4],\n",
              " 690: [4, 48],\n",
              " 691: [4],\n",
              " 692: [4],\n",
              " 693: [4, 44],\n",
              " 694: [4],\n",
              " 695: [4, 6],\n",
              " 696: [4, 46],\n",
              " 697: [4, 13, 17, 20, 41, 48],\n",
              " 698: [4],\n",
              " 699: [4, 7],\n",
              " 700: [4, 15, 36],\n",
              " 701: [4],\n",
              " 702: [4],\n",
              " 703: [4, 40],\n",
              " 704: [4, 9],\n",
              " 705: [4, 27, 49],\n",
              " 706: [4],\n",
              " 707: [4],\n",
              " 708: [4],\n",
              " 709: [4, 13, 15, 19, 20, 23, 31, 43, 44],\n",
              " 710: [4],\n",
              " 711: [4, 20],\n",
              " 712: [4],\n",
              " 713: [4, 38, 41],\n",
              " 714: [4],\n",
              " 715: [4, 17, 19, 23, 25, 28, 29, 50],\n",
              " 716: [4],\n",
              " 717: [4, 51],\n",
              " 718: [4, 7, 30, 36, 45, 50],\n",
              " 719: [4, 29],\n",
              " 720: [4, 30],\n",
              " 721: [4, 5],\n",
              " 722: [4, 18, 37, 41],\n",
              " 723: [4],\n",
              " 724: [4],\n",
              " 725: [4, 27],\n",
              " 726: [4],\n",
              " 727: [4],\n",
              " 728: [4],\n",
              " 729: [4],\n",
              " 730: [4],\n",
              " 731: [4],\n",
              " 732: [4],\n",
              " 733: [4, 9, 11, 36, 41],\n",
              " 734: [4],\n",
              " 735: [4],\n",
              " 736: [4],\n",
              " 737: [4],\n",
              " 738: [4],\n",
              " 739: [4],\n",
              " 740: [4, 7, 13, 28, 29, 37, 42, 43, 47],\n",
              " 741: [4, 43],\n",
              " 742: [4, 13],\n",
              " 743: [4, 46],\n",
              " 744: [4],\n",
              " 745: [4, 12, 20],\n",
              " 746: [4, 31, 42, 49, 50],\n",
              " 747: [4, 19],\n",
              " 748: [4],\n",
              " 749: [4],\n",
              " 750: [4, 12, 35, 37],\n",
              " 751: [4],\n",
              " 752: [4, 7, 53],\n",
              " 753: [4],\n",
              " 754: [4, 23],\n",
              " 755: [4, 7, 43, 46, 48],\n",
              " 756: [4, 17],\n",
              " 757: [4, 17, 23],\n",
              " 758: [4],\n",
              " 759: [4],\n",
              " 760: [4],\n",
              " 761: [4, 7, 9, 36],\n",
              " 762: [4, 15, 16, 17, 20, 25, 26, 29, 32, 40, 45, 46, 48, 53],\n",
              " 763: [4, 12],\n",
              " 764: [4, 7, 19],\n",
              " 765: [4, 25, 27, 36, 38],\n",
              " 766: [4],\n",
              " 767: [4],\n",
              " 768: [4],\n",
              " 769: [4],\n",
              " 770: [4],\n",
              " 771: [4, 18, 21, 27, 28, 32, 33],\n",
              " 772: [4, 8, 17, 24, 36, 41, 51],\n",
              " 773: [4, 8, 15, 20, 43, 46],\n",
              " 774: [4, 20, 28],\n",
              " 775: [4, 31],\n",
              " 776: [4, 8, 15, 24, 28, 30, 42, 51],\n",
              " 777: [4, 14, 29, 36],\n",
              " 778: [4],\n",
              " 779: [4, 15, 23, 44],\n",
              " 780: [4, 13, 15, 16, 17, 28, 48],\n",
              " 781: [4, 7, 19],\n",
              " 782: [4],\n",
              " 783: [4, 7, 20, 44],\n",
              " 784: [4],\n",
              " 785: [4, 30],\n",
              " 786: [4, 31, 34],\n",
              " 787: [4],\n",
              " 788: [4],\n",
              " 789: [4, 34],\n",
              " 790: [4],\n",
              " 791: [4],\n",
              " 792: [4, 23, 30, 38],\n",
              " 793: [4],\n",
              " 794: [4],\n",
              " 795: [4],\n",
              " 796: [4],\n",
              " 797: [4],\n",
              " 798: [4],\n",
              " 799: [4, 48],\n",
              " 800: [4],\n",
              " 801: [4],\n",
              " 802: [4, 18],\n",
              " 803: [4, 19, 21, 28, 44, 47, 49],\n",
              " 804: [4],\n",
              " 805: [4],\n",
              " 806: [4],\n",
              " 807: [4, 8, 11, 16, 17, 18, 19, 20, 28, 32, 33, 34, 35, 36, 49, 51],\n",
              " 808: [4],\n",
              " 809: [4],\n",
              " 810: [4],\n",
              " 811: [4],\n",
              " 812: [4],\n",
              " 813: [4],\n",
              " 814: [4],\n",
              " 815: [4],\n",
              " 816: [4],\n",
              " 817: [4],\n",
              " 818: [4, 10, 15, 18, 28, 33],\n",
              " 819: [4, 20],\n",
              " 820: [4, 18, 50],\n",
              " 821: [4, 7, 35],\n",
              " 822: [4, 28, 41],\n",
              " 823: [4],\n",
              " 824: [4],\n",
              " 825: [4, 33, 44],\n",
              " 826: [4, 6, 10, 15, 17, 18, 25, 30],\n",
              " 827: [4],\n",
              " 828: [4],\n",
              " 829: [4, 24],\n",
              " 830: [4],\n",
              " 831: [4],\n",
              " 832: [4, 20, 28],\n",
              " 833: [4],\n",
              " 834: [4, 44],\n",
              " 835: [4, 12, 51],\n",
              " 836: [4, 19, 32],\n",
              " 837: [4],\n",
              " 838: [4],\n",
              " 839: [4, 19, 31, 40, 41],\n",
              " 840: [4],\n",
              " 841: [4],\n",
              " 842: [4],\n",
              " 843: [4],\n",
              " 844: [4],\n",
              " 845: [4],\n",
              " 846: [4, 7, 9, 14, 33],\n",
              " 847: [4],\n",
              " 848: [4],\n",
              " 849: [4],\n",
              " 850: [4],\n",
              " 851: [4],\n",
              " 852: [4],\n",
              " 853: [4],\n",
              " 854: [4],\n",
              " 855: [4],\n",
              " 856: [4, 11, 12, 13, 18, 19, 22, 26, 39, 40, 49],\n",
              " 857: [4],\n",
              " 858: [4, 25],\n",
              " 859: [4],\n",
              " 860: [4],\n",
              " 861: [4],\n",
              " 862: [4],\n",
              " 863: [4, 29],\n",
              " 864: [4, 26, 27],\n",
              " 865: [4],\n",
              " 866: [4],\n",
              " 867: [4, 17, 23, 30, 42, 43, 44, 52],\n",
              " 868: [4],\n",
              " 869: [4],\n",
              " 870: [4, 7],\n",
              " 871: [4],\n",
              " 872: [4],\n",
              " 873: [4],\n",
              " 874: [4, 10, 37],\n",
              " 875: [4, 21, 36],\n",
              " 876: [4, 9, 17, 19, 20],\n",
              " 877: [4],\n",
              " 878: [4],\n",
              " 879: [4, 8, 38],\n",
              " 880: [4, 11, 20, 37],\n",
              " 881: [4, 49],\n",
              " 882: [4],\n",
              " 883: [4, 20, 30],\n",
              " 884: [4, 29, 34, 40],\n",
              " 885: [4, 7, 36, 46],\n",
              " 886: [4],\n",
              " 887: [4],\n",
              " 888: [4],\n",
              " 889: [4],\n",
              " 890: [4],\n",
              " 891: [4, 17],\n",
              " 892: [4, 36, 38, 40, 48],\n",
              " 893: [4, 14, 15],\n",
              " 894: [4, 10, 20, 43],\n",
              " 895: [4],\n",
              " 896: [4],\n",
              " 897: [4],\n",
              " 898: [4, 39],\n",
              " 899: [4],\n",
              " 900: [4, 15, 17, 43, 49, 51],\n",
              " 901: [4, 7, 32, 34],\n",
              " 902: [4],\n",
              " 903: [4],\n",
              " 904: [4],\n",
              " 905: [4, 11],\n",
              " 906: [4],\n",
              " 907: [4],\n",
              " 908: [4, 31],\n",
              " 909: [4, 15],\n",
              " 910: [4],\n",
              " 911: [4],\n",
              " 912: [4, 16, 28, 36, 44],\n",
              " 913: [4],\n",
              " 914: [4],\n",
              " 915: [4, 13],\n",
              " 916: [4, 18, 23],\n",
              " 917: [4],\n",
              " 918: [4, 16, 53],\n",
              " 919: [4],\n",
              " 920: [4, 7, 28],\n",
              " 921: [4, 10],\n",
              " 922: [4],\n",
              " 923: [4, 19],\n",
              " 924: [4],\n",
              " 925: [5],\n",
              " 926: [5, 16, 44],\n",
              " 927: [5],\n",
              " 928: [5],\n",
              " 929: [5, 50],\n",
              " 930: [5, 22],\n",
              " 931: [5],\n",
              " 932: [5, 11, 38, 53],\n",
              " 933: [5, 8, 11, 22],\n",
              " 934: [5, 15],\n",
              " 935: [5],\n",
              " 936: [5],\n",
              " 937: [5, 50],\n",
              " 938: [5, 26, 48],\n",
              " 939: [5, 9, 11, 12, 17, 27, 37, 53],\n",
              " 940: [5, 50],\n",
              " 941: [5],\n",
              " 942: [5, 7, 14, 41],\n",
              " 943: [5, 14, 16, 17, 19, 23, 25, 34],\n",
              " 944: [5, 16, 21, 23, 24, 39, 42, 44, 45, 46, 48, 49, 52],\n",
              " 945: [5, 15, 18, 29, 34, 47],\n",
              " 946: [5],\n",
              " 947: [5],\n",
              " 948: [5],\n",
              " 949: [5],\n",
              " 950: [5, 13, 30, 50],\n",
              " 951: [5],\n",
              " 952: [5],\n",
              " 953: [5],\n",
              " 954: [5, 51],\n",
              " 955: [5, 20, 32],\n",
              " 956: [5, 43],\n",
              " 957: [5, 48],\n",
              " 958: [5, 24],\n",
              " 959: [5, 16],\n",
              " 960: [5, 40],\n",
              " 961: [5, 40],\n",
              " 962: [5],\n",
              " 963: [5],\n",
              " 964: [5, 20],\n",
              " 965: [5, 20],\n",
              " 966: [5],\n",
              " 967: [5, 32, 36, 47],\n",
              " 968: [5, 44],\n",
              " 969: [5, 11, 36, 38],\n",
              " 970: [5],\n",
              " 971: [5],\n",
              " 972: [5, 34],\n",
              " 973: [5],\n",
              " 974: [5, 10, 36],\n",
              " 975: [5],\n",
              " 976: [5],\n",
              " 977: [5, 40],\n",
              " 978: [5],\n",
              " 979: [5, 7, 14],\n",
              " 980: [5],\n",
              " 981: [5, 16, 24, 30, 41, 44, 46, 48],\n",
              " 982: [5],\n",
              " 983: [6],\n",
              " 984: [6],\n",
              " 985: [6],\n",
              " 986: [6],\n",
              " 987: [6],\n",
              " 988: [6, 15],\n",
              " 989: [6],\n",
              " 990: [6],\n",
              " 991: [6],\n",
              " 992: [6],\n",
              " 993: [6],\n",
              " 994: [6, 35, 39],\n",
              " 995: [6],\n",
              " 996: [6],\n",
              " 997: [6],\n",
              " 998: [6],\n",
              " 999: [6, 17],\n",
              " ...}"
            ]
          },
          "metadata": {},
          "execution_count": 517
        }
      ],
      "source": [
        "def inverted_index(vocab):\n",
        "  inverted_index = {}\n",
        "  for word, id in vocab.items():\n",
        "    inverted_index[id] = list(dfx[dfx.placeDesc.apply(lambda row: word in row)].index)\n",
        "  return inverted_index\n",
        "inverted_index(vocabulary)\n"
      ]
    },
    {
      "cell_type": "markdown",
      "metadata": {
        "id": "C2mN8TwMqwZY"
      },
      "source": [
        "2.1.2) Execute the query\n"
      ]
    },
    {
      "cell_type": "code",
      "execution_count": null,
      "metadata": {
        "id": "9wN0KDpgnA5e"
      },
      "outputs": [],
      "source": [
        "query='new york'"
      ]
    },
    {
      "cell_type": "code",
      "execution_count": null,
      "metadata": {
        "colab": {
          "base_uri": "https://localhost:8080/",
          "height": 269
        },
        "id": "v0c8zxCmnMS0",
        "outputId": "de659695-abde-48b3-ed87-fd0e59c71193"
      },
      "outputs": [
        {
          "output_type": "execute_result",
          "data": {
            "text/plain": [
              "                                   placeName  \\\n",
              "0                          City Hall Station   \n",
              "18  Roosevelt Island Smallpox Hospital Ruins   \n",
              "19                Eastern State Penitentiary   \n",
              "36               Explorers Club Headquarters   \n",
              "37                                 Mapparium   \n",
              "47                          5 Beekman Street   \n",
              "50                     Lexington Candy Shop    \n",
              "\n",
              "                                            placeDesc  \\\n",
              "0   \\n\\nThe first New York City subway was built a...   \n",
              "18  \\n\\nFew diseases have had a greater impact on ...   \n",
              "19  \\n\\nThrust into the middle of urban Philadephi...   \n",
              "36  \\n\\nBehind impressive heavy doors and ornate t...   \n",
              "37  \\n\\nIn the early 1930s, Boston architect Chest...   \n",
              "47  \\n\\nIn New York City, where space seems to be ...   \n",
              "50  \\n\\nFor those looking for a taste of old New Y...   \n",
              "\n",
              "                                             placeURL  \n",
              "0   https://www.atlasobscura.com/places/city-hall-...  \n",
              "18  https://www.atlasobscura.com/places/roosevelt-...  \n",
              "19  https://www.atlasobscura.com/places/eastern-st...  \n",
              "36  https://www.atlasobscura.com/places/explorers-...  \n",
              "37      https://www.atlasobscura.com/places/mapparium  \n",
              "47  https://www.atlasobscura.com/places/5-beekman-...  \n",
              "50  https://www.atlasobscura.com/places/the-lexing...  "
            ],
            "text/html": [
              "\n",
              "  <div id=\"df-9341026d-d21d-4a66-b8a9-4fa63d2d93a8\">\n",
              "    <div class=\"colab-df-container\">\n",
              "      <div>\n",
              "<style scoped>\n",
              "    .dataframe tbody tr th:only-of-type {\n",
              "        vertical-align: middle;\n",
              "    }\n",
              "\n",
              "    .dataframe tbody tr th {\n",
              "        vertical-align: top;\n",
              "    }\n",
              "\n",
              "    .dataframe thead th {\n",
              "        text-align: right;\n",
              "    }\n",
              "</style>\n",
              "<table border=\"1\" class=\"dataframe\">\n",
              "  <thead>\n",
              "    <tr style=\"text-align: right;\">\n",
              "      <th></th>\n",
              "      <th>placeName</th>\n",
              "      <th>placeDesc</th>\n",
              "      <th>placeURL</th>\n",
              "    </tr>\n",
              "  </thead>\n",
              "  <tbody>\n",
              "    <tr>\n",
              "      <th>0</th>\n",
              "      <td>City Hall Station</td>\n",
              "      <td>\\n\\nThe first New York City subway was built a...</td>\n",
              "      <td>https://www.atlasobscura.com/places/city-hall-...</td>\n",
              "    </tr>\n",
              "    <tr>\n",
              "      <th>18</th>\n",
              "      <td>Roosevelt Island Smallpox Hospital Ruins</td>\n",
              "      <td>\\n\\nFew diseases have had a greater impact on ...</td>\n",
              "      <td>https://www.atlasobscura.com/places/roosevelt-...</td>\n",
              "    </tr>\n",
              "    <tr>\n",
              "      <th>19</th>\n",
              "      <td>Eastern State Penitentiary</td>\n",
              "      <td>\\n\\nThrust into the middle of urban Philadephi...</td>\n",
              "      <td>https://www.atlasobscura.com/places/eastern-st...</td>\n",
              "    </tr>\n",
              "    <tr>\n",
              "      <th>36</th>\n",
              "      <td>Explorers Club Headquarters</td>\n",
              "      <td>\\n\\nBehind impressive heavy doors and ornate t...</td>\n",
              "      <td>https://www.atlasobscura.com/places/explorers-...</td>\n",
              "    </tr>\n",
              "    <tr>\n",
              "      <th>37</th>\n",
              "      <td>Mapparium</td>\n",
              "      <td>\\n\\nIn the early 1930s, Boston architect Chest...</td>\n",
              "      <td>https://www.atlasobscura.com/places/mapparium</td>\n",
              "    </tr>\n",
              "    <tr>\n",
              "      <th>47</th>\n",
              "      <td>5 Beekman Street</td>\n",
              "      <td>\\n\\nIn New York City, where space seems to be ...</td>\n",
              "      <td>https://www.atlasobscura.com/places/5-beekman-...</td>\n",
              "    </tr>\n",
              "    <tr>\n",
              "      <th>50</th>\n",
              "      <td>Lexington Candy Shop</td>\n",
              "      <td>\\n\\nFor those looking for a taste of old New Y...</td>\n",
              "      <td>https://www.atlasobscura.com/places/the-lexing...</td>\n",
              "    </tr>\n",
              "  </tbody>\n",
              "</table>\n",
              "</div>\n",
              "      <button class=\"colab-df-convert\" onclick=\"convertToInteractive('df-9341026d-d21d-4a66-b8a9-4fa63d2d93a8')\"\n",
              "              title=\"Convert this dataframe to an interactive table.\"\n",
              "              style=\"display:none;\">\n",
              "        \n",
              "  <svg xmlns=\"http://www.w3.org/2000/svg\" height=\"24px\"viewBox=\"0 0 24 24\"\n",
              "       width=\"24px\">\n",
              "    <path d=\"M0 0h24v24H0V0z\" fill=\"none\"/>\n",
              "    <path d=\"M18.56 5.44l.94 2.06.94-2.06 2.06-.94-2.06-.94-.94-2.06-.94 2.06-2.06.94zm-11 1L8.5 8.5l.94-2.06 2.06-.94-2.06-.94L8.5 2.5l-.94 2.06-2.06.94zm10 10l.94 2.06.94-2.06 2.06-.94-2.06-.94-.94-2.06-.94 2.06-2.06.94z\"/><path d=\"M17.41 7.96l-1.37-1.37c-.4-.4-.92-.59-1.43-.59-.52 0-1.04.2-1.43.59L10.3 9.45l-7.72 7.72c-.78.78-.78 2.05 0 2.83L4 21.41c.39.39.9.59 1.41.59.51 0 1.02-.2 1.41-.59l7.78-7.78 2.81-2.81c.8-.78.8-2.07 0-2.86zM5.41 20L4 18.59l7.72-7.72 1.47 1.35L5.41 20z\"/>\n",
              "  </svg>\n",
              "      </button>\n",
              "      \n",
              "  <style>\n",
              "    .colab-df-container {\n",
              "      display:flex;\n",
              "      flex-wrap:wrap;\n",
              "      gap: 12px;\n",
              "    }\n",
              "\n",
              "    .colab-df-convert {\n",
              "      background-color: #E8F0FE;\n",
              "      border: none;\n",
              "      border-radius: 50%;\n",
              "      cursor: pointer;\n",
              "      display: none;\n",
              "      fill: #1967D2;\n",
              "      height: 32px;\n",
              "      padding: 0 0 0 0;\n",
              "      width: 32px;\n",
              "    }\n",
              "\n",
              "    .colab-df-convert:hover {\n",
              "      background-color: #E2EBFA;\n",
              "      box-shadow: 0px 1px 2px rgba(60, 64, 67, 0.3), 0px 1px 3px 1px rgba(60, 64, 67, 0.15);\n",
              "      fill: #174EA6;\n",
              "    }\n",
              "\n",
              "    [theme=dark] .colab-df-convert {\n",
              "      background-color: #3B4455;\n",
              "      fill: #D2E3FC;\n",
              "    }\n",
              "\n",
              "    [theme=dark] .colab-df-convert:hover {\n",
              "      background-color: #434B5C;\n",
              "      box-shadow: 0px 1px 3px 1px rgba(0, 0, 0, 0.15);\n",
              "      filter: drop-shadow(0px 1px 2px rgba(0, 0, 0, 0.3));\n",
              "      fill: #FFFFFF;\n",
              "    }\n",
              "  </style>\n",
              "\n",
              "      <script>\n",
              "        const buttonEl =\n",
              "          document.querySelector('#df-9341026d-d21d-4a66-b8a9-4fa63d2d93a8 button.colab-df-convert');\n",
              "        buttonEl.style.display =\n",
              "          google.colab.kernel.accessAllowed ? 'block' : 'none';\n",
              "\n",
              "        async function convertToInteractive(key) {\n",
              "          const element = document.querySelector('#df-9341026d-d21d-4a66-b8a9-4fa63d2d93a8');\n",
              "          const dataTable =\n",
              "            await google.colab.kernel.invokeFunction('convertToInteractive',\n",
              "                                                     [key], {});\n",
              "          if (!dataTable) return;\n",
              "\n",
              "          const docLinkHtml = 'Like what you see? Visit the ' +\n",
              "            '<a target=\"_blank\" href=https://colab.research.google.com/notebooks/data_table.ipynb>data table notebook</a>'\n",
              "            + ' to learn more about interactive tables.';\n",
              "          element.innerHTML = '';\n",
              "          dataTable['output_type'] = 'display_data';\n",
              "          await google.colab.output.renderOutput(dataTable, element);\n",
              "          const docLink = document.createElement('div');\n",
              "          docLink.innerHTML = docLinkHtml;\n",
              "          element.appendChild(docLink);\n",
              "        }\n",
              "      </script>\n",
              "    </div>\n",
              "  </div>\n",
              "  "
            ]
          },
          "metadata": {},
          "execution_count": 519
        }
      ],
      "source": [
        "def Query(query):\n",
        "  query_out={}\n",
        "  l=[]\n",
        "  q=[]\n",
        "  p=[]\n",
        "  list_query=list(query.split())\n",
        "  for i in list_query:\n",
        "    for j in range(dfx.shape[0]):\n",
        "      if i in dfx.placeDesc[j]:\n",
        "        l.append(dfx.ID[j])\n",
        "\n",
        "  for c in range(len(list_query)):\n",
        "    c=list(Counter(l).values())\n",
        "    for d in range(len(c)):\n",
        "      if c[d] ==len(list_query):\n",
        "        q.append(l[d])\n",
        "\n",
        "  for number in q:\n",
        "     query_out[number]=df[['placeName','placeDesc', 'placeURL']].iloc[number]\n",
        "  queryout=pd.DataFrame.from_dict(query_out)\n",
        "  return queryout.T\n",
        "Query(query)"
      ]
    },
    {
      "cell_type": "markdown",
      "metadata": {
        "id": "KtvW7RqFr-Lh"
      },
      "source": [
        "##***2.2) Conjunctive query & Ranking score***"
      ]
    },
    {
      "cell_type": "code",
      "execution_count": null,
      "metadata": {
        "id": "NFS9_sQEh4KD"
      },
      "outputs": [],
      "source": [
        "import numpy as np\n",
        "import math\n",
        "from numpy.linalg import norm \n",
        "import sys"
      ]
    },
    {
      "cell_type": "markdown",
      "source": [
        "We can define the <b>IDF</b>, inverse document frequency, in this way:</p>\n",
        "\n",
        "<p>$IDF = log_{10}\\left(\\frac{N_d}{n_d}\\right)$</p>\n",
        "\n",
        "<p>where $N_d$ is the total number of documents and $n_d$ the number of documents containing the word</p>"
      ],
      "metadata": {
        "id": "ht8R1EOYPbAT"
      }
    },
    {
      "cell_type": "code",
      "execution_count": null,
      "metadata": {
        "colab": {
          "base_uri": "https://localhost:8080/"
        },
        "id": "Td81To0_O58t",
        "outputId": "058b656f-4271-4c9a-8ba2-a6b7a9559044"
      },
      "outputs": [
        {
          "output_type": "execute_result",
          "data": {
            "text/plain": [
              "0.11270428019128831"
            ]
          },
          "metadata": {},
          "execution_count": 521
        }
      ],
      "source": [
        "def idx(query):\n",
        "  all=Query(query)\n",
        "  num_doc=all.shape[0]\n",
        "  idf=1+np.log10(num_doc/dfx.shape[0])\n",
        "  return idf\n",
        "\n",
        "idx(query)"
      ]
    },
    {
      "cell_type": "markdown",
      "source": [
        "The TF_Q is the relative frequency of the words in the query"
      ],
      "metadata": {
        "id": "wzRSjbYtPva7"
      }
    },
    {
      "cell_type": "code",
      "execution_count": null,
      "metadata": {
        "colab": {
          "base_uri": "https://localhost:8080/"
        },
        "id": "2xg1H65pqQtU",
        "outputId": "067c0af1-ace2-4ed6-868d-81907265ec2b"
      },
      "outputs": [
        {
          "output_type": "execute_result",
          "data": {
            "text/plain": [
              "[0.5, 0.5]"
            ]
          },
          "metadata": {},
          "execution_count": 522
        }
      ],
      "source": [
        "def tf_query(query):\n",
        "  true_query=list(query.split())\n",
        "  freq=[]\n",
        "  for i in range(len(true_query)):\n",
        "      freq_ass=list(Counter(true_query).values())\n",
        "  for i in freq_ass:\n",
        "    freq.append(i/len(true_query))\n",
        "  \n",
        "  return freq\n",
        "\n",
        "\n",
        "tf_query(query)"
      ]
    },
    {
      "cell_type": "markdown",
      "source": [
        "The TF_D is the relative frequency of the words of the query in each document"
      ],
      "metadata": {
        "id": "jaTEhfNzP4cC"
      }
    },
    {
      "cell_type": "code",
      "execution_count": null,
      "metadata": {
        "colab": {
          "base_uri": "https://localhost:8080/"
        },
        "id": "Ema7iHF9tCog",
        "outputId": "a2edf84e-325d-416e-b264-0cddfedea8db"
      },
      "outputs": [
        {
          "output_type": "stream",
          "name": "stdout",
          "text": [
            "[[1.5, 0.5], [0.5, 0.5], [1.0, 1.0], [1.5, 1.5], [0.5, 0.5], [0.5, 0.5], [1.0, 1.0]]\n"
          ]
        }
      ],
      "source": [
        "def tf_doc(query):\n",
        "  query_out={}\n",
        "  l=[]\n",
        "  q=[]\n",
        "  p=[]\n",
        "  list_query=list(query.split())\n",
        "  for i in list_query:\n",
        "    for j in range(dfx.shape[0]):\n",
        "      if i in dfx.placeDesc[j]:\n",
        "        l.append(dfx.ID[j])\n",
        "\n",
        "  for c in range(len(list_query)):\n",
        "    c=list(Counter(l).values())\n",
        "    for d in range(len(c)):\n",
        "      if c[d] ==len(list_query):\n",
        "        q.append(l[d])\n",
        "\n",
        "  for number in q:\n",
        "     query_out[number]=dfx[['placeDesc']].iloc[number]\n",
        "  queryout=pd.DataFrame.from_dict(query_out)\n",
        "  dataf=queryout.T\n",
        "\n",
        "  freq=[]\n",
        "  freq_rel=[]\n",
        "  c=[]\n",
        "  for j in range(len(list_query)):\n",
        "    for i in range(dataf.shape[0]):\n",
        "      freq.append(Counter(dataf.placeDesc.iloc[i])[list_query[j]])\n",
        "  for j in freq:\n",
        "    freq_rel.append(j/len(list_query))\n",
        "  freq_re=[freq_rel[i:i + len(list_query)] for i in range(0, len(freq_rel), len(list_query))]\n",
        "  \n",
        "  return freq_re\n",
        "\n",
        "\n",
        "print(tf_doc(query))"
      ]
    },
    {
      "cell_type": "markdown",
      "source": [
        "The tfidf correspond to:\n",
        "\n",
        "$TFIDF = TF_D \\cdot IDF$"
      ],
      "metadata": {
        "id": "dnnWJ_gEQHov"
      }
    },
    {
      "cell_type": "code",
      "execution_count": null,
      "metadata": {
        "colab": {
          "base_uri": "https://localhost:8080/"
        },
        "id": "xxv2SfjUoTLG",
        "outputId": "58e60e3c-17e3-4cac-8946-b9e77d41af81"
      },
      "outputs": [
        {
          "output_type": "stream",
          "name": "stdout",
          "text": [
            "[[0.16905642 0.05635214]\n",
            " [0.05635214 0.05635214]\n",
            " [0.11270428 0.11270428]\n",
            " [0.16905642 0.16905642]\n",
            " [0.05635214 0.05635214]\n",
            " [0.05635214 0.05635214]\n",
            " [0.11270428 0.11270428]]\n"
          ]
        }
      ],
      "source": [
        "def tfidf(query): \n",
        "  tf_d=np.array(tf_doc(query))\n",
        "  idx_out=idx(query)\n",
        "  tfidf_d=np.dot(tf_d, idx_out)\n",
        "  tf_p=np.array(tf_query(query))\n",
        "  tfidf_p=np.dot(tf_p, idx_out)\n",
        "  return tfidf_q,tfidf_d\n",
        "query = 'new york'\n",
        "tfidf_q,tfidf_d = tfidf(query)\n",
        "print(tfidf_d)"
      ]
    },
    {
      "cell_type": "markdown",
      "source": [
        "We compute the similarity between the query and each one of the document as the cosine:</p>\n",
        "\n",
        "$ cos(\\theta) = (\\vec{q} \\cdot \\vec{d})/(|{\\vec{q}}| \\cdot |{\\vec{d}}|)$\n"
      ],
      "metadata": {
        "id": "OOmqMSr-Qdxu"
      }
    },
    {
      "cell_type": "code",
      "execution_count": null,
      "metadata": {
        "colab": {
          "base_uri": "https://localhost:8080/"
        },
        "id": "B8Ups2r6xGSe",
        "outputId": "669f70a9-b3fa-447c-bee7-b2993d80bc60"
      },
      "outputs": [
        {
          "output_type": "stream",
          "name": "stdout",
          "text": [
            "[0.8944271909999157, 0.9999999999999999, 0.9999999999999999, 1.0, 0.9999999999999999, 0.9999999999999999, 0.9999999999999999]\n"
          ]
        }
      ],
      "source": [
        "def cos_similarity(query):\n",
        "    tfidf_q,tfidf_d=tfidf(query)\n",
        "    cos=[]\n",
        "    num=[]\n",
        "    den=[]\n",
        "    all=Query(query)\n",
        "\n",
        "\n",
        "    for i in range(len(tfidf_d)):\n",
        "      num.append(np.dot(tfidf_d[i], np.array(tfidf_q)))\n",
        "      den.append(np.linalg.norm(tfidf_d[i])*np.linalg.norm(tfidf_q))\n",
        "      cos.append(num[i]/den[i])\n",
        "\n",
        "    return cos\n",
        "\n",
        "print(cos_similarity(query))\n"
      ]
    },
    {
      "cell_type": "markdown",
      "metadata": {
        "id": "JN_ezbALoDBM"
      },
      "source": [
        "2.2.1) Inverted index"
      ]
    },
    {
      "cell_type": "code",
      "source": [
        "tfidf_q,tfidf_d = tfidf(query)\n",
        "inverted_index2={}\n",
        "\n",
        "query='new york'\n",
        "list_id=[]\n",
        "list_tuple=[]\n",
        "id=[]\n",
        "true_query=list(query.split())\n",
        "for i in true_query:\n",
        "  if i in vocabulary.keys():\n",
        "    list_id.append(vocabulary[str(i)])\n",
        "\n",
        "\n",
        "\n",
        "for i in range(len(tfidf_d.T)):\n",
        "  for j in range(len(tfidf_d.T[i])):\n",
        "    list_tuple.append((all.index[j],tfidf_d.T[i][j]))\n",
        "\n",
        "output=[list_tuple[i:i +  all.shape[0]] for i in range(0, len(list_tuple), all.shape[0])]\n",
        "\n",
        "\n",
        "for i in range(len(list_id)):\n",
        "  inverted_index2[i]=[]\n",
        "  inverted_index2[i]=(output[i])\n",
        "print(inverted_index2)\n",
        "\n",
        "\n"
      ],
      "metadata": {
        "colab": {
          "base_uri": "https://localhost:8080/"
        },
        "id": "V8aFLhb7n_bh",
        "outputId": "543f5fa2-ce1f-40ec-83fe-42d22653251b"
      },
      "execution_count": null,
      "outputs": [
        {
          "output_type": "stream",
          "name": "stdout",
          "text": [
            "{0: [(0, 0.16905642028693246), (18, 0.056352140095644154), (19, 0.11270428019128831), (36, 0.16905642028693246), (37, 0.056352140095644154), (47, 0.056352140095644154), (50, 0.11270428019128831)], 1: [(0, 0.056352140095644154), (18, 0.056352140095644154), (19, 0.11270428019128831), (36, 0.16905642028693246), (37, 0.056352140095644154), (47, 0.056352140095644154), (50, 0.11270428019128831)]}\n"
          ]
        }
      ]
    },
    {
      "cell_type": "markdown",
      "metadata": {
        "id": "fLPg8n6jqa30"
      },
      "source": [
        "2.2.2) Execute the query"
      ]
    },
    {
      "cell_type": "code",
      "execution_count": null,
      "metadata": {
        "id": "QR4Q6E3OePsI"
      },
      "outputs": [],
      "source": [
        "k=10\n",
        "sim=cos_similarity(query)\n",
        "all['similarity']=sim\n",
        "all_sort=all.sort_values(by=['similarity'], ascending=False)\n",
        "all_sort.head(k)\n",
        "\n"
      ]
    },
    {
      "cell_type": "markdown",
      "metadata": {
        "id": "x6eFFKAlhe1l"
      },
      "source": [
        "#***6. Command line question***\n",
        "\n",
        "\n",
        "\n",
        "*   How many places can be found in each country?"
      ]
    },
    {
      "cell_type": "markdown",
      "metadata": {
        "id": "QJkLPPDEhkap"
      },
      "source": [
        "grep -c \"United States\" dataframe.tsv\n",
        "\n",
        "grep -c \"Spain\" dataframe.tsv\n",
        "\n",
        "grep -c \"France\" dataframe.tsv\n",
        "\n",
        "grep -c \"England\" dataframe.tsv"
      ]
    },
    {
      "cell_type": "markdown",
      "metadata": {
        "id": "lIq5VJSuiIE9"
      },
      "source": [
        "* How many people, on average, have visited the places in each country?"
      ]
    },
    {
      "cell_type": "markdown",
      "metadata": {
        "id": "zgpEI1MkiK3b"
      },
      "source": [
        "cut -f4,5,8 dataframe.tsv | grep \"Italy\" > Italy.tsv | awk '{s+=$1} END {print s/NR}' Italy.tsv\n",
        "\n",
        "cut -f4,5,8 dataframe.tsv | grep \"Spain\" > Spain.tsv |awk '{s+=$1} END {print s/NR}' Spain.tsv\n",
        "\n",
        "cut -f4,5,8 dataframe.tsv | grep \"France\" > France.tsv | awk '{s+=$1} END {print s/NR}' France.tsv\n",
        "\n",
        "cut -f4,5,8 dataframe.tsv | grep \"England\" > England.tsv | awk '{s+=$1} END {print s/NR}' Englend.tsv\n",
        "\n",
        "cut -f4,5,8 dataframe.tsv | grep \"United States\" > US.tsv | awk '{s+=$1} END {print s/NR}' US.tsv\n"
      ]
    },
    {
      "cell_type": "markdown",
      "source": [
        "* How many people in total want to visit the places in each country?"
      ],
      "metadata": {
        "id": "3dFrjOpT2tyy"
      }
    },
    {
      "cell_type": "markdown",
      "source": [
        "cut -f4,5,8 dataframe.tsv | grep \"Italy\" > Italy.tsv | awk '{s+=$2} END {print s}' Italy.tsv\n",
        "\n",
        "cut -f4,5,8 dataframe.tsv | grep \"Spain\" > Spain.tsv |awk '{s+=$2} END {print s}' Spain.tsv\n",
        "\n",
        "cut -f4,5,8 dataframe.tsv | grep \"France\" > France.tsv | awk '{s+=$2} END {print s}' France.tsv\n",
        "\n",
        "cut -f4,5,8 dataframe.tsv | grep \"England\" > England.tsv | awk '{s+=$2} END {print s}' Englend.tsv\n",
        "\n",
        "cut -f4,5,8 dataframe.tsv | grep \"United States\" > US.tsv | awk '{s+=$2} END {print s}' US.tsv\n"
      ],
      "metadata": {
        "id": "FYMx-FIN2uXb"
      }
    },
    {
      "cell_type": "markdown",
      "source": [
        "**7 Theoratical Question**"
      ],
      "metadata": {
        "id": "FY7x65n0LQhy"
      }
    },
    {
      "cell_type": "markdown",
      "source": [
        "Sorting"
      ],
      "metadata": {
        "id": "OpiDGBwTLlTv"
      }
    },
    {
      "cell_type": "markdown",
      "source": [
        "Insertion Sort"
      ],
      "metadata": {
        "id": "qMPI_4PDLm1R"
      }
    },
    {
      "cell_type": "code",
      "source": [
        "import numpy as np\n",
        "import pandas as pd\n",
        "import time\n",
        "import matplotlib.pyplot as plt"
      ],
      "metadata": {
        "id": "o02qTehtKepm"
      },
      "execution_count": 1,
      "outputs": []
    },
    {
      "cell_type": "code",
      "source": [
        "data = open('ApplicantsInfo.txt').readlines()"
      ],
      "metadata": {
        "id": "fSm4GLuTKipA"
      },
      "execution_count": null,
      "outputs": []
    },
    {
      "cell_type": "code",
      "source": [
        "m = 1000\n",
        "n = 50000\n",
        "\n",
        "def averg(stds):\n",
        "    marks = [int(i) for i in stds if i.isdigit()]\n",
        "    avg = sum(marks) / len(marks)\n",
        "    return avg\n",
        "\n",
        "avg=[]\n",
        "for i in range(1, n):\n",
        "    stds=data[i].split()\n",
        "    line=stds[0:2]\n",
        "    line.append(averg(stds))\n",
        "    avg.append(line)\n",
        "    "
      ],
      "metadata": {
        "id": "HCT3uPlSKln0"
      },
      "execution_count": null,
      "outputs": []
    },
    {
      "cell_type": "code",
      "source": [
        "N = len(avg)"
      ],
      "metadata": {
        "id": "Sk_FFiX8Ktms"
      },
      "execution_count": null,
      "outputs": []
    },
    {
      "cell_type": "code",
      "source": [
        "\n",
        "def InsertionSort(avg, N):\n",
        "    for i in (range(N)):\n",
        "            c=0\n",
        "            while (c<i and avg[c][1] >= avg[i][1]): \n",
        "                if (avg[c][1] == avg[i][1]) & (avg[c][0] > avg[i][0]):\n",
        "                    avg[c], avg[i] = avg[i], avg[c]\n",
        "                c+=1\n",
        "            temp=avg[i]  \n",
        "            avg.insert(c,temp)\n",
        "            c+=1\n",
        "    return avg\n",
        "start=time.time()\n",
        "InsertionSort(avg, N)\n",
        "end=time.time()\n",
        "totalIS= start - end"
      ],
      "metadata": {
        "id": "dOG9z3hvKm9d"
      },
      "execution_count": null,
      "outputs": []
    },
    {
      "cell_type": "markdown",
      "source": [
        "$\\textbf{Time complexity}$\n",
        "\n",
        "$T(N)=\\sum_{i=1}^N i$\n",
        "\n",
        "$T(N)= \\frac{(N+1)k}{2}$\n",
        "\n",
        "$T(N)=O(N^2)$"
      ],
      "metadata": {
        "id": "4mP-iMYmKvym"
      }
    },
    {
      "cell_type": "markdown",
      "source": [
        "Bubble Sort"
      ],
      "metadata": {
        "id": "eu5QmtVEK0Gl"
      }
    },
    {
      "cell_type": "code",
      "source": [
        "def BubbleSort(avg, N):\n",
        "    for i in range(N): \n",
        "        for j in range(i): \n",
        "            if avg[j][2] >= avg[j+1][2]: \n",
        "                if avg[j][2] == avg[j+1][2]: \n",
        "                    if avg[j][0] >= avg[j+1][0]: \n",
        "                        if avg[j][0] == avg[j+1][0]:\n",
        "                            if avg[j][1] > avg[j+1][1]:\n",
        "                                avg[j] , avg[j+1] = avg[j+1] , avg[j] \n",
        "                        else:\n",
        "                            avg[j] , avg[j+1] = avg[j+1] , avg[j] \n",
        "                else:\n",
        "                    avg[j] , avg[j+1] = avg[j+1] , avg[j]\n",
        "    return avg\n",
        "\n",
        "start=time.time()\n",
        "BubbleSort(avg, N)\n",
        "end=time.time()\n",
        "totalBS= start - end"
      ],
      "metadata": {
        "id": "xCKP-497Kxud"
      },
      "execution_count": null,
      "outputs": []
    },
    {
      "cell_type": "markdown",
      "source": [
        "$\\textbf{Time complexity}$\n",
        "\n",
        "$T(N)=\\sum_{i=1}^N N-i$\n",
        "\n",
        "$T(N)=\\sum_{i=1}^N i$\n",
        "\n",
        "$T(N)= \\frac{(N+1)N}{2} $\n",
        "\n",
        "$T(N)=O(N^2)$\n",
        "\n"
      ],
      "metadata": {
        "id": "N5dDPlMpK2bf"
      }
    },
    {
      "cell_type": "markdown",
      "source": [
        "Selection Sort"
      ],
      "metadata": {
        "id": "Dvl0o7JMK5yB"
      }
    },
    {
      "cell_type": "code",
      "source": [
        "def SelectionSort(avg, N):\n",
        "    for i in range(N):\n",
        "        lw = i \n",
        "        for j in range(i+1, N):\n",
        "            if avg[j][1]> avg[lw][1]:\n",
        "                lw =j\n",
        "            if avg[j][1]== avg[lw][1]:\n",
        "                    if avg[j][0] < avg[lw][0]:\n",
        "                        temp1 = avg[j]\n",
        "                        avg[j] = avg[lw]\n",
        "                        avg[lw] = temp1\n",
        "        avg[i], avg[lw] = avg[lw], avg[i]\n",
        "    return avg\n",
        "\n",
        "start=time.time()\n",
        "SelectionSort(avg, N)\n",
        "end=time.time()\n",
        "totalSS= start - end"
      ],
      "metadata": {
        "id": "bVJuR7wcK4Zx"
      },
      "execution_count": null,
      "outputs": []
    },
    {
      "cell_type": "markdown",
      "source": [
        "$\\textbf{Time complexity}$\n",
        "\n",
        "$T(N)=\\sum_{i=1}^N N-i $\n",
        "\n",
        "$T(N)=\\sum_{i=1}^N i$\n",
        "\n",
        "$T(N)= \\frac{(N+1)N}{2}$\n",
        "\n",
        "$T(N)=O(N^2)$"
      ],
      "metadata": {
        "id": "R0t5B6g3LAx2"
      }
    },
    {
      "cell_type": "markdown",
      "source": [
        "$\\textbf{Evaluate the time taken for each of your implementations to answer the query stored in the ApplicantsInfo.txt file and visualize them.}$"
      ],
      "metadata": {
        "id": "dY_QerXSLFJX"
      }
    },
    {
      "cell_type": "code",
      "source": [
        "data = {'Insertion Sort':totalIS, 'Bubble Sort':totalBS, 'Selection Sort':totalSS}\n",
        "fig = plt.figure(figsize = (10, 5))\n",
        "plt.bar(data.keys(), data.values(), width = 0.4)"
      ],
      "metadata": {
        "id": "LyEphsN5K5Rp"
      },
      "execution_count": null,
      "outputs": []
    },
    {
      "cell_type": "markdown",
      "source": [
        "$\\textbf{What is the most optimal algorithm, in your opinion, and why?}$\n",
        "\n",
        "Comparing Selection sort and insertion sort, insertion sort is better since we can change positions many time. \n",
        "Bubble sort gets even slower if the dataset is huge sor it is worse then both.\n"
      ],
      "metadata": {
        "id": "6yfFdnUWLJlz"
      }
    }
  ],
  "metadata": {
    "colab": {
      "provenance": []
    },
    "kernelspec": {
      "display_name": "Python 3",
      "name": "python3"
    },
    "language_info": {
      "name": "python"
    }
  },
  "nbformat": 4,
  "nbformat_minor": 0
}